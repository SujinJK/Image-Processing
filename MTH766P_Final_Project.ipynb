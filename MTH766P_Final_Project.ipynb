{
 "cells": [
  {
   "cell_type": "markdown",
   "id": "3e790581",
   "metadata": {
    "deletable": false,
    "editable": false,
    "nbgrader": {
     "cell_type": "markdown",
     "checksum": "c111831df33f9c4ac89e2df64b685a31",
     "grade": false,
     "grade_id": "cell-faad52516183d82b",
     "locked": true,
     "schema_version": 3,
     "solution": false,
     "task": false
    }
   },
   "source": [
    "# MTH766P: Programming in Python"
   ]
  },
  {
   "cell_type": "markdown",
   "id": "e9539d2d",
   "metadata": {
    "deletable": false,
    "editable": false,
    "nbgrader": {
     "cell_type": "markdown",
     "checksum": "eabec49443725348e7c6e7614b2939d2",
     "grade": false,
     "grade_id": "cell-669698eeb3dda49c",
     "locked": true,
     "schema_version": 3,
     "solution": false,
     "task": false
    }
   },
   "source": [
    "**Please answer all the questions below by writing your own Python code. Using or copy-pasting pre-existing code from any source is not permitted, and will be considered as _plagiarism_ and addressed according to College Regulations. You are not allowed to collaborate with other students or ask for help from any other source, including, but not limited to, online forums or ChatGPT. By submitting your Notebook via QMPlus, you confirm that you have followed these rules and that the submitted code is your own work. Upon violation, you will fail this test with zero marks.**"
   ]
  },
  {
   "cell_type": "markdown",
   "id": "6f2c1cba",
   "metadata": {
    "deletable": false,
    "editable": false,
    "nbgrader": {
     "cell_type": "markdown",
     "checksum": "88a22b19bcf0456fba33bfedd52ff8bd",
     "grade": false,
     "grade_id": "cell-8ad2e8a299d73208",
     "locked": true,
     "schema_version": 3,
     "solution": false,
     "task": false
    }
   },
   "source": [
    "### General instructions"
   ]
  },
  {
   "cell_type": "markdown",
   "id": "3bc0b7c2",
   "metadata": {
    "deletable": false,
    "editable": false,
    "nbgrader": {
     "cell_type": "markdown",
     "checksum": "fbc13249d36d1e0a03b45b1263fe97c5",
     "grade": false,
     "grade_id": "cell-301929a2c741f444",
     "locked": true,
     "schema_version": 3,
     "solution": false,
     "task": false
    }
   },
   "source": [
    "First, enter your **Full Name** and **Student ID** in the corresponding markdown fields in the section \"Student information\" below.\n",
    "Then read the exercises and try to work out a solution.\n",
    "\n",
    "For **Markdown** exercises, **replace all occurrences of** `YOUR ANSWER HERE` **by valid Markdown** to answer the question.\n",
    "\n",
    "For **coding** exercises,\n",
    "**replace all occurrences of**\n",
    "```python\n",
    "### YOUR CODE HERE\n",
    "raise NotImplementedError()\n",
    "```\n",
    "**by valid Python code** to solve the problem.\n",
    "In your solution, you can **only use** built-in Python functions and **functions from modules that you have been explicitly instructed to import**.\n",
    "Importing other modules is not allowed and will result in withdrawal of the corresponding marks.\n",
    "If your code produces an error and you cannot fix it, write a comment to show that you are aware of the problem and indicate possible causes if you can.\n",
    "You can get **partial credit**, so even if you cannot solve an exercise completely, try to answer as much as you can.\n",
    "\n",
    "Finally, before you turn this problem in, make sure everything runs as expected. First, **restart the kernel** (in the menubar, select Kernel$\\rightarrow$Restart Kernel) and then **run all cells** (in the menubar, select Cell$\\rightarrow$Run All (Jupyter Notebook Version 6) or Run$\\rightarrow$Run All Cells (Jupyter Notebook Version 7)). Please **do not change the file name** when you upload your Notebook to QMPlus."
   ]
  },
  {
   "cell_type": "markdown",
   "id": "0c4f677c",
   "metadata": {
    "deletable": false,
    "editable": false,
    "nbgrader": {
     "cell_type": "markdown",
     "checksum": "e67c2aacdfb16f79a387e7f7fd8d5c7d",
     "grade": false,
     "grade_id": "cell-e7b69fea9a7a1734",
     "locked": true,
     "schema_version": 3,
     "solution": false,
     "task": false
    }
   },
   "source": [
    "### Student information"
   ]
  },
  {
   "cell_type": "markdown",
   "id": "4f35cb29",
   "metadata": {
    "deletable": false,
    "editable": false,
    "nbgrader": {
     "cell_type": "markdown",
     "checksum": "4841ca5052c0703a056ca72e8395fc42",
     "grade": false,
     "grade_id": "cell-1f09dbc6e8d652e7",
     "locked": true,
     "schema_version": 3,
     "solution": false,
     "task": false
    }
   },
   "source": [
    "**Full Name:**"
   ]
  },
  {
   "cell_type": "markdown",
   "id": "4a2c5a98",
   "metadata": {
    "deletable": false,
    "nbgrader": {
     "cell_type": "markdown",
     "checksum": "35f36ea821e79d488d384bd03249318e",
     "grade": true,
     "grade_id": "cell-00b98d0b37884d54",
     "locked": false,
     "points": 0,
     "schema_version": 3,
     "solution": true,
     "task": false
    }
   },
   "source": [
    "Sujin Sundar Jegadheesan Kannan"
   ]
  },
  {
   "cell_type": "markdown",
   "id": "090684db",
   "metadata": {
    "deletable": false,
    "editable": false,
    "nbgrader": {
     "cell_type": "markdown",
     "checksum": "6e6d36fc99a58db51181a446e1aed13d",
     "grade": false,
     "grade_id": "cell-7d75d92406f00b79",
     "locked": true,
     "schema_version": 3,
     "solution": false,
     "task": false
    }
   },
   "source": [
    "**Student ID:**"
   ]
  },
  {
   "cell_type": "markdown",
   "id": "ae5216b4",
   "metadata": {
    "deletable": false,
    "nbgrader": {
     "cell_type": "markdown",
     "checksum": "463a81072db2a0453a40be92f22cb6ab",
     "grade": true,
     "grade_id": "cell-8e28eace01a51818",
     "locked": false,
     "points": 0,
     "schema_version": 3,
     "solution": true,
     "task": false
    }
   },
   "source": [
    "230252424"
   ]
  },
  {
   "cell_type": "markdown",
   "id": "53cde6cb",
   "metadata": {
    "deletable": false,
    "editable": false,
    "nbgrader": {
     "cell_type": "markdown",
     "checksum": "6a1289eeac76d52b851899b109699913",
     "grade": false,
     "grade_id": "cell-6c661fe50b2ed9a6",
     "locked": true,
     "schema_version": 3,
     "solution": false,
     "task": false
    }
   },
   "source": [
    "---"
   ]
  },
  {
   "cell_type": "markdown",
   "id": "a613dc44-fc4c-45bd-9a68-9a48250010b1",
   "metadata": {
    "deletable": false,
    "editable": false,
    "nbgrader": {
     "cell_type": "markdown",
     "checksum": "8888c34a15aa156660dcf8b0a3a1ce1b",
     "grade": false,
     "grade_id": "cell-4f50a789fb04bbbc",
     "locked": true,
     "schema_version": 3,
     "solution": false,
     "task": false
    }
   },
   "source": [
    "# Independent Project Assignment"
   ]
  },
  {
   "cell_type": "markdown",
   "id": "1fa195be-a158-4f7d-b43d-f641dba99383",
   "metadata": {
    "deletable": false,
    "editable": false,
    "nbgrader": {
     "cell_type": "markdown",
     "checksum": "aaa10956dc4d79c168d36ba7340a80a2",
     "grade": false,
     "grade_id": "cell-c5e7c8bdcf028da4",
     "locked": true,
     "schema_version": 3,
     "solution": false,
     "task": false
    }
   },
   "source": [
    "## Important information"
   ]
  },
  {
   "cell_type": "markdown",
   "id": "a06d144d-79a3-45d6-9f03-bfc03e3a41f6",
   "metadata": {
    "deletable": false,
    "editable": false,
    "nbgrader": {
     "cell_type": "markdown",
     "checksum": "b49e369efdf337bdfee52b7cae9145ef",
     "grade": false,
     "grade_id": "cell-aa7850fd25432c44",
     "locked": true,
     "schema_version": 3,
     "solution": false,
     "task": false
    }
   },
   "source": [
    "**Read the following information carefully before turning to the actual exercises. Some aspects of this final project assignment will be handled differently from the in-term exams.**"
   ]
  },
  {
   "cell_type": "markdown",
   "id": "a51a0921-79dc-4256-bfdf-10ad0219309f",
   "metadata": {
    "deletable": false,
    "editable": false,
    "nbgrader": {
     "cell_type": "markdown",
     "checksum": "8b2956b22de2add2c1de5f8b3c067eae",
     "grade": false,
     "grade_id": "cell-73bbf131282af5b7",
     "locked": true,
     "schema_version": 3,
     "solution": false,
     "task": false
    }
   },
   "source": [
    "### Contribution\n",
    "\n",
    "This final project assignment is scored on a scale of 100 marks and will contribute **50 % of your final mark** for this module."
   ]
  },
  {
   "cell_type": "markdown",
   "id": "2a4b8ad3-e055-4962-b681-6dbdace2ced3",
   "metadata": {
    "deletable": false,
    "editable": false,
    "nbgrader": {
     "cell_type": "markdown",
     "checksum": "b414d7697880db985236d9c80a50f522",
     "grade": false,
     "grade_id": "cell-d2f3d7ee6c86dfd8",
     "locked": true,
     "schema_version": 3,
     "solution": false,
     "task": false
    }
   },
   "source": [
    "### Submission details\n",
    "\n",
    "This project is due by **Friday, 12 January 2024, 17:00 GMT**.\n",
    "Submissions received after this deadline will be treated in accordance with the College Regulations for late submissions: Up to seven days after the deadline, late submissions will incur a penalty of 5 % of the total marks per 24 hours (or a fraction thereof). For example, a submission received on 13/01/2024 at 18:00 GMT (25 hours after the deadline) will result in a deduction of 10 marks. Any submission received more than 168 hours after the deadline will receive zero marks.\n",
    "\n",
    "The lecturer will be available to answer reasonable questions about this assignment until **Friday, 5 January 2024, 17:00 GMT**. You can contact the lecturer by email ([l.dabelow@qmul.ac.uk](mailto:l.dabelow@qmul.ac.uk)).\n",
    "\n",
    "You must use this Jupyter Notebook to answer all exercises. You are not allowed to remove any cells from this notebook. You can add Markdown or code cells as needed.\n",
    "\n",
    "You must submit this Jupyter Notebook through QMPlus, using the submission system for this assignment. You cannot submit your attempt in any other way. Files sent by other means, including email, will not be considered.\n",
    "\n",
    "You cannot submit any additional files apart from this Jupyter Notebook. The ZIP file you downloaded contains various auxiliary files that you will need for the exercises. However, there is no need to upload these auxiliary files. The original versions of these files will be merged into your submission automatically."
   ]
  },
  {
   "cell_type": "markdown",
   "id": "9c60e412-7921-44fe-a3cd-7d3393ad3f95",
   "metadata": {
    "deletable": false,
    "editable": false,
    "nbgrader": {
     "cell_type": "markdown",
     "checksum": "bda495ad2580a3b374420f124422aaad",
     "grade": false,
     "grade_id": "cell-d6058d1c8da0989a",
     "locked": true,
     "schema_version": 3,
     "solution": false,
     "task": false
    }
   },
   "source": [
    "### Coding style\n",
    "\n",
    "#### General recommendations\n",
    "\n",
    "When you are asked to write code, follow the best-practice approach introduced in the lectures.\n",
    "Start by thinking what the code should do and what the steps to achieve this are _without_ writing any code at first. It will be a good idea to map out your strategy using appropriate comments. Then fill in the code to implement your strategy.\n",
    "\n",
    "#### Comments\n",
    "\n",
    "Comments are an essential part of programming.\n",
    "Use appropriate comments to explain the reasoning behind your code.\n",
    "\n",
    "#### Variables\n",
    "\n",
    "Use the variable names specified in each exercise when writing your code.\n",
    "For any additional variables you define, choose meaningful, concise names.\n",
    "\n",
    "#### Functions\n",
    "\n",
    "Use the function names specified in each exercise when writing your code.\n",
    "For every function, include a docstring that briefly explains what the function does, what its arguments are, and what value(s) it returns.\n",
    "\n",
    "It is perfectly fine if you define extra auxiliary functions to carry out a task. This is to say, even if the exercise only asks you to write a function `example_function`, you are free to add other functions like `example_function_aux`, `some_other_function`, ... and use them in your implementation of `example_function`.\n",
    "Choose meaningful names for all auxiliary functions, too."
   ]
  },
  {
   "cell_type": "markdown",
   "id": "1b50089c-2c95-4bd8-9d06-7ef086745be8",
   "metadata": {
    "deletable": false,
    "editable": false,
    "nbgrader": {
     "cell_type": "markdown",
     "checksum": "1e03b1c2047a52c10d50f6bd48ac4d94",
     "grade": false,
     "grade_id": "cell-c35cb4ef22edc86a",
     "locked": true,
     "schema_version": 3,
     "solution": false,
     "task": false
    }
   },
   "source": [
    "### Assessment criteria\n",
    "\n",
    "The first thing I will do to evaluate your submission is to clear all outputs and run the entire notebook from the beginning to the end. It is your responsibility to ensure that the code produces **no errors**. Contrary to the in-term assessments, I will not try to fix any errors when assessing your work because you have several weeks to develop this project. Instead, you will receive **zero marks for any exercises where the code cell raises an error**. If you run into an error and do not know how to fix it, comment out the critical line of code and any subsequent ones that depend on it. Add a remark indicating that you are aware of the problem and potential reasons.\n",
    "\n",
    "If you do not know how to implement a certain operation in Python,\n",
    "add a comment and explain in plain English (and in sufficient detail) what you would like to do.\n",
    "You may receive partial credit for expedient ideas formulated in this way.\n",
    "\n",
    "As indicated in the exercise headings below, roughly **20 % of the marks** for each coding exercise will be awarded for **coding style**. This includes the use of appropriate variable names, suitable comments to explain complex sequences of operations, and docstrings for functions.\n",
    "This is to say, even if your code is fully functional and solves the exercise, you may lose marks if the reasoning is not explained properly."
   ]
  },
  {
   "cell_type": "markdown",
   "id": "138ba91e-f8cf-4804-9fe2-36328f9039db",
   "metadata": {
    "deletable": false,
    "editable": false,
    "nbgrader": {
     "cell_type": "markdown",
     "checksum": "ee68cb7281cdec50ef49c56c6937ae59",
     "grade": false,
     "grade_id": "cell-43178781de20f851",
     "locked": true,
     "schema_version": 3,
     "solution": false,
     "task": false
    }
   },
   "source": [
    "### Admitted features and imports\n",
    "\n",
    "As in the in-term exams, you are free to use any Python concepts or features that are built into the language. Furthermore, you can use the _numpy_ and _matplotlib.pyplot_ packages.\n",
    "Please run the following code cell to import these two modules.\n",
    "**You must not import any additional modules in any of the code you write.**"
   ]
  },
  {
   "cell_type": "code",
   "execution_count": null,
   "id": "d86dd649-5f2e-4dab-bbdf-b530f2313aa6",
   "metadata": {
    "deletable": false,
    "editable": false,
    "nbgrader": {
     "cell_type": "code",
     "checksum": "4f912c72cbe8ee073ed1769b40df5a8d",
     "grade": false,
     "grade_id": "cell-82e87c69d50e1ac0",
     "locked": true,
     "schema_version": 3,
     "solution": false,
     "task": false
    }
   },
   "outputs": [],
   "source": [
    "import numpy as np\n",
    "import matplotlib.pyplot as plt"
   ]
  },
  {
   "cell_type": "markdown",
   "id": "29e75593-6c91-4a44-98c6-b2ff76c32fe8",
   "metadata": {
    "deletable": false,
    "editable": false,
    "nbgrader": {
     "cell_type": "markdown",
     "checksum": "8a733db3267504da54fcbc782c6c958b",
     "grade": false,
     "grade_id": "cell-f18a7e40687770a9",
     "locked": true,
     "schema_version": 3,
     "solution": false,
     "task": false
    }
   },
   "source": [
    "---"
   ]
  },
  {
   "cell_type": "markdown",
   "id": "11d00491-74f4-4a9f-9d59-e681d1230a47",
   "metadata": {
    "deletable": false,
    "editable": false,
    "nbgrader": {
     "cell_type": "markdown",
     "checksum": "96d2a436ee5000f3e317c2b0489809d1",
     "grade": false,
     "grade_id": "cell-c4bf186b5574b3c0",
     "locked": true,
     "schema_version": 3,
     "solution": false,
     "task": false
    }
   },
   "source": [
    "## Introduction"
   ]
  },
  {
   "cell_type": "markdown",
   "id": "2debcc46-af13-408e-8e6f-f249243457aa",
   "metadata": {
    "deletable": false,
    "editable": false,
    "nbgrader": {
     "cell_type": "markdown",
     "checksum": "cbf2de78079899f288490189a7748624",
     "grade": false,
     "grade_id": "cell-202daaa034f1c886",
     "locked": true,
     "schema_version": 3,
     "solution": false,
     "task": false
    }
   },
   "source": [
    "In this project, you are going to develop a few tools for basic image manipulation.\n",
    "\n",
    "A digital image is a two-dimensional array or matrix of _pixels_. Each **pixel** has a _color_ and represents a tiny, monochromatic, square patch of the full image. A common way to encode **colors** is to specify them as a mixture of the basic colors _red_ (R), _green_ (G), and _blue_ (B). These are also known as the **channels** and we will work with an image format where each channel for each pixel takes a float value between 0 and 1, known as the **brightness** of the channel. Here 0 means that the corresponding basic color is completely dark, whereas 1 means that it is maximally bright.\n",
    "The following table lists a few examples of common standard colors (in the PDF version, the text color of the bullet points in the \"Color\" column may not reflect the correct color):\n",
    "\n",
    "| R | G | B | Color |\n",
    "|---|---|---|---|\n",
    "| 0 | 0 | 0 | <span style='color:#000000;'>&#9679;</span> black |\n",
    "| 1 | 0 | 0 | <span style='color:#FF0000;'>&#9679;</span> red |\n",
    "| 0 | 1 | 0 | <span style='color:#00FF00;'>&#9679;</span> green |\n",
    "| 0 | 0 | 1 | <span style='color:#0000FF;'>&#9679;</span> blue |\n",
    "| 1 | 1 | 0 | <span style='color:#FFFF00;'>&#9679;</span> yellow |\n",
    "| 0.5 | 0 | 0.5 | <span style='color:#800080;'>&#9679;</span> purple |\n",
    "| 0.5 | 0.5 | 0.5 | <span style='color:#808080;'>&#9679;</span> gray |\n",
    "| 1 | 1 | 1 | <span style='color:#FFFFFF;'>&#9679;</span> white |"
   ]
  },
  {
   "cell_type": "markdown",
   "id": "836af81b-964f-4322-af57-064f27f7d3ca",
   "metadata": {
    "deletable": false,
    "editable": false,
    "nbgrader": {
     "cell_type": "markdown",
     "checksum": "7bde811a3fabdebd026a35a3f2666311",
     "grade": false,
     "grade_id": "cell-b7cfc08d332b08f9",
     "locked": true,
     "schema_version": 3,
     "solution": false,
     "task": false
    }
   },
   "source": [
    "Throughout this project, we will use numpy arrays to process the image data in Python.\n",
    "In our standard format, the images are represented by _three-dimensional_ arrays,\n",
    "i.e., arrays taking three indices.\n",
    "The first index corresponds to the row (vertical position) of the pixel,\n",
    "the second index corresponds to its column (horizontal position),\n",
    "and the third index indicates the color channel of the pixel (0 for R, 1 for G, 2 for B).\n",
    "The full image will thus be an array of shape `(height, width, 3)`,\n",
    "where `height` and `width` are the number of pixels in the vertical and horizontal directions, respectively.\n",
    "\n",
    "For example, assume that we have an image whose pixel in the 4th row and 10th column has RGB color `(0.25, 0.7, 1.0)`.\n",
    "The corresponding row index is `3`, the column index is `9`, and the numpy array will have values\n",
    "```python\n",
    "image[3, 9, 0] = 0.25 # red channel of pixel (3, 9)\n",
    "image[3, 9, 1] = 0.7 # green channel of pixel (3, 9)\n",
    "image[3, 9, 2] = 1.0 # blue channel of pixel (3, 9)\n",
    "```\n",
    "to indicate the R, G, and B values of the pixel at position `(3,9)`."
   ]
  },
  {
   "cell_type": "markdown",
   "id": "7c937c3e-040c-4531-a5c3-c387c1172ea6",
   "metadata": {
    "deletable": false,
    "editable": false,
    "nbgrader": {
     "cell_type": "markdown",
     "checksum": "e7429f1a661dc41312be377637d88834",
     "grade": false,
     "grade_id": "cell-8d434407512d3a57",
     "locked": true,
     "schema_version": 3,
     "solution": false,
     "task": false
    }
   },
   "source": [
    "## Exercise 1: Loading and saving images [30 marks]"
   ]
  },
  {
   "cell_type": "markdown",
   "id": "71474398-1277-42bb-a7d4-4af44ec7d2a1",
   "metadata": {
    "deletable": false,
    "editable": false,
    "nbgrader": {
     "cell_type": "markdown",
     "checksum": "94c3d8f31e029f315eb1c2be83d128cb",
     "grade": false,
     "grade_id": "cell-c20a33d8c1c253d0",
     "locked": true,
     "schema_version": 3,
     "solution": false,
     "task": false
    }
   },
   "source": [
    "You will know that there are numerous existing formats for storing images in files, such as JPG, PNG, GIF, BMP, ... These formats are all binary and some of them use special compression algorithms to store the image information more efficiently than just providing the RGB values of all pixels. For this exercise, however, we will use our own, very simple, text-based format which does precisely this, it is just a text file with the red, green, and blue values of each pixel."
   ]
  },
  {
   "cell_type": "markdown",
   "id": "b2cf8b34-69d8-4445-96d4-4cbff2bf5c11",
   "metadata": {
    "deletable": false,
    "editable": false,
    "nbgrader": {
     "cell_type": "markdown",
     "checksum": "c6bc1edae6bc6ef94d3d442e1b8b2b27",
     "grade": false,
     "grade_id": "cell-f88845c0eef01d1d",
     "locked": true,
     "schema_version": 3,
     "solution": false,
     "task": false
    }
   },
   "source": [
    "### (a) Channel-wise import [5 marks (incl. 1 mark for coding style)]\n",
    "\n",
    "In the notebook directory, you will find three files named `queens_building.R.txt`, `queens_building.G.txt`, and `queens_building.B.txt`. These contain the R, G, and B channels, respectively, of an inside view of Queens' Building at Mile End Campus.\n",
    "For example, in the file `queens_building.R.txt`, every number gives the brightness level of the red channel of one pixel.\n",
    "Every line in the file represents a row of pixels, and within each row, the columns are separated by whitespaces.\n",
    "In other words, the $j$th number in the $i$th line of the file is the brightness of the red channel of the pixel $(i, j)$.\n",
    "Similarly, `queens_building.G.txt` and `queens_building.B.txt` contain the brightness values of the green and blue channels, respectively.\n",
    "\n",
    "**Note:** If you open the files with a text editor, you may not see line breaks depending on your operating system (and your text editor). Unfortunately, Windows uses different conventions for how to represent line breaks than Mac OS X and Linux. However, you don't need to worry too much about this, Python will see the line breaks regardless of what your operating system is. So if you read the file using a suitable Python function, you should definitely find different lines.\n",
    "\n",
    "Write some Python code that loads the contents of the three files `queens_building.R.txt`, `queens_building.G.txt`, and `queens_building.B.txt` into numpy arrays `image_R`, `image_G`, and `image_B`, respectively.\n",
    "Then combine the data of the R, G, and B channels into a single, three-dimensional numpy array `image` as sketched in the introduction:\n",
    "The first and second indices of the array `image` should refer to the position of the pixel (row and column) and the third index should refer to the channel (`R=0`, `G=1`, `B=2`).\n",
    "For example, the entry `image[5, 8, 1]` should be the brightness of the green channel (third index is `1`) of the pixel in the 6th row (first index is `5`) and 9th column (second index is `8`)."
   ]
  },
  {
   "cell_type": "code",
   "execution_count": null,
   "id": "54531dc5-d090-41b8-b44d-4ce784b1b685",
   "metadata": {
    "deletable": false,
    "nbgrader": {
     "cell_type": "code",
     "checksum": "073022d706be1e50be0b34f0ac1875a7",
     "grade": true,
     "grade_id": "cell-a5ba52cc94ad3d10",
     "locked": false,
     "points": 5,
     "schema_version": 3,
     "solution": true,
     "task": false
    }
   },
   "outputs": [],
   "source": [
    "# loading contents of R,G,B text files into corresponding variables of numpy array type\n",
    "image_R = np.loadtxt('queens_building.R.txt')\n",
    "image_G = np.loadtxt('queens_building.G.txt')\n",
    "image_B = np.loadtxt('queens_building.B.txt')\n",
    "\n",
    "# Combining the data of R,G and B channels into a single 3 dimensional numpy array using np.dstack\n",
    "image = np.dstack([image_R, image_G, image_B])\n",
    "# we can also use np.stack but we have to make sure that we provide the one left shifted column\n",
    "# image = np.stack([image_R, image_G, image_B],axis = -1)\n",
    "\n",
    "# Print the shape of the resulting image array\n",
    "print(\"Shape of the image array:\", image.shape)\n"
   ]
  },
  {
   "cell_type": "markdown",
   "id": "e5455319-1842-4546-88f6-15e775c43d5d",
   "metadata": {
    "deletable": false,
    "editable": false,
    "nbgrader": {
     "cell_type": "markdown",
     "checksum": "6f86fed0098f9a04dec1ca7474edd0ef",
     "grade": false,
     "grade_id": "cell-cd3cdee2700b0436",
     "locked": true,
     "schema_version": 3,
     "solution": false,
     "task": false
    }
   },
   "source": [
    "### (b) Displaying images [3 marks (incl. 0 marks for coding style)]\n",
    "\n",
    "Display the imported image using the `matplotlib.pyplot.imshow` function.\n",
    "(To check that your import function works correctly, you will find a JPG version of the image, `queens_building.jpg`, in the notebook folder, which you can open with your favorite image viewer.)"
   ]
  },
  {
   "cell_type": "code",
   "execution_count": null,
   "id": "1746d228-542f-43d0-b70f-50d9be06a2d2",
   "metadata": {
    "deletable": false,
    "nbgrader": {
     "cell_type": "code",
     "checksum": "6dbce8b6d8fb8519dc00420025139ab2",
     "grade": true,
     "grade_id": "cell-2470c0dd448eae8d",
     "locked": false,
     "points": 3,
     "schema_version": 3,
     "solution": true,
     "task": false
    }
   },
   "outputs": [],
   "source": [
    "# Displaying the imported Queens Building image\n",
    "plt.imshow(image)\n",
    "plt.title('Queens Building')\n",
    "plt.show()"
   ]
  },
  {
   "cell_type": "markdown",
   "id": "9be6f848-efa3-4d58-8006-e22248a19f17",
   "metadata": {
    "deletable": false,
    "editable": false,
    "nbgrader": {
     "cell_type": "markdown",
     "checksum": "143a52a406ea6f2a77bc8b34d150c39f",
     "grade": false,
     "grade_id": "cell-b1b621315bf0ae6d",
     "locked": true,
     "schema_version": 3,
     "solution": false,
     "task": false
    }
   },
   "source": [
    "**Note:** If you did not manage to import the Queens' building image correctly from the channel data in part (a), please uncomment the second line in the following code cell.\n",
    "This will define an alternative image (the Jupyter logo) which you can use for the following exercises."
   ]
  },
  {
   "cell_type": "code",
   "execution_count": null,
   "id": "cfe56a1a-c59b-4cdd-9665-ad0f81e0dba6",
   "metadata": {},
   "outputs": [],
   "source": [
    "# # Uncomment the following line of code if you did not manage to import the Queens' Building image.\n",
    "# image = np.array([[[1.0,1.0,1.0],[1.0,1.0,1.0],[1.0,1.0,1.0],[1.0,1.0,1.0],[1.0,1.0,1.0],[1.0,1.0,1.0],[1.0,1.0,1.0],[1.0,1.0,1.0],[1.0,1.0,1.0],[1.0,1.0,1.0],[1.0,1.0,1.0],[1.0,1.0,1.0],[1.0,1.0,1.0],[1.0,1.0,1.0],[1.0,1.0,1.0],[1.0,1.0,1.0],[1.0,1.0,1.0],[1.0,1.0,1.0],[1.0,1.0,1.0],[1.0,1.0,1.0],[1.0,1.0,1.0],[1.0,1.0,1.0],[1.0,1.0,1.0],[1.0,1.0,1.0],[1.0,1.0,1.0],[1.0,1.0,1.0],[1.0,1.0,1.0],[1.0,1.0,1.0],[1.0,1.0,1.0],[1.0,1.0,1.0],[1.0,1.0,1.0],[1.0,1.0,1.0],[1.0,1.0,1.0],[1.0,1.0,1.0],[1.0,1.0,1.0],[1.0,1.0,1.0],[1.0,1.0,1.0],[1.0,1.0,1.0],[1.0,1.0,1.0],[1.0,1.0,1.0],[1.0,1.0,1.0],[1.0,1.0,1.0],[1.0,1.0,1.0],[1.0,1.0,1.0],[1.0,1.0,1.0],[1.0,1.0,1.0],[1.0,1.0,1.0],[1.0,1.0,1.0],[1.0,1.0,1.0],[1.0,1.0,1.0],[1.0,1.0,1.0],[1.0,1.0,1.0],[1.0,1.0,1.0],[1.0,1.0,1.0],[1.0,1.0,1.0],[1.0,1.0,1.0],[1.0,1.0,1.0],[1.0,1.0,1.0],[1.0,1.0,1.0],[1.0,1.0,1.0],[1.0,1.0,1.0],[1.0,1.0,1.0],[0.9843137264251709,0.9843137264251709,0.9843137264251709],[0.8392156958580017,0.8392156958580017,0.8392156958580017],[0.7098039388656616,0.7098039388656616,0.7098039388656616],[0.6509804129600525,0.6509804129600525,0.6549019813537598],[0.729411780834198,0.729411780834198,0.7333333492279053],[0.8784313797950745,0.8784313797950745,0.8784313797950745],[1.0,1.0,1.0],[1.0,1.0,1.0],[1.0,1.0,1.0],[1.0,1.0,1.0],[1.0,1.0,1.0],[1.0,1.0,1.0],[1.0,1.0,1.0],[1.0,1.0,1.0],[1.0,1.0,1.0],[1.0,1.0,1.0]],[[1.0,1.0,1.0],[1.0,1.0,1.0],[1.0,1.0,1.0],[1.0,1.0,1.0],[1.0,1.0,1.0],[1.0,1.0,1.0],[1.0,1.0,1.0],[1.0,1.0,1.0],[1.0,1.0,1.0],[1.0,1.0,1.0],[1.0,1.0,1.0],[1.0,1.0,1.0],[1.0,1.0,1.0],[1.0,1.0,1.0],[1.0,1.0,1.0],[1.0,1.0,1.0],[1.0,1.0,1.0],[1.0,1.0,1.0],[1.0,1.0,1.0],[1.0,1.0,1.0],[1.0,1.0,1.0],[1.0,1.0,1.0],[1.0,1.0,1.0],[1.0,1.0,1.0],[1.0,1.0,1.0],[1.0,1.0,1.0],[1.0,1.0,1.0],[1.0,1.0,1.0],[1.0,1.0,1.0],[1.0,1.0,1.0],[1.0,1.0,1.0],[1.0,1.0,1.0],[1.0,1.0,1.0],[1.0,1.0,1.0],[1.0,1.0,1.0],[1.0,1.0,1.0],[1.0,1.0,1.0],[1.0,1.0,1.0],[1.0,1.0,1.0],[1.0,1.0,1.0],[1.0,1.0,1.0],[1.0,1.0,1.0],[1.0,1.0,1.0],[1.0,1.0,1.0],[1.0,1.0,1.0],[1.0,1.0,1.0],[1.0,1.0,1.0],[1.0,1.0,1.0],[1.0,1.0,1.0],[1.0,1.0,1.0],[1.0,1.0,1.0],[1.0,1.0,1.0],[1.0,1.0,1.0],[1.0,1.0,1.0],[1.0,1.0,1.0],[1.0,1.0,1.0],[1.0,1.0,1.0],[1.0,1.0,1.0],[1.0,1.0,1.0],[1.0,1.0,1.0],[1.0,1.0,1.0],[0.9254902005195618,0.9254902005195618,0.9254902005195618],[0.5647059082984924,0.5647059082984924,0.5686274766921997],[0.4627451002597809,0.4627451002597809,0.46666666865348816],[0.4627451002597809,0.4627451002597809,0.46666666865348816],[0.4627451002597809,0.4627451002597809,0.46666666865348816],[0.4627451002597809,0.4627451002597809,0.46666666865348816],[0.4627451002597809,0.4627451002597809,0.46666666865348816],[0.6509804129600525,0.6509804129600525,0.6549019813537598],[0.9725490212440491,0.9725490212440491,0.9725490212440491],[1.0,1.0,1.0],[1.0,1.0,1.0],[1.0,1.0,1.0],[1.0,1.0,1.0],[1.0,1.0,1.0],[1.0,1.0,1.0],[1.0,1.0,1.0],[1.0,1.0,1.0]],[[1.0,1.0,1.0],[1.0,1.0,1.0],[1.0,1.0,1.0],[1.0,1.0,1.0],[1.0,1.0,1.0],[1.0,1.0,1.0],[1.0,1.0,1.0],[1.0,1.0,1.0],[1.0,1.0,1.0],[1.0,1.0,1.0],[1.0,1.0,1.0],[1.0,1.0,1.0],[1.0,1.0,1.0],[1.0,1.0,1.0],[1.0,1.0,1.0],[1.0,1.0,1.0],[1.0,1.0,1.0],[1.0,1.0,1.0],[1.0,1.0,1.0],[1.0,1.0,1.0],[1.0,1.0,1.0],[1.0,1.0,1.0],[1.0,1.0,1.0],[1.0,1.0,1.0],[1.0,1.0,1.0],[1.0,1.0,1.0],[1.0,1.0,1.0],[1.0,1.0,1.0],[1.0,1.0,1.0],[1.0,1.0,1.0],[1.0,1.0,1.0],[1.0,1.0,1.0],[1.0,1.0,1.0],[1.0,1.0,1.0],[1.0,1.0,1.0],[1.0,1.0,1.0],[1.0,1.0,1.0],[1.0,1.0,1.0],[1.0,1.0,1.0],[1.0,1.0,1.0],[1.0,1.0,1.0],[1.0,1.0,1.0],[1.0,1.0,1.0],[1.0,1.0,1.0],[1.0,1.0,1.0],[1.0,1.0,1.0],[1.0,1.0,1.0],[1.0,1.0,1.0],[1.0,1.0,1.0],[1.0,1.0,1.0],[1.0,1.0,1.0],[1.0,1.0,1.0],[1.0,1.0,1.0],[1.0,1.0,1.0],[1.0,1.0,1.0],[1.0,1.0,1.0],[1.0,1.0,1.0],[1.0,1.0,1.0],[1.0,1.0,1.0],[1.0,1.0,1.0],[0.95686274766922,0.95686274766922,0.95686274766922],[0.5254902243614197,0.5254902243614197,0.529411792755127],[0.4627451002597809,0.4627451002597809,0.46666666865348816],[0.4627451002597809,0.4627451002597809,0.46666666865348816],[0.4627451002597809,0.4627451002597809,0.46666666865348816],[0.4627451002597809,0.4627451002597809,0.46666666865348816],[0.4627451002597809,0.4627451002597809,0.46666666865348816],[0.4627451002597809,0.4627451002597809,0.46666666865348816],[0.4627451002597809,0.4627451002597809,0.46666666865348816],[0.6392157077789307,0.6392157077789307,0.6392157077789307],[0.9960784316062927,0.9960784316062927,0.9960784316062927],[1.0,1.0,1.0],[1.0,1.0,1.0],[1.0,1.0,1.0],[1.0,1.0,1.0],[1.0,1.0,1.0],[1.0,1.0,1.0],[1.0,1.0,1.0]],[[1.0,1.0,1.0],[1.0,1.0,1.0],[1.0,1.0,1.0],[1.0,1.0,1.0],[1.0,1.0,1.0],[1.0,1.0,1.0],[1.0,1.0,1.0],[1.0,1.0,1.0],[1.0,1.0,1.0],[1.0,1.0,1.0],[1.0,1.0,1.0],[1.0,1.0,1.0],[1.0,1.0,1.0],[1.0,1.0,1.0],[1.0,1.0,1.0],[1.0,1.0,1.0],[1.0,1.0,1.0],[1.0,1.0,1.0],[1.0,1.0,1.0],[1.0,1.0,1.0],[1.0,1.0,1.0],[1.0,1.0,1.0],[1.0,1.0,1.0],[1.0,1.0,1.0],[1.0,1.0,1.0],[1.0,1.0,1.0],[1.0,1.0,1.0],[1.0,1.0,1.0],[1.0,1.0,1.0],[1.0,1.0,1.0],[1.0,1.0,1.0],[1.0,1.0,1.0],[1.0,1.0,1.0],[1.0,1.0,1.0],[1.0,1.0,1.0],[1.0,1.0,1.0],[1.0,1.0,1.0],[1.0,1.0,1.0],[1.0,1.0,1.0],[1.0,1.0,1.0],[1.0,1.0,1.0],[1.0,1.0,1.0],[1.0,1.0,1.0],[1.0,1.0,1.0],[1.0,1.0,1.0],[1.0,1.0,1.0],[1.0,1.0,1.0],[1.0,1.0,1.0],[1.0,1.0,1.0],[1.0,1.0,1.0],[1.0,1.0,1.0],[1.0,1.0,1.0],[1.0,1.0,1.0],[1.0,1.0,1.0],[1.0,1.0,1.0],[1.0,1.0,1.0],[1.0,1.0,1.0],[1.0,1.0,1.0],[1.0,1.0,1.0],[1.0,1.0,1.0],[0.7254902124404907,0.7254902124404907,0.729411780834198],[0.4627451002597809,0.4627451002597809,0.46666666865348816],[0.4627451002597809,0.4627451002597809,0.46666666865348816],[0.4627451002597809,0.4627451002597809,0.46666666865348816],[0.4627451002597809,0.4627451002597809,0.46666666865348816],[0.4627451002597809,0.4627451002597809,0.46666666865348816],[0.4627451002597809,0.4627451002597809,0.46666666865348816],[0.4627451002597809,0.4627451002597809,0.46666666865348816],[0.4627451002597809,0.4627451002597809,0.46666666865348816],[0.4627451002597809,0.4627451002597809,0.46666666865348816],[0.8549019694328308,0.8549019694328308,0.8549019694328308],[1.0,1.0,1.0],[1.0,1.0,1.0],[1.0,1.0,1.0],[1.0,1.0,1.0],[1.0,1.0,1.0],[1.0,1.0,1.0],[1.0,1.0,1.0]],[[1.0,1.0,1.0],[1.0,1.0,1.0],[1.0,1.0,1.0],[1.0,1.0,1.0],[1.0,1.0,1.0],[1.0,1.0,1.0],[1.0,1.0,1.0],[1.0,1.0,1.0],[1.0,1.0,1.0],[1.0,1.0,1.0],[1.0,1.0,1.0],[1.0,1.0,1.0],[1.0,1.0,1.0],[1.0,1.0,1.0],[1.0,1.0,1.0],[1.0,1.0,1.0],[1.0,1.0,1.0],[1.0,1.0,1.0],[1.0,1.0,1.0],[1.0,1.0,1.0],[1.0,1.0,1.0],[1.0,1.0,1.0],[1.0,1.0,1.0],[1.0,1.0,1.0],[1.0,1.0,1.0],[1.0,1.0,1.0],[1.0,1.0,1.0],[1.0,1.0,1.0],[1.0,1.0,1.0],[1.0,1.0,1.0],[1.0,1.0,1.0],[1.0,1.0,1.0],[1.0,1.0,1.0],[1.0,1.0,1.0],[1.0,1.0,1.0],[1.0,1.0,1.0],[1.0,1.0,1.0],[1.0,1.0,1.0],[1.0,1.0,1.0],[1.0,1.0,1.0],[1.0,1.0,1.0],[1.0,1.0,1.0],[1.0,1.0,1.0],[1.0,1.0,1.0],[1.0,1.0,1.0],[1.0,1.0,1.0],[1.0,1.0,1.0],[1.0,1.0,1.0],[1.0,1.0,1.0],[1.0,1.0,1.0],[1.0,1.0,1.0],[1.0,1.0,1.0],[1.0,1.0,1.0],[1.0,1.0,1.0],[1.0,1.0,1.0],[1.0,1.0,1.0],[1.0,1.0,1.0],[1.0,1.0,1.0],[1.0,1.0,1.0],[0.9960784316062927,0.9960784316062927,0.9960784316062927],[0.501960813999176,0.501960813999176,0.5058823823928833],[0.4627451002597809,0.4627451002597809,0.46666666865348816],[0.4627451002597809,0.4627451002597809,0.46666666865348816],[0.4627451002597809,0.4627451002597809,0.46666666865348816],[0.4627451002597809,0.4627451002597809,0.46666666865348816],[0.4627451002597809,0.4627451002597809,0.46666666865348816],[0.4627451002597809,0.4627451002597809,0.46666666865348816],[0.4627451002597809,0.4627451002597809,0.46666666865348816],[0.4627451002597809,0.4627451002597809,0.46666666865348816],[0.4627451002597809,0.4627451002597809,0.46666666865348816],[0.6823529601097107,0.6823529601097107,0.686274528503418],[1.0,1.0,1.0],[1.0,1.0,1.0],[1.0,1.0,1.0],[1.0,1.0,1.0],[1.0,1.0,1.0],[1.0,1.0,1.0],[1.0,1.0,1.0]],[[1.0,1.0,1.0],[1.0,1.0,1.0],[1.0,1.0,1.0],[1.0,1.0,1.0],[1.0,1.0,1.0],[1.0,1.0,1.0],[1.0,1.0,1.0],[1.0,1.0,1.0],[1.0,1.0,1.0],[1.0,1.0,1.0],[1.0,1.0,1.0],[1.0,1.0,1.0],[1.0,1.0,1.0],[1.0,1.0,1.0],[1.0,1.0,1.0],[1.0,1.0,1.0],[1.0,1.0,1.0],[1.0,1.0,1.0],[1.0,1.0,1.0],[1.0,1.0,1.0],[1.0,1.0,1.0],[1.0,1.0,1.0],[1.0,1.0,1.0],[1.0,1.0,1.0],[1.0,1.0,1.0],[1.0,1.0,1.0],[1.0,1.0,1.0],[1.0,1.0,1.0],[1.0,1.0,1.0],[1.0,1.0,1.0],[1.0,1.0,1.0],[1.0,1.0,1.0],[1.0,1.0,1.0],[1.0,1.0,1.0],[1.0,1.0,1.0],[1.0,1.0,1.0],[1.0,1.0,1.0],[1.0,1.0,1.0],[1.0,1.0,1.0],[1.0,1.0,1.0],[1.0,1.0,1.0],[1.0,1.0,1.0],[1.0,1.0,1.0],[1.0,1.0,1.0],[1.0,1.0,1.0],[1.0,1.0,1.0],[1.0,1.0,1.0],[1.0,1.0,1.0],[1.0,1.0,1.0],[1.0,1.0,1.0],[1.0,1.0,1.0],[1.0,1.0,1.0],[1.0,1.0,1.0],[1.0,1.0,1.0],[1.0,1.0,1.0],[1.0,1.0,1.0],[1.0,1.0,1.0],[1.0,1.0,1.0],[1.0,1.0,1.0],[0.9529411792755127,0.9529411792755127,0.9529411792755127],[0.4627451002597809,0.4627451002597809,0.46666666865348816],[0.4627451002597809,0.4627451002597809,0.46666666865348816],[0.4627451002597809,0.4627451002597809,0.46666666865348816],[0.4627451002597809,0.4627451002597809,0.46666666865348816],[0.4627451002597809,0.4627451002597809,0.46666666865348816],[0.4627451002597809,0.4627451002597809,0.46666666865348816],[0.4627451002597809,0.4627451002597809,0.46666666865348816],[0.4627451002597809,0.4627451002597809,0.46666666865348816],[0.4627451002597809,0.4627451002597809,0.46666666865348816],[0.4627451002597809,0.4627451002597809,0.46666666865348816],[0.6196078658103943,0.6196078658103943,0.6235294342041016],[1.0,1.0,1.0],[1.0,1.0,1.0],[1.0,1.0,1.0],[1.0,1.0,1.0],[1.0,1.0,1.0],[1.0,1.0,1.0],[1.0,1.0,1.0]],[[1.0,1.0,1.0],[1.0,1.0,1.0],[1.0,1.0,1.0],[1.0,1.0,1.0],[1.0,1.0,1.0],[1.0,1.0,1.0],[1.0,1.0,1.0],[1.0,1.0,1.0],[1.0,1.0,1.0],[1.0,1.0,1.0],[1.0,1.0,1.0],[1.0,1.0,1.0],[1.0,1.0,1.0],[1.0,1.0,1.0],[1.0,1.0,1.0],[1.0,1.0,1.0],[1.0,1.0,1.0],[1.0,1.0,1.0],[1.0,1.0,1.0],[1.0,1.0,1.0],[1.0,1.0,1.0],[1.0,1.0,1.0],[1.0,1.0,1.0],[1.0,1.0,1.0],[1.0,1.0,1.0],[1.0,1.0,1.0],[1.0,1.0,1.0],[1.0,1.0,1.0],[1.0,1.0,1.0],[1.0,1.0,1.0],[1.0,1.0,1.0],[1.0,1.0,1.0],[1.0,1.0,1.0],[1.0,1.0,1.0],[1.0,1.0,1.0],[1.0,1.0,1.0],[1.0,1.0,1.0],[1.0,1.0,1.0],[1.0,1.0,1.0],[1.0,1.0,1.0],[1.0,1.0,1.0],[1.0,1.0,1.0],[1.0,1.0,1.0],[1.0,1.0,1.0],[1.0,1.0,1.0],[1.0,1.0,1.0],[1.0,1.0,1.0],[1.0,1.0,1.0],[1.0,1.0,1.0],[1.0,1.0,1.0],[1.0,1.0,1.0],[1.0,1.0,1.0],[1.0,1.0,1.0],[1.0,1.0,1.0],[1.0,1.0,1.0],[1.0,1.0,1.0],[1.0,1.0,1.0],[1.0,1.0,1.0],[1.0,1.0,1.0],[0.9764705896377563,0.9764705896377563,0.9764705896377563],[0.4627451002597809,0.4627451002597809,0.46666666865348816],[0.4627451002597809,0.4627451002597809,0.46666666865348816],[0.4627451002597809,0.4627451002597809,0.46666666865348816],[0.4627451002597809,0.4627451002597809,0.46666666865348816],[0.4627451002597809,0.4627451002597809,0.46666666865348816],[0.4627451002597809,0.4627451002597809,0.46666666865348816],[0.4627451002597809,0.4627451002597809,0.46666666865348816],[0.4627451002597809,0.4627451002597809,0.46666666865348816],[0.4627451002597809,0.4627451002597809,0.46666666865348816],[0.4627451002597809,0.4627451002597809,0.46666666865348816],[0.6313725709915161,0.6313725709915161,0.6313725709915161],[1.0,1.0,1.0],[1.0,1.0,1.0],[1.0,1.0,1.0],[1.0,1.0,1.0],[1.0,1.0,1.0],[1.0,1.0,1.0],[1.0,1.0,1.0]],[[1.0,1.0,1.0],[1.0,1.0,1.0],[1.0,1.0,1.0],[1.0,1.0,1.0],[1.0,1.0,1.0],[1.0,1.0,1.0],[1.0,1.0,1.0],[1.0,1.0,1.0],[1.0,1.0,1.0],[1.0,1.0,1.0],[1.0,1.0,1.0],[1.0,1.0,1.0],[1.0,1.0,1.0],[1.0,1.0,1.0],[1.0,1.0,1.0],[1.0,1.0,1.0],[1.0,1.0,1.0],[1.0,1.0,1.0],[1.0,1.0,1.0],[1.0,1.0,1.0],[1.0,1.0,1.0],[1.0,1.0,1.0],[1.0,1.0,1.0],[1.0,1.0,1.0],[1.0,1.0,1.0],[1.0,1.0,1.0],[1.0,1.0,1.0],[1.0,1.0,1.0],[1.0,1.0,1.0],[1.0,1.0,1.0],[1.0,1.0,1.0],[1.0,1.0,1.0],[1.0,1.0,1.0],[1.0,1.0,1.0],[1.0,1.0,1.0],[1.0,1.0,1.0],[1.0,0.9960784316062927,0.9921568632125854],[1.0,0.9764705896377563,0.9725490212440491],[1.0,0.9686274528503418,0.9607843160629272],[1.0,0.9725490212440491,0.9647058844566345],[1.0,0.9803921580314636,0.9764705896377563],[1.0,1.0,1.0],[1.0,1.0,1.0],[1.0,1.0,1.0],[1.0,1.0,1.0],[1.0,1.0,1.0],[1.0,1.0,1.0],[1.0,1.0,1.0],[1.0,1.0,1.0],[1.0,1.0,1.0],[1.0,1.0,1.0],[1.0,1.0,1.0],[1.0,1.0,1.0],[1.0,1.0,1.0],[1.0,1.0,1.0],[1.0,1.0,1.0],[1.0,1.0,1.0],[1.0,1.0,1.0],[1.0,1.0,1.0],[1.0,1.0,1.0],[0.5960784554481506,0.5960784554481506,0.5960784554481506],[0.4627451002597809,0.4627451002597809,0.46666666865348816],[0.4627451002597809,0.4627451002597809,0.46666666865348816],[0.4627451002597809,0.4627451002597809,0.46666666865348816],[0.4627451002597809,0.4627451002597809,0.46666666865348816],[0.4627451002597809,0.4627451002597809,0.46666666865348816],[0.4627451002597809,0.4627451002597809,0.46666666865348816],[0.4627451002597809,0.4627451002597809,0.46666666865348816],[0.4627451002597809,0.4627451002597809,0.46666666865348816],[0.4627451002597809,0.4627451002597809,0.46666666865348816],[0.7647058963775635,0.7647058963775635,0.7686274647712708],[1.0,1.0,1.0],[1.0,1.0,1.0],[1.0,1.0,1.0],[1.0,1.0,1.0],[1.0,1.0,1.0],[1.0,1.0,1.0],[1.0,1.0,1.0]],[[1.0,1.0,1.0],[1.0,1.0,1.0],[1.0,1.0,1.0],[1.0,1.0,1.0],[1.0,1.0,1.0],[0.9921568632125854,0.9921568632125854,0.9921568632125854],[0.9725490212440491,0.9725490212440491,0.9725490212440491],[1.0,1.0,1.0],[1.0,1.0,1.0],[1.0,1.0,1.0],[1.0,1.0,1.0],[1.0,1.0,1.0],[1.0,1.0,1.0],[1.0,1.0,1.0],[1.0,1.0,1.0],[1.0,1.0,1.0],[1.0,1.0,1.0],[1.0,1.0,1.0],[1.0,1.0,1.0],[1.0,1.0,1.0],[1.0,1.0,1.0],[1.0,1.0,1.0],[1.0,1.0,1.0],[1.0,1.0,1.0],[1.0,1.0,1.0],[1.0,1.0,1.0],[1.0,1.0,1.0],[1.0,1.0,1.0],[1.0,1.0,1.0],[1.0,1.0,1.0],[1.0,0.9529411792755127,0.9450980424880981],[0.9960784316062927,0.8627451062202454,0.8313725590705872],[0.9960784316062927,0.7686274647712708,0.7098039388656616],[0.9960784316062927,0.6705882549285889,0.5803921818733215],[0.9921568632125854,0.5882353186607361,0.45098039507865906],[0.9921568632125854,0.4901960790157318,0.250980406999588],[0.9921568632125854,0.43921568989753723,0.0],[0.9921568632125854,0.43921568989753723,0.0],[0.9921568632125854,0.43921568989753723,0.0],[0.9921568632125854,0.43921568989753723,0.0],[0.9921568632125854,0.43921568989753723,0.0],[0.9921568632125854,0.4431372582912445,0.05098039284348488],[0.9921568632125854,0.5215686559677124,0.32549020648002625],[0.9921568632125854,0.615686297416687,0.4941176474094391],[0.9960784316062927,0.7058823704719543,0.6274510025978088],[0.9960784316062927,0.7960784435272217,0.7490196228027344],[0.9960784316062927,0.8901960849761963,0.8666666746139526],[1.0,0.9803921580314636,0.9764705896377563],[1.0,1.0,1.0],[1.0,1.0,1.0],[1.0,1.0,1.0],[1.0,1.0,1.0],[1.0,1.0,1.0],[1.0,1.0,1.0],[1.0,1.0,1.0],[1.0,1.0,1.0],[1.0,1.0,1.0],[1.0,1.0,1.0],[1.0,1.0,1.0],[1.0,1.0,1.0],[0.843137264251709,0.843137264251709,0.8470588326454163],[0.4627451002597809,0.4627451002597809,0.46666666865348816],[0.4627451002597809,0.4627451002597809,0.46666666865348816],[0.4627451002597809,0.4627451002597809,0.46666666865348816],[0.4627451002597809,0.4627451002597809,0.46666666865348816],[0.4627451002597809,0.4627451002597809,0.46666666865348816],[0.4627451002597809,0.4627451002597809,0.46666666865348816],[0.4627451002597809,0.4627451002597809,0.46666666865348816],[0.4627451002597809,0.4627451002597809,0.46666666865348816],[0.4901960790157318,0.4901960790157318,0.4941176474094391],[0.9490196108818054,0.9490196108818054,0.9490196108818054],[1.0,1.0,1.0],[1.0,1.0,1.0],[1.0,1.0,1.0],[1.0,1.0,1.0],[1.0,1.0,1.0],[1.0,1.0,1.0],[1.0,1.0,1.0]],[[1.0,1.0,1.0],[1.0,1.0,1.0],[1.0,1.0,1.0],[0.9803921580314636,0.9803921580314636,0.9803921580314636],[0.7098039388656616,0.7137255072593689,0.7137255072593689],[0.41960784792900085,0.42352941632270813,0.42352941632270813],[0.3803921639919281,0.3843137323856354,0.3843137323856354],[0.4745098054409027,0.47843137383461,0.47843137383461],[0.7882353067398071,0.7882353067398071,0.7882353067398071],[1.0,1.0,1.0],[1.0,1.0,1.0],[1.0,1.0,1.0],[1.0,1.0,1.0],[1.0,1.0,1.0],[1.0,1.0,1.0],[1.0,1.0,1.0],[1.0,1.0,1.0],[1.0,1.0,1.0],[1.0,1.0,1.0],[1.0,1.0,1.0],[1.0,1.0,1.0],[1.0,1.0,1.0],[1.0,1.0,1.0],[1.0,1.0,1.0],[1.0,1.0,1.0],[1.0,1.0,1.0],[1.0,0.9960784316062927,0.9960784316062927],[0.9960784316062927,0.8901960849761963,0.8666666746139526],[0.9960784316062927,0.7411764860153198,0.6784313917160034],[0.9921568632125854,0.5568627715110779,0.3960784375667572],[0.9921568632125854,0.43921568989753723,0.0],[0.9921568632125854,0.43921568989753723,0.0],[0.9921568632125854,0.43921568989753723,0.0],[0.9921568632125854,0.43921568989753723,0.0],[0.9921568632125854,0.43921568989753723,0.0],[0.9921568632125854,0.43921568989753723,0.0],[0.9921568632125854,0.43921568989753723,0.0],[0.9921568632125854,0.43921568989753723,0.0],[0.9921568632125854,0.43921568989753723,0.0],[0.9921568632125854,0.43921568989753723,0.0],[0.9921568632125854,0.43921568989753723,0.0],[0.9921568632125854,0.43921568989753723,0.0],[0.9921568632125854,0.43921568989753723,0.0],[0.9921568632125854,0.43921568989753723,0.0],[0.9921568632125854,0.43921568989753723,0.0],[0.9921568632125854,0.43921568989753723,0.0],[0.9921568632125854,0.43921568989753723,0.0],[0.9921568632125854,0.45098039507865906,0.10980392247438431],[0.9921568632125854,0.6235294342041016,0.5058823823928833],[0.9960784316062927,0.7921568751335144,0.7411764860153198],[1.0,0.9411764740943909,0.929411768913269],[1.0,1.0,1.0],[1.0,1.0,1.0],[1.0,1.0,1.0],[1.0,1.0,1.0],[1.0,1.0,1.0],[1.0,1.0,1.0],[1.0,1.0,1.0],[1.0,1.0,1.0],[1.0,1.0,1.0],[1.0,1.0,1.0],[0.7215686440467834,0.7215686440467834,0.7215686440467834],[0.4627451002597809,0.4627451002597809,0.46666666865348816],[0.4627451002597809,0.4627451002597809,0.46666666865348816],[0.4627451002597809,0.4627451002597809,0.46666666865348816],[0.4627451002597809,0.4627451002597809,0.46666666865348816],[0.4627451002597809,0.4627451002597809,0.46666666865348816],[0.4627451002597809,0.4627451002597809,0.46666666865348816],[0.47058823704719543,0.47058823704719543,0.4745098054409027],[0.8509804010391235,0.8509804010391235,0.8509804010391235],[1.0,1.0,1.0],[1.0,1.0,1.0],[1.0,1.0,1.0],[1.0,1.0,1.0],[1.0,1.0,1.0],[1.0,1.0,1.0],[1.0,1.0,1.0],[1.0,1.0,1.0]],[[1.0,1.0,1.0],[1.0,1.0,1.0],[0.9960784316062927,0.9960784316062927,0.9960784316062927],[0.6039215922355652,0.6039215922355652,0.6039215922355652],[0.3803921639919281,0.3843137323856354,0.3843137323856354],[0.3803921639919281,0.3843137323856354,0.3843137323856354],[0.3803921639919281,0.3843137323856354,0.3843137323856354],[0.3803921639919281,0.3843137323856354,0.3843137323856354],[0.3803921639919281,0.3843137323856354,0.3843137323856354],[0.7490196228027344,0.7490196228027344,0.7490196228027344],[1.0,1.0,1.0],[1.0,1.0,1.0],[1.0,1.0,1.0],[1.0,1.0,1.0],[1.0,1.0,1.0],[1.0,1.0,1.0],[1.0,1.0,1.0],[1.0,1.0,1.0],[1.0,1.0,1.0],[1.0,1.0,1.0],[1.0,1.0,1.0],[1.0,1.0,1.0],[1.0,1.0,1.0],[1.0,1.0,1.0],[1.0,0.9490196108818054,0.9372549057006836],[0.9960784316062927,0.7607843279838562,0.7019608020782471],[0.9921568632125854,0.5215686559677124,0.32549020648002625],[0.9921568632125854,0.43921568989753723,0.0],[0.9921568632125854,0.43921568989753723,0.0],[0.9921568632125854,0.43921568989753723,0.0],[0.9921568632125854,0.43921568989753723,0.0],[0.9921568632125854,0.43921568989753723,0.0],[0.9921568632125854,0.43921568989753723,0.0],[0.9921568632125854,0.43921568989753723,0.0],[0.9921568632125854,0.43921568989753723,0.0],[0.9921568632125854,0.43921568989753723,0.0],[0.9921568632125854,0.43921568989753723,0.0],[0.9921568632125854,0.43921568989753723,0.0],[0.9921568632125854,0.43921568989753723,0.0],[0.9921568632125854,0.43921568989753723,0.0],[0.9921568632125854,0.43921568989753723,0.0],[0.9921568632125854,0.43921568989753723,0.0],[0.9921568632125854,0.43921568989753723,0.0],[0.9921568632125854,0.43921568989753723,0.0],[0.9921568632125854,0.43921568989753723,0.0],[0.9921568632125854,0.43921568989753723,0.0],[0.9921568632125854,0.43921568989753723,0.0],[0.9921568632125854,0.43921568989753723,0.0],[0.9921568632125854,0.43921568989753723,0.0],[0.9921568632125854,0.43921568989753723,0.0],[0.9921568632125854,0.43921568989753723,0.0],[0.9921568632125854,0.6078431606292725,0.47843137383461],[0.9960784316062927,0.8313725590705872,0.7921568751335144],[1.0,0.9843137264251709,0.9803921580314636],[1.0,1.0,1.0],[1.0,1.0,1.0],[1.0,1.0,1.0],[1.0,1.0,1.0],[1.0,1.0,1.0],[1.0,1.0,1.0],[1.0,1.0,1.0],[0.9960784316062927,0.9960784316062927,0.9960784316062927],[0.8156862854957581,0.8156862854957581,0.8196078538894653],[0.5372549295425415,0.5372549295425415,0.5372549295425415],[0.4627451002597809,0.4627451002597809,0.46666666865348816],[0.4627451002597809,0.4627451002597809,0.46666666865348816],[0.4627451002597809,0.4627451002597809,0.46666666865348816],[0.6078431606292725,0.6078431606292725,0.6117647290229797],[0.8941176533699036,0.8941176533699036,0.8941176533699036],[1.0,1.0,1.0],[1.0,1.0,1.0],[1.0,1.0,1.0],[1.0,1.0,1.0],[1.0,1.0,1.0],[1.0,1.0,1.0],[1.0,1.0,1.0],[1.0,1.0,1.0],[1.0,1.0,1.0]],[[1.0,1.0,1.0],[1.0,1.0,1.0],[0.8588235378265381,0.8588235378265381,0.8588235378265381],[0.3803921639919281,0.3843137323856354,0.3843137323856354],[0.3803921639919281,0.3843137323856354,0.3843137323856354],[0.3803921639919281,0.3843137323856354,0.3843137323856354],[0.3803921639919281,0.3843137323856354,0.3843137323856354],[0.3803921639919281,0.3843137323856354,0.3843137323856354],[0.3803921639919281,0.3843137323856354,0.3843137323856354],[0.3921568691730499,0.3960784375667572,0.3960784375667572],[0.95686274766922,0.95686274766922,0.95686274766922],[1.0,1.0,1.0],[1.0,1.0,1.0],[1.0,1.0,1.0],[1.0,1.0,1.0],[1.0,1.0,1.0],[1.0,1.0,1.0],[1.0,1.0,1.0],[1.0,1.0,1.0],[1.0,1.0,1.0],[1.0,1.0,1.0],[1.0,1.0,1.0],[1.0,0.9254902005195618,0.9098039269447327],[0.9960784316062927,0.6901960968971252,0.6039215922355652],[0.9921568632125854,0.4431372582912445,0.05098039284348488],[0.9921568632125854,0.43921568989753723,0.0],[0.9921568632125854,0.43921568989753723,0.0],[0.9921568632125854,0.43921568989753723,0.0],[0.9921568632125854,0.43921568989753723,0.0],[0.9921568632125854,0.43921568989753723,0.0],[0.9921568632125854,0.43921568989753723,0.0],[0.9921568632125854,0.43921568989753723,0.0],[0.9921568632125854,0.43921568989753723,0.0],[0.9921568632125854,0.43921568989753723,0.0],[0.9921568632125854,0.43921568989753723,0.0],[0.9921568632125854,0.43921568989753723,0.0],[0.9921568632125854,0.43921568989753723,0.0],[0.9921568632125854,0.43921568989753723,0.0],[0.9921568632125854,0.43921568989753723,0.0],[0.9921568632125854,0.43921568989753723,0.0],[0.9921568632125854,0.43921568989753723,0.0],[0.9921568632125854,0.43921568989753723,0.0],[0.9921568632125854,0.43921568989753723,0.0],[0.9921568632125854,0.43921568989753723,0.0],[0.9921568632125854,0.43921568989753723,0.0],[0.9921568632125854,0.43921568989753723,0.0],[0.9921568632125854,0.43921568989753723,0.0],[0.9921568632125854,0.43921568989753723,0.0],[0.9921568632125854,0.43921568989753723,0.0],[0.9921568632125854,0.43921568989753723,0.0],[0.9921568632125854,0.43921568989753723,0.0],[0.9921568632125854,0.43921568989753723,0.0],[0.9921568632125854,0.43921568989753723,0.0],[0.9921568632125854,0.501960813999176,0.27843138575553894],[0.9960784316062927,0.772549033164978,0.7176470756530762],[1.0,0.9725490212440491,0.9647058844566345],[1.0,1.0,1.0],[1.0,1.0,1.0],[1.0,1.0,1.0],[1.0,1.0,1.0],[1.0,1.0,1.0],[1.0,1.0,1.0],[1.0,1.0,1.0],[0.9960784316062927,0.9960784316062927,0.9960784316062927],[0.9254902005195618,0.9254902005195618,0.929411768913269],[0.9098039269447327,0.9098039269447327,0.9098039269447327],[0.9490196108818054,0.9490196108818054,0.9490196108818054],[1.0,1.0,1.0],[1.0,1.0,1.0],[1.0,1.0,1.0],[1.0,1.0,1.0],[1.0,1.0,1.0],[1.0,1.0,1.0],[1.0,1.0,1.0],[1.0,1.0,1.0],[1.0,1.0,1.0],[1.0,1.0,1.0],[1.0,1.0,1.0]],[[1.0,1.0,1.0],[1.0,1.0,1.0],[0.729411780834198,0.729411780834198,0.729411780834198],[0.3803921639919281,0.3843137323856354,0.3843137323856354],[0.3803921639919281,0.3843137323856354,0.3843137323856354],[0.3803921639919281,0.3843137323856354,0.3843137323856354],[0.3803921639919281,0.3843137323856354,0.3843137323856354],[0.3803921639919281,0.3843137323856354,0.3843137323856354],[0.3803921639919281,0.3843137323856354,0.3843137323856354],[0.3803921639919281,0.3843137323856354,0.3843137323856354],[0.8509804010391235,0.8509804010391235,0.8509804010391235],[1.0,1.0,1.0],[1.0,1.0,1.0],[1.0,1.0,1.0],[1.0,1.0,1.0],[1.0,1.0,1.0],[1.0,1.0,1.0],[1.0,1.0,1.0],[1.0,1.0,1.0],[1.0,1.0,1.0],[1.0,0.9490196108818054,0.9372549057006836],[0.9960784316062927,0.6941176652908325,0.6117647290229797],[0.9921568632125854,0.4431372582912445,0.05098039284348488],[0.9921568632125854,0.43921568989753723,0.0],[0.9921568632125854,0.43921568989753723,0.0],[0.9921568632125854,0.43921568989753723,0.0],[0.9921568632125854,0.43921568989753723,0.0],[0.9921568632125854,0.43921568989753723,0.0],[0.9921568632125854,0.43921568989753723,0.0],[0.9921568632125854,0.43921568989753723,0.0],[0.9921568632125854,0.43921568989753723,0.0],[0.9921568632125854,0.43921568989753723,0.0],[0.9921568632125854,0.43921568989753723,0.0],[0.9921568632125854,0.43921568989753723,0.0],[0.9921568632125854,0.43921568989753723,0.0],[0.9921568632125854,0.43921568989753723,0.0],[0.9921568632125854,0.43921568989753723,0.0],[0.9921568632125854,0.43921568989753723,0.0],[0.9921568632125854,0.43921568989753723,0.0],[0.9921568632125854,0.43921568989753723,0.0],[0.9921568632125854,0.43921568989753723,0.0],[0.9921568632125854,0.43921568989753723,0.0],[0.9921568632125854,0.43921568989753723,0.0],[0.9921568632125854,0.43921568989753723,0.0],[0.9921568632125854,0.43921568989753723,0.0],[0.9921568632125854,0.43921568989753723,0.0],[0.9921568632125854,0.43921568989753723,0.0],[0.9921568632125854,0.43921568989753723,0.0],[0.9921568632125854,0.43921568989753723,0.0],[0.9921568632125854,0.43921568989753723,0.0],[0.9921568632125854,0.43921568989753723,0.0],[0.9921568632125854,0.43921568989753723,0.0],[0.9921568632125854,0.43921568989753723,0.0],[0.9921568632125854,0.43921568989753723,0.0],[0.9921568632125854,0.43921568989753723,0.0],[0.9921568632125854,0.4941176474094391,0.25882354378700256],[0.9960784316062927,0.7960784435272217,0.7450980544090271],[1.0,0.9882352948188782,0.9843137264251709],[1.0,1.0,1.0],[1.0,1.0,1.0],[1.0,1.0,1.0],[1.0,1.0,1.0],[1.0,1.0,1.0],[1.0,1.0,1.0],[1.0,1.0,1.0],[1.0,1.0,1.0],[1.0,1.0,1.0],[1.0,1.0,1.0],[1.0,1.0,1.0],[1.0,1.0,1.0],[1.0,1.0,1.0],[1.0,1.0,1.0],[1.0,1.0,1.0],[1.0,1.0,1.0],[1.0,1.0,1.0],[1.0,1.0,1.0],[1.0,1.0,1.0],[1.0,1.0,1.0]],[[1.0,1.0,1.0],[1.0,1.0,1.0],[0.7450980544090271,0.7490196228027344,0.7490196228027344],[0.3803921639919281,0.3843137323856354,0.3843137323856354],[0.3803921639919281,0.3843137323856354,0.3843137323856354],[0.3803921639919281,0.3843137323856354,0.3843137323856354],[0.3803921639919281,0.3843137323856354,0.3843137323856354],[0.3803921639919281,0.3843137323856354,0.3843137323856354],[0.3803921639919281,0.3843137323856354,0.3843137323856354],[0.3803921639919281,0.3843137323856354,0.3843137323856354],[0.8745098114013672,0.8745098114013672,0.8745098114013672],[1.0,1.0,1.0],[1.0,1.0,1.0],[1.0,1.0,1.0],[1.0,1.0,1.0],[1.0,1.0,1.0],[1.0,1.0,1.0],[1.0,1.0,1.0],[1.0,0.9921568632125854,0.9921568632125854],[0.9960784316062927,0.7882353067398071,0.7411764860153198],[0.9921568632125854,0.47058823704719543,0.19607843458652496],[0.9921568632125854,0.43921568989753723,0.0],[0.9921568632125854,0.43921568989753723,0.0],[0.9921568632125854,0.43921568989753723,0.0],[0.9921568632125854,0.43921568989753723,0.0],[0.9921568632125854,0.43921568989753723,0.0],[0.9921568632125854,0.43921568989753723,0.0],[0.9921568632125854,0.43921568989753723,0.0],[0.9921568632125854,0.43921568989753723,0.0],[0.9921568632125854,0.43921568989753723,0.0],[0.9921568632125854,0.43921568989753723,0.0],[0.9921568632125854,0.43921568989753723,0.0],[0.9921568632125854,0.43921568989753723,0.0],[0.9921568632125854,0.43921568989753723,0.0],[0.9921568632125854,0.43921568989753723,0.0],[0.9921568632125854,0.43921568989753723,0.0],[0.9921568632125854,0.43921568989753723,0.0],[0.9921568632125854,0.43921568989753723,0.0],[0.9921568632125854,0.43921568989753723,0.0],[0.9921568632125854,0.43921568989753723,0.0],[0.9921568632125854,0.43921568989753723,0.0],[0.9921568632125854,0.43921568989753723,0.0],[0.9921568632125854,0.43921568989753723,0.0],[0.9921568632125854,0.43921568989753723,0.0],[0.9921568632125854,0.43921568989753723,0.0],[0.9921568632125854,0.43921568989753723,0.0],[0.9921568632125854,0.43921568989753723,0.0],[0.9921568632125854,0.43921568989753723,0.0],[0.9921568632125854,0.43921568989753723,0.0],[0.9921568632125854,0.43921568989753723,0.0],[0.9921568632125854,0.43921568989753723,0.0],[0.9921568632125854,0.43921568989753723,0.0],[0.9921568632125854,0.43921568989753723,0.0],[0.9921568632125854,0.43921568989753723,0.0],[0.9921568632125854,0.43921568989753723,0.0],[0.9921568632125854,0.43921568989753723,0.0],[0.9921568632125854,0.43921568989753723,0.0],[0.9921568632125854,0.5607843399047852,0.4000000059604645],[0.9960784316062927,0.8901960849761963,0.8666666746139526],[1.0,1.0,1.0],[1.0,1.0,1.0],[1.0,1.0,1.0],[1.0,1.0,1.0],[1.0,1.0,1.0],[1.0,1.0,1.0],[1.0,1.0,1.0],[1.0,1.0,1.0],[1.0,1.0,1.0],[1.0,1.0,1.0],[1.0,1.0,1.0],[1.0,1.0,1.0],[1.0,1.0,1.0],[1.0,1.0,1.0],[1.0,1.0,1.0],[1.0,1.0,1.0],[1.0,1.0,1.0],[1.0,1.0,1.0],[1.0,1.0,1.0]],[[1.0,1.0,1.0],[1.0,1.0,1.0],[0.8941176533699036,0.8980392217636108,0.8980392217636108],[0.3803921639919281,0.3843137323856354,0.3843137323856354],[0.3803921639919281,0.3843137323856354,0.3843137323856354],[0.3803921639919281,0.3843137323856354,0.3843137323856354],[0.3803921639919281,0.3843137323856354,0.3843137323856354],[0.3803921639919281,0.3843137323856354,0.3843137323856354],[0.3803921639919281,0.3843137323856354,0.3843137323856354],[0.45098039507865906,0.45490196347236633,0.45490196347236633],[0.9803921580314636,0.9803921580314636,0.9803921580314636],[1.0,1.0,1.0],[1.0,1.0,1.0],[1.0,1.0,1.0],[1.0,1.0,1.0],[1.0,1.0,1.0],[1.0,1.0,1.0],[1.0,0.9372549057006836,0.9254902005195618],[0.9921568632125854,0.6000000238418579,0.46666666865348816],[0.9921568632125854,0.43921568989753723,0.0],[0.9921568632125854,0.43921568989753723,0.0],[0.9921568632125854,0.43921568989753723,0.0],[0.9921568632125854,0.43921568989753723,0.0],[0.9921568632125854,0.43921568989753723,0.0],[0.9921568632125854,0.43921568989753723,0.0],[0.9921568632125854,0.43921568989753723,0.0],[0.9921568632125854,0.43921568989753723,0.0],[0.9921568632125854,0.43921568989753723,0.0],[0.9921568632125854,0.43921568989753723,0.0],[0.9921568632125854,0.43921568989753723,0.0],[0.9921568632125854,0.43921568989753723,0.0],[0.9921568632125854,0.43921568989753723,0.0],[0.9921568632125854,0.43921568989753723,0.0],[0.9921568632125854,0.43921568989753723,0.0],[0.9921568632125854,0.43921568989753723,0.0],[0.9921568632125854,0.43921568989753723,0.0],[0.9921568632125854,0.43921568989753723,0.0],[0.9921568632125854,0.43921568989753723,0.0],[0.9921568632125854,0.43921568989753723,0.0],[0.9921568632125854,0.43921568989753723,0.0],[0.9921568632125854,0.43921568989753723,0.0],[0.9921568632125854,0.43921568989753723,0.0],[0.9921568632125854,0.43921568989753723,0.0],[0.9921568632125854,0.43921568989753723,0.0],[0.9921568632125854,0.43921568989753723,0.0],[0.9921568632125854,0.43921568989753723,0.0],[0.9921568632125854,0.43921568989753723,0.0],[0.9921568632125854,0.43921568989753723,0.0],[0.9921568632125854,0.43921568989753723,0.0],[0.9921568632125854,0.43921568989753723,0.0],[0.9921568632125854,0.43921568989753723,0.0],[0.9921568632125854,0.43921568989753723,0.0],[0.9921568632125854,0.43921568989753723,0.0],[0.9921568632125854,0.43921568989753723,0.0],[0.9921568632125854,0.43921568989753723,0.0],[0.9921568632125854,0.43921568989753723,0.0],[0.9921568632125854,0.43921568989753723,0.0],[0.9921568632125854,0.43921568989753723,0.0],[0.9921568632125854,0.43921568989753723,0.0],[0.9960784316062927,0.729411780834198,0.6627451181411743],[1.0,0.9843137264251709,0.9803921580314636],[1.0,1.0,1.0],[1.0,1.0,1.0],[1.0,1.0,1.0],[1.0,1.0,1.0],[1.0,1.0,1.0],[1.0,1.0,1.0],[1.0,1.0,1.0],[1.0,1.0,1.0],[1.0,1.0,1.0],[1.0,1.0,1.0],[1.0,1.0,1.0],[1.0,1.0,1.0],[1.0,1.0,1.0],[1.0,1.0,1.0],[1.0,1.0,1.0],[1.0,1.0,1.0],[1.0,1.0,1.0]],[[1.0,1.0,1.0],[1.0,1.0,1.0],[1.0,1.0,1.0],[0.7098039388656616,0.7137255072593689,0.7137255072593689],[0.3803921639919281,0.3843137323856354,0.3843137323856354],[0.3803921639919281,0.3843137323856354,0.3843137323856354],[0.3803921639919281,0.3843137323856354,0.3843137323856354],[0.3803921639919281,0.3843137323856354,0.3843137323856354],[0.3921568691730499,0.3960784375667572,0.3960784375667572],[0.8470588326454163,0.8470588326454163,0.8470588326454163],[1.0,1.0,1.0],[1.0,1.0,1.0],[1.0,1.0,1.0],[1.0,1.0,1.0],[1.0,1.0,1.0],[1.0,1.0,1.0],[0.9960784316062927,0.8470588326454163,0.8117647171020508],[0.9921568632125854,0.47843137383461,0.21960784494876862],[0.9921568632125854,0.43921568989753723,0.0],[0.9921568632125854,0.43921568989753723,0.0],[0.9921568632125854,0.43921568989753723,0.0],[0.9921568632125854,0.43921568989753723,0.0],[0.9921568632125854,0.43921568989753723,0.0],[0.9921568632125854,0.43921568989753723,0.0],[0.9921568632125854,0.43921568989753723,0.0],[0.9921568632125854,0.43921568989753723,0.0],[0.9921568632125854,0.43921568989753723,0.0],[0.9921568632125854,0.43921568989753723,0.0],[0.9921568632125854,0.43921568989753723,0.0],[0.9921568632125854,0.43921568989753723,0.0],[0.9921568632125854,0.43921568989753723,0.0],[0.9921568632125854,0.43921568989753723,0.0],[0.9921568632125854,0.43921568989753723,0.0],[0.9921568632125854,0.43921568989753723,0.0],[0.9921568632125854,0.43921568989753723,0.0],[0.9921568632125854,0.43921568989753723,0.0],[0.9921568632125854,0.43921568989753723,0.0],[0.9921568632125854,0.43921568989753723,0.0],[0.9921568632125854,0.43921568989753723,0.0],[0.9921568632125854,0.43921568989753723,0.0],[0.9921568632125854,0.43921568989753723,0.0],[0.9921568632125854,0.43921568989753723,0.0],[0.9921568632125854,0.43921568989753723,0.0],[0.9921568632125854,0.43921568989753723,0.0],[0.9921568632125854,0.43921568989753723,0.0],[0.9921568632125854,0.43921568989753723,0.0],[0.9921568632125854,0.43921568989753723,0.0],[0.9921568632125854,0.43921568989753723,0.0],[0.9921568632125854,0.43921568989753723,0.0],[0.9921568632125854,0.43921568989753723,0.0],[0.9921568632125854,0.43921568989753723,0.0],[0.9921568632125854,0.43921568989753723,0.0],[0.9921568632125854,0.43921568989753723,0.0],[0.9921568632125854,0.43921568989753723,0.0],[0.9921568632125854,0.43921568989753723,0.0],[0.9921568632125854,0.43921568989753723,0.0],[0.9921568632125854,0.43921568989753723,0.0],[0.9921568632125854,0.43921568989753723,0.0],[0.9921568632125854,0.43921568989753723,0.0],[0.9921568632125854,0.43921568989753723,0.0],[0.9921568632125854,0.5764706134796143,0.4313725531101227],[1.0,0.9411764740943909,0.929411768913269],[1.0,1.0,1.0],[1.0,1.0,1.0],[1.0,1.0,1.0],[1.0,1.0,1.0],[1.0,1.0,1.0],[1.0,1.0,1.0],[1.0,1.0,1.0],[1.0,1.0,1.0],[1.0,1.0,1.0],[1.0,1.0,1.0],[1.0,1.0,1.0],[1.0,1.0,1.0],[1.0,1.0,1.0],[1.0,1.0,1.0],[1.0,1.0,1.0],[1.0,1.0,1.0]],[[1.0,1.0,1.0],[1.0,1.0,1.0],[1.0,1.0,1.0],[1.0,1.0,1.0],[0.8274509906768799,0.8274509906768799,0.8274509906768799],[0.6000000238418579,0.6039215922355652,0.6039215922355652],[0.5215686559677124,0.5215686559677124,0.5215686559677124],[0.6509804129600525,0.6509804129600525,0.6509804129600525],[0.8980392217636108,0.8980392217636108,0.8980392217636108],[1.0,1.0,1.0],[1.0,1.0,1.0],[1.0,1.0,1.0],[1.0,1.0,1.0],[1.0,1.0,1.0],[1.0,0.9960784316062927,0.9960784316062927],[0.9960784316062927,0.7529411911964417,0.6901960968971252],[0.9921568632125854,0.43921568989753723,0.0],[0.9921568632125854,0.43921568989753723,0.0],[0.9921568632125854,0.43921568989753723,0.0],[0.9921568632125854,0.43921568989753723,0.0],[0.9921568632125854,0.43921568989753723,0.0],[0.9921568632125854,0.43921568989753723,0.0],[0.9921568632125854,0.43921568989753723,0.0],[0.9921568632125854,0.43921568989753723,0.0],[0.9921568632125854,0.43921568989753723,0.0],[0.9921568632125854,0.43921568989753723,0.0],[0.9921568632125854,0.43921568989753723,0.0],[0.9921568632125854,0.43921568989753723,0.0],[0.9921568632125854,0.43921568989753723,0.0],[0.9921568632125854,0.43921568989753723,0.0],[0.9921568632125854,0.43921568989753723,0.0],[0.9921568632125854,0.43921568989753723,0.0],[0.9921568632125854,0.43921568989753723,0.0],[0.9921568632125854,0.43921568989753723,0.0],[0.9921568632125854,0.43921568989753723,0.0],[0.9921568632125854,0.43921568989753723,0.0],[0.9921568632125854,0.43921568989753723,0.0],[0.9921568632125854,0.43921568989753723,0.0],[0.9921568632125854,0.43921568989753723,0.0],[0.9921568632125854,0.43921568989753723,0.0],[0.9921568632125854,0.43921568989753723,0.0],[0.9921568632125854,0.43921568989753723,0.0],[0.9921568632125854,0.43921568989753723,0.0],[0.9921568632125854,0.43921568989753723,0.0],[0.9921568632125854,0.43921568989753723,0.0],[0.9921568632125854,0.43921568989753723,0.0],[0.9921568632125854,0.43921568989753723,0.0],[0.9921568632125854,0.43921568989753723,0.0],[0.9921568632125854,0.43921568989753723,0.0],[0.9921568632125854,0.43921568989753723,0.0],[0.9921568632125854,0.43921568989753723,0.0],[0.9921568632125854,0.43921568989753723,0.0],[0.9921568632125854,0.43921568989753723,0.0],[0.9921568632125854,0.43921568989753723,0.0],[0.9921568632125854,0.43921568989753723,0.0],[0.9921568632125854,0.43921568989753723,0.0],[0.9921568632125854,0.43921568989753723,0.0],[0.9921568632125854,0.43921568989753723,0.0],[0.9921568632125854,0.43921568989753723,0.0],[0.9921568632125854,0.43921568989753723,0.0],[0.9921568632125854,0.43921568989753723,0.0],[0.9921568632125854,0.4901960790157318,0.250980406999588],[0.9960784316062927,0.8901960849761963,0.8666666746139526],[1.0,1.0,1.0],[1.0,1.0,1.0],[1.0,1.0,1.0],[1.0,1.0,1.0],[1.0,1.0,1.0],[1.0,1.0,1.0],[1.0,1.0,1.0],[1.0,1.0,1.0],[1.0,1.0,1.0],[1.0,1.0,1.0],[1.0,1.0,1.0],[1.0,1.0,1.0],[1.0,1.0,1.0],[1.0,1.0,1.0],[1.0,1.0,1.0]],[[1.0,1.0,1.0],[1.0,1.0,1.0],[1.0,1.0,1.0],[1.0,1.0,1.0],[1.0,1.0,1.0],[1.0,1.0,1.0],[1.0,1.0,1.0],[1.0,1.0,1.0],[1.0,1.0,1.0],[1.0,1.0,1.0],[1.0,1.0,1.0],[1.0,1.0,1.0],[1.0,1.0,1.0],[1.0,0.9882352948188782,0.9882352948188782],[0.9960784316062927,0.6901960968971252,0.6078431606292725],[0.9921568632125854,0.43921568989753723,0.0],[0.9921568632125854,0.43921568989753723,0.0],[0.9921568632125854,0.43921568989753723,0.0],[0.9921568632125854,0.43921568989753723,0.0],[0.9921568632125854,0.43921568989753723,0.0],[0.9921568632125854,0.43921568989753723,0.0],[0.9921568632125854,0.43921568989753723,0.0],[0.9921568632125854,0.43921568989753723,0.0],[0.9921568632125854,0.43921568989753723,0.0],[0.9921568632125854,0.43921568989753723,0.0],[0.9921568632125854,0.43921568989753723,0.0],[0.9921568632125854,0.43921568989753723,0.0],[0.9921568632125854,0.43921568989753723,0.0],[0.9921568632125854,0.43921568989753723,0.0],[0.9921568632125854,0.43921568989753723,0.0],[0.9921568632125854,0.43921568989753723,0.0],[0.9921568632125854,0.43921568989753723,0.0],[0.9921568632125854,0.43921568989753723,0.0],[0.9921568632125854,0.43921568989753723,0.0],[0.9921568632125854,0.43921568989753723,0.0],[0.9921568632125854,0.43921568989753723,0.0],[0.9921568632125854,0.43921568989753723,0.0],[0.9921568632125854,0.43921568989753723,0.0],[0.9921568632125854,0.43921568989753723,0.0],[0.9921568632125854,0.43921568989753723,0.0],[0.9921568632125854,0.43921568989753723,0.0],[0.9921568632125854,0.43921568989753723,0.0],[0.9921568632125854,0.43921568989753723,0.0],[0.9921568632125854,0.43921568989753723,0.0],[0.9921568632125854,0.43921568989753723,0.0],[0.9921568632125854,0.43921568989753723,0.0],[0.9921568632125854,0.43921568989753723,0.0],[0.9921568632125854,0.43921568989753723,0.0],[0.9921568632125854,0.43921568989753723,0.0],[0.9921568632125854,0.43921568989753723,0.0],[0.9921568632125854,0.43921568989753723,0.0],[0.9921568632125854,0.43921568989753723,0.0],[0.9921568632125854,0.43921568989753723,0.0],[0.9921568632125854,0.43921568989753723,0.0],[0.9921568632125854,0.43921568989753723,0.0],[0.9921568632125854,0.43921568989753723,0.0],[0.9921568632125854,0.43921568989753723,0.0],[0.9921568632125854,0.43921568989753723,0.0],[0.9921568632125854,0.43921568989753723,0.0],[0.9921568632125854,0.43921568989753723,0.0],[0.9921568632125854,0.43921568989753723,0.0],[0.9921568632125854,0.43921568989753723,0.0],[0.9921568632125854,0.45490196347236633,0.13333334028720856],[0.9960784316062927,0.843137264251709,0.8078431487083435],[1.0,1.0,1.0],[1.0,1.0,1.0],[1.0,1.0,1.0],[1.0,1.0,1.0],[1.0,1.0,1.0],[1.0,1.0,1.0],[1.0,1.0,1.0],[1.0,1.0,1.0],[1.0,1.0,1.0],[1.0,1.0,1.0],[1.0,1.0,1.0],[1.0,1.0,1.0],[1.0,1.0,1.0],[1.0,1.0,1.0]],[[1.0,1.0,1.0],[1.0,1.0,1.0],[1.0,1.0,1.0],[1.0,1.0,1.0],[1.0,1.0,1.0],[1.0,1.0,1.0],[1.0,1.0,1.0],[1.0,1.0,1.0],[1.0,1.0,1.0],[1.0,1.0,1.0],[1.0,1.0,1.0],[1.0,1.0,1.0],[1.0,0.9882352948188782,0.9843137264251709],[0.9960784316062927,0.6627451181411743,0.5686274766921997],[0.9921568632125854,0.43921568989753723,0.0],[0.9921568632125854,0.43921568989753723,0.0],[0.9921568632125854,0.43921568989753723,0.0],[0.9921568632125854,0.43921568989753723,0.0],[0.9921568632125854,0.43921568989753723,0.0],[0.9921568632125854,0.43921568989753723,0.0],[0.9921568632125854,0.43921568989753723,0.0],[0.9921568632125854,0.43921568989753723,0.0],[0.9921568632125854,0.43921568989753723,0.0],[0.9921568632125854,0.43921568989753723,0.0],[0.9921568632125854,0.43921568989753723,0.0],[0.9921568632125854,0.43921568989753723,0.0],[0.9921568632125854,0.43921568989753723,0.0],[0.9921568632125854,0.43921568989753723,0.0],[0.9921568632125854,0.43921568989753723,0.0],[0.9921568632125854,0.43921568989753723,0.0],[0.9921568632125854,0.43921568989753723,0.0],[0.9921568632125854,0.43921568989753723,0.0],[0.9921568632125854,0.45490196347236633,0.13333334028720856],[0.9921568632125854,0.5372549295425415,0.3607843220233917],[0.9921568632125854,0.6078431606292725,0.48627451062202454],[0.9921568632125854,0.6352941393852234,0.5215686559677124],[0.9960784316062927,0.6705882549285889,0.5764706134796143],[0.9960784316062927,0.6980392336845398,0.6196078658103943],[0.9960784316062927,0.7137255072593689,0.6392157077789307],[0.9960784316062927,0.7098039388656616,0.6313725709915161],[0.9960784316062927,0.6901960968971252,0.6078431606292725],[0.9960784316062927,0.6549019813537598,0.5529412031173706],[0.9921568632125854,0.6274510025978088,0.5098039507865906],[0.9921568632125854,0.5882353186607361,0.45098039507865906],[0.9921568632125854,0.5058823823928833,0.29411765933036804],[0.9921568632125854,0.43921568989753723,0.0],[0.9921568632125854,0.43921568989753723,0.0],[0.9921568632125854,0.43921568989753723,0.0],[0.9921568632125854,0.43921568989753723,0.0],[0.9921568632125854,0.43921568989753723,0.0],[0.9921568632125854,0.43921568989753723,0.0],[0.9921568632125854,0.43921568989753723,0.0],[0.9921568632125854,0.43921568989753723,0.0],[0.9921568632125854,0.43921568989753723,0.0],[0.9921568632125854,0.43921568989753723,0.0],[0.9921568632125854,0.43921568989753723,0.0],[0.9921568632125854,0.43921568989753723,0.0],[0.9921568632125854,0.43921568989753723,0.0],[0.9921568632125854,0.43921568989753723,0.0],[0.9921568632125854,0.43921568989753723,0.0],[0.9921568632125854,0.43921568989753723,0.0],[0.9921568632125854,0.43921568989753723,0.0],[0.9921568632125854,0.43921568989753723,0.0],[0.9921568632125854,0.4431372582912445,0.05098039284348488],[0.9960784316062927,0.8313725590705872,0.7960784435272217],[1.0,1.0,1.0],[1.0,1.0,1.0],[1.0,1.0,1.0],[1.0,1.0,1.0],[1.0,1.0,1.0],[1.0,1.0,1.0],[1.0,1.0,1.0],[1.0,1.0,1.0],[1.0,1.0,1.0],[1.0,1.0,1.0],[1.0,1.0,1.0],[1.0,1.0,1.0],[1.0,1.0,1.0]],[[1.0,1.0,1.0],[1.0,1.0,1.0],[1.0,1.0,1.0],[1.0,1.0,1.0],[1.0,1.0,1.0],[1.0,1.0,1.0],[1.0,1.0,1.0],[1.0,1.0,1.0],[1.0,1.0,1.0],[1.0,1.0,1.0],[1.0,1.0,1.0],[1.0,0.9960784316062927,0.9921568632125854],[0.9960784316062927,0.6823529601097107,0.5921568870544434],[0.9921568632125854,0.43921568989753723,0.0],[0.9921568632125854,0.43921568989753723,0.0],[0.9921568632125854,0.43921568989753723,0.0],[0.9921568632125854,0.43921568989753723,0.0],[0.9921568632125854,0.43921568989753723,0.0],[0.9921568632125854,0.43921568989753723,0.0],[0.9921568632125854,0.43921568989753723,0.0],[0.9921568632125854,0.43921568989753723,0.0],[0.9921568632125854,0.43921568989753723,0.0],[0.9921568632125854,0.43921568989753723,0.0],[0.9921568632125854,0.43921568989753723,0.0],[0.9921568632125854,0.43921568989753723,0.0],[0.9921568632125854,0.43921568989753723,0.0],[0.9921568632125854,0.4941176474094391,0.25882354378700256],[0.9960784316062927,0.6470588445663452,0.5411764979362488],[0.9960784316062927,0.7568627595901489,0.6980392336845398],[0.9960784316062927,0.8392156958580017,0.8039215803146362],[1.0,0.9098039269447327,0.8901960849761963],[1.0,0.9607843160629272,0.9529411792755127],[1.0,1.0,1.0],[1.0,1.0,1.0],[1.0,1.0,1.0],[1.0,1.0,1.0],[1.0,1.0,1.0],[1.0,1.0,1.0],[1.0,1.0,1.0],[1.0,1.0,1.0],[1.0,1.0,1.0],[1.0,1.0,1.0],[1.0,1.0,1.0],[1.0,1.0,1.0],[1.0,1.0,1.0],[1.0,0.9921568632125854,0.9882352948188782],[1.0,0.9411764740943909,0.929411768913269],[0.9960784316062927,0.886274516582489,0.8627451062202454],[0.9960784316062927,0.8156862854957581,0.772549033164978],[0.9960784316062927,0.7215686440467834,0.6509804129600525],[0.9921568632125854,0.5960784554481506,0.4627451002597809],[0.9921568632125854,0.45098039507865906,0.10980392247438431],[0.9921568632125854,0.43921568989753723,0.0],[0.9921568632125854,0.43921568989753723,0.0],[0.9921568632125854,0.43921568989753723,0.0],[0.9921568632125854,0.43921568989753723,0.0],[0.9921568632125854,0.43921568989753723,0.0],[0.9921568632125854,0.43921568989753723,0.0],[0.9921568632125854,0.43921568989753723,0.0],[0.9921568632125854,0.43921568989753723,0.0],[0.9921568632125854,0.43921568989753723,0.0],[0.9921568632125854,0.43921568989753723,0.0],[0.9921568632125854,0.43921568989753723,0.0],[0.9921568632125854,0.43921568989753723,0.0],[0.9921568632125854,0.4431372582912445,0.05098039284348488],[0.9960784316062927,0.8470588326454163,0.8156862854957581],[1.0,1.0,1.0],[1.0,1.0,1.0],[1.0,1.0,1.0],[1.0,1.0,1.0],[1.0,1.0,1.0],[1.0,1.0,1.0],[1.0,1.0,1.0],[1.0,1.0,1.0],[1.0,1.0,1.0],[1.0,1.0,1.0],[1.0,1.0,1.0],[1.0,1.0,1.0]],[[1.0,1.0,1.0],[1.0,1.0,1.0],[1.0,1.0,1.0],[1.0,1.0,1.0],[1.0,1.0,1.0],[1.0,1.0,1.0],[1.0,1.0,1.0],[1.0,1.0,1.0],[1.0,1.0,1.0],[1.0,1.0,1.0],[1.0,1.0,1.0],[0.9960784316062927,0.729411780834198,0.6627451181411743],[0.9921568632125854,0.43921568989753723,0.0],[0.9921568632125854,0.43921568989753723,0.0],[0.9921568632125854,0.43921568989753723,0.0],[0.9921568632125854,0.43921568989753723,0.0],[0.9921568632125854,0.43921568989753723,0.0],[0.9921568632125854,0.43921568989753723,0.0],[0.9921568632125854,0.43921568989753723,0.0],[0.9921568632125854,0.43921568989753723,0.0],[0.9921568632125854,0.43921568989753723,0.0],[0.9921568632125854,0.43921568989753723,0.0],[0.9921568632125854,0.48627451062202454,0.239215686917305],[0.9960784316062927,0.6823529601097107,0.5960784554481506],[0.9960784316062927,0.8235294222831726,0.7843137383460999],[1.0,0.9333333373069763,0.9215686321258545],[1.0,1.0,1.0],[1.0,1.0,1.0],[1.0,1.0,1.0],[1.0,1.0,1.0],[1.0,1.0,1.0],[1.0,1.0,1.0],[1.0,1.0,1.0],[1.0,1.0,1.0],[1.0,1.0,1.0],[1.0,1.0,1.0],[1.0,1.0,1.0],[1.0,1.0,1.0],[1.0,1.0,1.0],[1.0,1.0,1.0],[1.0,1.0,1.0],[1.0,1.0,1.0],[1.0,1.0,1.0],[1.0,1.0,1.0],[1.0,1.0,1.0],[1.0,1.0,1.0],[1.0,1.0,1.0],[1.0,1.0,1.0],[1.0,1.0,1.0],[1.0,1.0,1.0],[1.0,1.0,1.0],[1.0,0.9843137264251709,0.9843137264251709],[0.9960784316062927,0.8941176533699036,0.8705882430076599],[0.9960784316062927,0.7803921699523926,0.7254902124404907],[0.9921568632125854,0.6117647290229797,0.4901960790157318],[0.9921568632125854,0.4431372582912445,0.05098039284348488],[0.9921568632125854,0.43921568989753723,0.0],[0.9921568632125854,0.43921568989753723,0.0],[0.9921568632125854,0.43921568989753723,0.0],[0.9921568632125854,0.43921568989753723,0.0],[0.9921568632125854,0.43921568989753723,0.0],[0.9921568632125854,0.43921568989753723,0.0],[0.9921568632125854,0.43921568989753723,0.0],[0.9921568632125854,0.43921568989753723,0.0],[0.9921568632125854,0.43921568989753723,0.0],[0.9921568632125854,0.45490196347236633,0.13333334028720856],[0.9960784316062927,0.8901960849761963,0.8666666746139526],[1.0,1.0,1.0],[1.0,1.0,1.0],[1.0,1.0,1.0],[1.0,1.0,1.0],[1.0,1.0,1.0],[1.0,1.0,1.0],[1.0,1.0,1.0],[1.0,1.0,1.0],[1.0,1.0,1.0],[1.0,1.0,1.0],[1.0,1.0,1.0]],[[1.0,1.0,1.0],[1.0,1.0,1.0],[1.0,1.0,1.0],[1.0,1.0,1.0],[1.0,1.0,1.0],[1.0,1.0,1.0],[1.0,1.0,1.0],[1.0,1.0,1.0],[1.0,1.0,1.0],[1.0,1.0,1.0],[0.9960784316062927,0.8196078538894653,0.7764706015586853],[0.9921568632125854,0.43921568989753723,0.0],[0.9921568632125854,0.43921568989753723,0.0],[0.9921568632125854,0.43921568989753723,0.0],[0.9921568632125854,0.43921568989753723,0.0],[0.9921568632125854,0.43921568989753723,0.0],[0.9921568632125854,0.43921568989753723,0.0],[0.9921568632125854,0.43921568989753723,0.0],[0.9921568632125854,0.43921568989753723,0.0],[0.9921568632125854,0.4941176474094391,0.25882354378700256],[0.9960784316062927,0.7176470756530762,0.6431372761726379],[0.9960784316062927,0.886274516582489,0.8588235378265381],[1.0,0.9921568632125854,0.9882352948188782],[1.0,1.0,1.0],[1.0,1.0,1.0],[1.0,1.0,1.0],[1.0,1.0,1.0],[1.0,1.0,1.0],[1.0,1.0,1.0],[1.0,1.0,1.0],[1.0,1.0,1.0],[1.0,1.0,1.0],[1.0,1.0,1.0],[1.0,1.0,1.0],[1.0,1.0,1.0],[1.0,1.0,1.0],[1.0,1.0,1.0],[1.0,1.0,1.0],[1.0,1.0,1.0],[1.0,1.0,1.0],[1.0,1.0,1.0],[1.0,1.0,1.0],[1.0,1.0,1.0],[1.0,1.0,1.0],[1.0,1.0,1.0],[1.0,1.0,1.0],[1.0,1.0,1.0],[1.0,1.0,1.0],[1.0,1.0,1.0],[1.0,1.0,1.0],[1.0,1.0,1.0],[1.0,1.0,1.0],[1.0,1.0,1.0],[1.0,1.0,1.0],[1.0,1.0,1.0],[1.0,0.9647058844566345,0.95686274766922],[0.9960784316062927,0.8313725590705872,0.7921568751335144],[0.9921568632125854,0.6431372761726379,0.5333333611488342],[0.9921568632125854,0.4431372582912445,0.05098039284348488],[0.9921568632125854,0.43921568989753723,0.0],[0.9921568632125854,0.43921568989753723,0.0],[0.9921568632125854,0.43921568989753723,0.0],[0.9921568632125854,0.43921568989753723,0.0],[0.9921568632125854,0.43921568989753723,0.0],[0.9921568632125854,0.43921568989753723,0.0],[0.9921568632125854,0.43921568989753723,0.0],[0.9921568632125854,0.4941176474094391,0.25882354378700256],[1.0,0.9411764740943909,0.9333333373069763],[1.0,1.0,1.0],[1.0,1.0,1.0],[1.0,1.0,1.0],[1.0,1.0,1.0],[1.0,1.0,1.0],[1.0,1.0,1.0],[1.0,1.0,1.0],[1.0,1.0,1.0],[1.0,1.0,1.0],[1.0,1.0,1.0]],[[1.0,1.0,1.0],[1.0,1.0,1.0],[1.0,1.0,1.0],[1.0,1.0,1.0],[1.0,1.0,1.0],[1.0,1.0,1.0],[1.0,1.0,1.0],[1.0,1.0,1.0],[1.0,1.0,1.0],[1.0,0.9137254953384399,0.8980392217636108],[0.9921568632125854,0.4588235318660736,0.14901961386203766],[0.9921568632125854,0.43921568989753723,0.0],[0.9921568632125854,0.43921568989753723,0.0],[0.9921568632125854,0.43921568989753723,0.0],[0.9921568632125854,0.43921568989753723,0.0],[0.9921568632125854,0.43921568989753723,0.0],[0.9921568632125854,0.43921568989753723,0.0],[0.9921568632125854,0.6235294342041016,0.5058823823928833],[0.9960784316062927,0.8470588326454163,0.8156862854957581],[1.0,0.9843137264251709,0.9843137264251709],[1.0,1.0,1.0],[1.0,1.0,1.0],[1.0,1.0,1.0],[1.0,1.0,1.0],[1.0,1.0,1.0],[1.0,1.0,1.0],[1.0,1.0,1.0],[1.0,1.0,1.0],[1.0,1.0,1.0],[1.0,1.0,1.0],[1.0,1.0,1.0],[1.0,1.0,1.0],[1.0,1.0,1.0],[1.0,1.0,1.0],[1.0,1.0,1.0],[1.0,1.0,1.0],[1.0,1.0,1.0],[1.0,1.0,1.0],[1.0,1.0,1.0],[1.0,1.0,1.0],[1.0,1.0,1.0],[1.0,1.0,1.0],[1.0,1.0,1.0],[1.0,1.0,1.0],[1.0,1.0,1.0],[1.0,1.0,1.0],[1.0,1.0,1.0],[1.0,1.0,1.0],[1.0,1.0,1.0],[1.0,1.0,1.0],[1.0,1.0,1.0],[1.0,1.0,1.0],[1.0,1.0,1.0],[1.0,1.0,1.0],[1.0,1.0,1.0],[1.0,1.0,1.0],[1.0,1.0,1.0],[1.0,1.0,1.0],[1.0,0.9529411792755127,0.9411764740943909],[0.9960784316062927,0.7764706015586853,0.7215686440467834],[0.9921568632125854,0.5215686559677124,0.32549020648002625],[0.9921568632125854,0.43921568989753723,0.0],[0.9921568632125854,0.43921568989753723,0.0],[0.9921568632125854,0.43921568989753723,0.0],[0.9921568632125854,0.43921568989753723,0.0],[0.9921568632125854,0.43921568989753723,0.0],[0.9921568632125854,0.43921568989753723,0.0],[0.9921568632125854,0.5882353186607361,0.45098039507865906],[1.0,0.9882352948188782,0.9843137264251709],[1.0,1.0,1.0],[1.0,1.0,1.0],[1.0,1.0,1.0],[1.0,1.0,1.0],[1.0,1.0,1.0],[1.0,1.0,1.0],[1.0,1.0,1.0],[1.0,1.0,1.0],[1.0,1.0,1.0]],[[1.0,1.0,1.0],[1.0,1.0,1.0],[1.0,1.0,1.0],[1.0,1.0,1.0],[1.0,1.0,1.0],[1.0,1.0,1.0],[1.0,1.0,1.0],[1.0,1.0,1.0],[1.0,0.9843137264251709,0.9803921580314636],[0.9921568632125854,0.5529412031173706,0.38823530077934265],[0.9921568632125854,0.43921568989753723,0.0],[0.9921568632125854,0.43921568989753723,0.0],[0.9921568632125854,0.43921568989753723,0.0],[0.9921568632125854,0.43921568989753723,0.0],[0.9921568632125854,0.43921568989753723,0.0],[0.9960784316062927,0.6745098233222961,0.5843137502670288],[1.0,0.9137254953384399,0.8941176533699036],[1.0,1.0,1.0],[1.0,1.0,1.0],[1.0,1.0,1.0],[1.0,1.0,1.0],[1.0,1.0,1.0],[1.0,1.0,1.0],[1.0,1.0,1.0],[1.0,1.0,1.0],[1.0,1.0,1.0],[1.0,1.0,1.0],[1.0,1.0,1.0],[1.0,1.0,1.0],[1.0,1.0,1.0],[1.0,1.0,1.0],[1.0,1.0,1.0],[1.0,1.0,1.0],[1.0,1.0,1.0],[1.0,1.0,1.0],[1.0,1.0,1.0],[1.0,1.0,1.0],[1.0,1.0,1.0],[1.0,1.0,1.0],[1.0,1.0,1.0],[1.0,1.0,1.0],[1.0,1.0,1.0],[1.0,1.0,1.0],[1.0,1.0,1.0],[1.0,1.0,1.0],[1.0,1.0,1.0],[1.0,1.0,1.0],[1.0,1.0,1.0],[1.0,1.0,1.0],[1.0,1.0,1.0],[1.0,1.0,1.0],[1.0,1.0,1.0],[1.0,1.0,1.0],[1.0,1.0,1.0],[1.0,1.0,1.0],[1.0,1.0,1.0],[1.0,1.0,1.0],[1.0,1.0,1.0],[1.0,1.0,1.0],[1.0,1.0,1.0],[1.0,0.9882352948188782,0.9882352948188782],[0.9960784316062927,0.8352941274642944,0.800000011920929],[0.9921568632125854,0.5647059082984924,0.40784314274787903],[0.9921568632125854,0.43921568989753723,0.0],[0.9921568632125854,0.43921568989753723,0.0],[0.9921568632125854,0.43921568989753723,0.0],[0.9921568632125854,0.43921568989753723,0.0],[0.9921568632125854,0.43921568989753723,0.0],[0.9960784316062927,0.7450980544090271,0.6784313917160034],[1.0,1.0,1.0],[1.0,1.0,1.0],[1.0,1.0,1.0],[1.0,1.0,1.0],[1.0,1.0,1.0],[1.0,1.0,1.0],[1.0,1.0,1.0],[1.0,1.0,1.0],[1.0,1.0,1.0]],[[1.0,1.0,1.0],[1.0,1.0,1.0],[1.0,1.0,1.0],[1.0,1.0,1.0],[1.0,1.0,1.0],[1.0,1.0,1.0],[1.0,1.0,1.0],[1.0,1.0,1.0],[0.9960784316062927,0.7372549176216125,0.6705882549285889],[0.9921568632125854,0.43921568989753723,0.0],[0.9921568632125854,0.43921568989753723,0.0],[0.9921568632125854,0.43921568989753723,0.0],[0.9921568632125854,0.43921568989753723,0.0],[0.9960784316062927,0.6509804129600525,0.545098066329956],[1.0,0.9215686321258545,0.9058823585510254],[1.0,1.0,1.0],[1.0,1.0,1.0],[1.0,1.0,1.0],[1.0,1.0,1.0],[1.0,1.0,1.0],[1.0,1.0,1.0],[1.0,1.0,1.0],[1.0,1.0,1.0],[1.0,1.0,1.0],[1.0,1.0,1.0],[1.0,1.0,1.0],[1.0,1.0,1.0],[1.0,1.0,1.0],[1.0,1.0,1.0],[1.0,1.0,1.0],[1.0,1.0,1.0],[1.0,1.0,1.0],[1.0,1.0,1.0],[1.0,1.0,1.0],[1.0,1.0,1.0],[1.0,1.0,1.0],[1.0,1.0,1.0],[1.0,1.0,1.0],[1.0,1.0,1.0],[1.0,1.0,1.0],[1.0,1.0,1.0],[1.0,1.0,1.0],[1.0,1.0,1.0],[1.0,1.0,1.0],[1.0,1.0,1.0],[1.0,1.0,1.0],[1.0,1.0,1.0],[1.0,1.0,1.0],[1.0,1.0,1.0],[1.0,1.0,1.0],[1.0,1.0,1.0],[1.0,1.0,1.0],[1.0,1.0,1.0],[1.0,1.0,1.0],[1.0,1.0,1.0],[1.0,1.0,1.0],[1.0,1.0,1.0],[1.0,1.0,1.0],[1.0,1.0,1.0],[1.0,1.0,1.0],[1.0,1.0,1.0],[1.0,1.0,1.0],[1.0,0.9960784316062927,0.9960784316062927],[0.9960784316062927,0.8392156958580017,0.8039215803146362],[0.9921568632125854,0.529411792755127,0.3450980484485626],[0.9921568632125854,0.43921568989753723,0.0],[0.9921568632125854,0.43921568989753723,0.0],[0.9921568632125854,0.43921568989753723,0.0],[0.9921568632125854,0.43921568989753723,0.0],[0.9960784316062927,0.8980392217636108,0.8784313797950745],[1.0,1.0,1.0],[1.0,1.0,1.0],[1.0,1.0,1.0],[1.0,1.0,1.0],[1.0,1.0,1.0],[1.0,1.0,1.0],[1.0,1.0,1.0],[1.0,1.0,1.0]],[[1.0,1.0,1.0],[1.0,1.0,1.0],[1.0,1.0,1.0],[1.0,1.0,1.0],[1.0,1.0,1.0],[1.0,1.0,1.0],[1.0,1.0,1.0],[1.0,0.9137254953384399,0.8980392217636108],[0.9921568632125854,0.4431372582912445,0.05098039284348488],[0.9921568632125854,0.43921568989753723,0.0],[0.9921568632125854,0.43921568989753723,0.0],[0.9921568632125854,0.545098066329956,0.37254902720451355],[0.9960784316062927,0.8705882430076599,0.843137264251709],[1.0,1.0,1.0],[1.0,1.0,1.0],[1.0,1.0,1.0],[1.0,1.0,1.0],[1.0,1.0,1.0],[1.0,1.0,1.0],[1.0,1.0,1.0],[1.0,1.0,1.0],[1.0,1.0,1.0],[1.0,1.0,1.0],[1.0,1.0,1.0],[1.0,1.0,1.0],[1.0,1.0,1.0],[1.0,1.0,1.0],[1.0,1.0,1.0],[1.0,1.0,1.0],[1.0,1.0,1.0],[1.0,1.0,1.0],[1.0,1.0,1.0],[1.0,1.0,1.0],[1.0,1.0,1.0],[1.0,1.0,1.0],[1.0,1.0,1.0],[1.0,1.0,1.0],[1.0,1.0,1.0],[1.0,1.0,1.0],[1.0,1.0,1.0],[1.0,1.0,1.0],[1.0,1.0,1.0],[1.0,1.0,1.0],[1.0,1.0,1.0],[1.0,1.0,1.0],[1.0,1.0,1.0],[1.0,1.0,1.0],[1.0,1.0,1.0],[1.0,1.0,1.0],[1.0,1.0,1.0],[1.0,1.0,1.0],[1.0,1.0,1.0],[1.0,1.0,1.0],[1.0,1.0,1.0],[1.0,1.0,1.0],[1.0,1.0,1.0],[1.0,1.0,1.0],[1.0,1.0,1.0],[1.0,1.0,1.0],[1.0,1.0,1.0],[1.0,1.0,1.0],[1.0,1.0,1.0],[1.0,1.0,1.0],[1.0,1.0,1.0],[1.0,0.9843137264251709,0.9803921580314636],[0.9960784316062927,0.7686274647712708,0.7137255072593689],[0.9921568632125854,0.45490196347236633,0.13333334028720856],[0.9921568632125854,0.43921568989753723,0.0],[0.9921568632125854,0.43921568989753723,0.0],[0.9921568632125854,0.572549045085907,0.42352941632270813],[1.0,0.9921568632125854,0.9882352948188782],[1.0,1.0,1.0],[1.0,1.0,1.0],[1.0,1.0,1.0],[1.0,1.0,1.0],[1.0,1.0,1.0],[1.0,1.0,1.0],[1.0,1.0,1.0]],[[1.0,1.0,1.0],[1.0,1.0,1.0],[1.0,1.0,1.0],[1.0,1.0,1.0],[1.0,1.0,1.0],[1.0,1.0,1.0],[1.0,1.0,1.0],[0.9921568632125854,0.615686297416687,0.4941176474094391],[0.9921568632125854,0.43921568989753723,0.0],[0.9921568632125854,0.43921568989753723,0.0],[0.9960784316062927,0.729411780834198,0.6627451181411743],[1.0,0.9803921580314636,0.9764705896377563],[1.0,1.0,1.0],[1.0,1.0,1.0],[1.0,1.0,1.0],[1.0,1.0,1.0],[1.0,1.0,1.0],[1.0,1.0,1.0],[1.0,1.0,1.0],[1.0,1.0,1.0],[1.0,1.0,1.0],[1.0,1.0,1.0],[1.0,1.0,1.0],[1.0,1.0,1.0],[1.0,1.0,1.0],[1.0,1.0,1.0],[1.0,1.0,1.0],[1.0,1.0,1.0],[1.0,1.0,1.0],[1.0,1.0,1.0],[1.0,1.0,1.0],[1.0,1.0,1.0],[1.0,1.0,1.0],[1.0,1.0,1.0],[1.0,1.0,1.0],[1.0,1.0,1.0],[1.0,1.0,1.0],[1.0,1.0,1.0],[1.0,1.0,1.0],[1.0,1.0,1.0],[1.0,1.0,1.0],[1.0,1.0,1.0],[1.0,1.0,1.0],[1.0,1.0,1.0],[1.0,1.0,1.0],[1.0,1.0,1.0],[1.0,1.0,1.0],[1.0,1.0,1.0],[1.0,1.0,1.0],[1.0,1.0,1.0],[1.0,1.0,1.0],[1.0,1.0,1.0],[1.0,1.0,1.0],[1.0,1.0,1.0],[1.0,1.0,1.0],[1.0,1.0,1.0],[1.0,1.0,1.0],[1.0,1.0,1.0],[1.0,1.0,1.0],[1.0,1.0,1.0],[1.0,1.0,1.0],[1.0,1.0,1.0],[1.0,1.0,1.0],[1.0,1.0,1.0],[1.0,1.0,1.0],[1.0,1.0,1.0],[1.0,0.929411768913269,0.9137254953384399],[0.9921568632125854,0.5882353186607361,0.45098039507865906],[0.9921568632125854,0.43921568989753723,0.0],[0.9921568632125854,0.43921568989753723,0.0],[0.9960784316062927,0.8117647171020508,0.7686274647712708],[1.0,1.0,1.0],[1.0,1.0,1.0],[1.0,1.0,1.0],[1.0,1.0,1.0],[1.0,1.0,1.0],[1.0,1.0,1.0],[1.0,1.0,1.0]],[[1.0,1.0,1.0],[1.0,1.0,1.0],[1.0,1.0,1.0],[1.0,1.0,1.0],[1.0,1.0,1.0],[1.0,1.0,1.0],[0.9960784316062927,0.8666666746139526,0.8352941274642944],[0.9921568632125854,0.43921568989753723,0.0],[0.9921568632125854,0.4941176474094391,0.25882354378700256],[0.9960784316062927,0.8705882430076599,0.843137264251709],[1.0,1.0,1.0],[1.0,1.0,1.0],[1.0,1.0,1.0],[1.0,1.0,1.0],[1.0,1.0,1.0],[1.0,1.0,1.0],[1.0,1.0,1.0],[1.0,1.0,1.0],[1.0,1.0,1.0],[1.0,1.0,1.0],[1.0,1.0,1.0],[1.0,1.0,1.0],[1.0,1.0,1.0],[1.0,1.0,1.0],[1.0,1.0,1.0],[1.0,1.0,1.0],[1.0,1.0,1.0],[1.0,1.0,1.0],[1.0,1.0,1.0],[1.0,1.0,1.0],[1.0,1.0,1.0],[1.0,1.0,1.0],[1.0,1.0,1.0],[1.0,1.0,1.0],[1.0,1.0,1.0],[1.0,1.0,1.0],[1.0,1.0,1.0],[1.0,1.0,1.0],[1.0,1.0,1.0],[1.0,1.0,1.0],[1.0,1.0,1.0],[1.0,1.0,1.0],[1.0,1.0,1.0],[1.0,1.0,1.0],[1.0,1.0,1.0],[1.0,1.0,1.0],[1.0,1.0,1.0],[1.0,1.0,1.0],[1.0,1.0,1.0],[1.0,1.0,1.0],[1.0,1.0,1.0],[1.0,1.0,1.0],[1.0,1.0,1.0],[1.0,1.0,1.0],[1.0,1.0,1.0],[1.0,1.0,1.0],[1.0,1.0,1.0],[1.0,1.0,1.0],[1.0,1.0,1.0],[1.0,1.0,1.0],[1.0,1.0,1.0],[1.0,1.0,1.0],[1.0,1.0,1.0],[1.0,1.0,1.0],[1.0,1.0,1.0],[1.0,1.0,1.0],[1.0,1.0,1.0],[1.0,0.9882352948188782,0.9882352948188782],[0.9960784316062927,0.7411764860153198,0.6745098233222961],[0.9921568632125854,0.43921568989753723,0.0],[0.9921568632125854,0.5058823823928833,0.2862745225429535],[1.0,0.9764705896377563,0.9725490212440491],[1.0,1.0,1.0],[1.0,1.0,1.0],[1.0,1.0,1.0],[1.0,1.0,1.0],[1.0,1.0,1.0],[1.0,1.0,1.0]],[[1.0,1.0,1.0],[1.0,1.0,1.0],[1.0,1.0,1.0],[1.0,1.0,1.0],[1.0,1.0,1.0],[1.0,1.0,1.0],[0.9921568632125854,0.5921568870544434,0.4588235318660736],[0.9921568632125854,0.5647059082984924,0.40784314274787903],[1.0,0.9411764740943909,0.929411768913269],[1.0,1.0,1.0],[1.0,1.0,1.0],[1.0,1.0,1.0],[1.0,1.0,1.0],[1.0,1.0,1.0],[1.0,1.0,1.0],[1.0,1.0,1.0],[1.0,1.0,1.0],[1.0,1.0,1.0],[1.0,1.0,1.0],[1.0,1.0,1.0],[1.0,1.0,1.0],[1.0,1.0,1.0],[1.0,1.0,1.0],[1.0,1.0,1.0],[1.0,1.0,1.0],[1.0,1.0,1.0],[1.0,1.0,1.0],[1.0,1.0,1.0],[1.0,1.0,1.0],[1.0,1.0,1.0],[1.0,1.0,1.0],[1.0,1.0,1.0],[1.0,1.0,1.0],[1.0,1.0,1.0],[1.0,1.0,1.0],[1.0,1.0,1.0],[1.0,1.0,1.0],[1.0,1.0,1.0],[1.0,1.0,1.0],[1.0,1.0,1.0],[1.0,1.0,1.0],[1.0,1.0,1.0],[1.0,1.0,1.0],[1.0,1.0,1.0],[1.0,1.0,1.0],[1.0,1.0,1.0],[1.0,1.0,1.0],[1.0,1.0,1.0],[1.0,1.0,1.0],[1.0,1.0,1.0],[1.0,1.0,1.0],[1.0,1.0,1.0],[1.0,1.0,1.0],[1.0,1.0,1.0],[1.0,1.0,1.0],[1.0,1.0,1.0],[1.0,1.0,1.0],[1.0,1.0,1.0],[1.0,1.0,1.0],[1.0,1.0,1.0],[1.0,1.0,1.0],[1.0,1.0,1.0],[1.0,1.0,1.0],[1.0,1.0,1.0],[1.0,1.0,1.0],[1.0,1.0,1.0],[1.0,1.0,1.0],[1.0,1.0,1.0],[1.0,1.0,1.0],[0.9960784316062927,0.8392156958580017,0.8039215803146362],[0.9921568632125854,0.4588235318660736,0.14901961386203766],[0.9960784316062927,0.7921568751335144,0.7450980544090271],[1.0,1.0,1.0],[1.0,1.0,1.0],[1.0,1.0,1.0],[1.0,1.0,1.0],[1.0,1.0,1.0],[1.0,1.0,1.0]],[[1.0,1.0,1.0],[1.0,1.0,1.0],[1.0,1.0,1.0],[1.0,1.0,1.0],[1.0,1.0,1.0],[0.9960784316062927,0.886274516582489,0.8588235378265381],[0.9921568632125854,0.6078431606292725,0.47843137383461],[1.0,0.9686274528503418,0.9607843160629272],[1.0,1.0,1.0],[1.0,1.0,1.0],[1.0,1.0,1.0],[1.0,1.0,1.0],[1.0,1.0,1.0],[1.0,1.0,1.0],[1.0,1.0,1.0],[1.0,1.0,1.0],[1.0,1.0,1.0],[1.0,1.0,1.0],[1.0,1.0,1.0],[1.0,1.0,1.0],[1.0,1.0,1.0],[1.0,1.0,1.0],[1.0,1.0,1.0],[1.0,1.0,1.0],[1.0,1.0,1.0],[1.0,1.0,1.0],[1.0,1.0,1.0],[1.0,1.0,1.0],[1.0,1.0,1.0],[1.0,1.0,1.0],[1.0,1.0,1.0],[1.0,1.0,1.0],[1.0,1.0,1.0],[1.0,1.0,1.0],[1.0,1.0,1.0],[1.0,1.0,1.0],[1.0,1.0,1.0],[1.0,1.0,1.0],[1.0,1.0,1.0],[1.0,1.0,1.0],[1.0,1.0,1.0],[1.0,1.0,1.0],[1.0,1.0,1.0],[1.0,1.0,1.0],[1.0,1.0,1.0],[1.0,1.0,1.0],[1.0,1.0,1.0],[1.0,1.0,1.0],[1.0,1.0,1.0],[1.0,1.0,1.0],[1.0,1.0,1.0],[1.0,1.0,1.0],[1.0,1.0,1.0],[1.0,1.0,1.0],[1.0,1.0,1.0],[1.0,1.0,1.0],[1.0,1.0,1.0],[1.0,1.0,1.0],[1.0,1.0,1.0],[1.0,1.0,1.0],[1.0,1.0,1.0],[1.0,1.0,1.0],[1.0,1.0,1.0],[1.0,1.0,1.0],[1.0,1.0,1.0],[1.0,1.0,1.0],[1.0,1.0,1.0],[1.0,1.0,1.0],[1.0,1.0,1.0],[1.0,1.0,1.0],[0.9960784316062927,0.8941176533699036,0.8705882430076599],[0.9921568632125854,0.5490196347236633,0.3764705955982208],[1.0,0.9882352948188782,0.9843137264251709],[1.0,1.0,1.0],[1.0,1.0,1.0],[1.0,1.0,1.0],[1.0,1.0,1.0],[1.0,1.0,1.0]],[[1.0,1.0,1.0],[1.0,1.0,1.0],[1.0,1.0,1.0],[1.0,1.0,1.0],[1.0,1.0,1.0],[0.9960784316062927,0.772549033164978,0.7176470756530762],[1.0,0.9764705896377563,0.9725490212440491],[1.0,1.0,1.0],[1.0,1.0,1.0],[1.0,1.0,1.0],[1.0,1.0,1.0],[1.0,1.0,1.0],[1.0,1.0,1.0],[1.0,1.0,1.0],[1.0,1.0,1.0],[1.0,1.0,1.0],[1.0,1.0,1.0],[1.0,1.0,1.0],[1.0,1.0,1.0],[1.0,1.0,1.0],[1.0,1.0,1.0],[1.0,1.0,1.0],[1.0,1.0,1.0],[1.0,1.0,1.0],[1.0,1.0,1.0],[1.0,1.0,1.0],[1.0,1.0,1.0],[1.0,1.0,1.0],[1.0,1.0,1.0],[1.0,1.0,1.0],[1.0,1.0,1.0],[1.0,1.0,1.0],[1.0,1.0,1.0],[1.0,1.0,1.0],[1.0,1.0,1.0],[1.0,1.0,1.0],[1.0,1.0,1.0],[1.0,1.0,1.0],[1.0,1.0,1.0],[1.0,1.0,1.0],[1.0,1.0,1.0],[1.0,1.0,1.0],[1.0,1.0,1.0],[1.0,1.0,1.0],[1.0,1.0,1.0],[1.0,1.0,1.0],[1.0,1.0,1.0],[1.0,1.0,1.0],[1.0,1.0,1.0],[1.0,1.0,1.0],[1.0,1.0,1.0],[1.0,1.0,1.0],[1.0,1.0,1.0],[1.0,1.0,1.0],[1.0,1.0,1.0],[1.0,1.0,1.0],[1.0,1.0,1.0],[1.0,1.0,1.0],[1.0,1.0,1.0],[1.0,1.0,1.0],[1.0,1.0,1.0],[1.0,1.0,1.0],[1.0,1.0,1.0],[1.0,1.0,1.0],[1.0,1.0,1.0],[1.0,1.0,1.0],[1.0,1.0,1.0],[1.0,1.0,1.0],[1.0,1.0,1.0],[1.0,1.0,1.0],[1.0,1.0,1.0],[0.9960784316062927,0.9019607901573181,0.8784313797950745],[0.9960784316062927,0.8627451062202454,0.8313725590705872],[1.0,1.0,1.0],[1.0,1.0,1.0],[1.0,1.0,1.0],[1.0,1.0,1.0],[1.0,1.0,1.0]],[[1.0,1.0,1.0],[1.0,1.0,1.0],[1.0,1.0,1.0],[1.0,1.0,1.0],[1.0,0.9921568632125854,0.9921568632125854],[1.0,0.9686274528503418,0.9607843160629272],[1.0,1.0,1.0],[1.0,1.0,1.0],[1.0,1.0,1.0],[1.0,1.0,1.0],[1.0,1.0,1.0],[1.0,1.0,1.0],[1.0,1.0,1.0],[1.0,1.0,1.0],[1.0,1.0,1.0],[1.0,1.0,1.0],[1.0,1.0,1.0],[1.0,1.0,1.0],[1.0,1.0,1.0],[1.0,1.0,1.0],[1.0,1.0,1.0],[1.0,1.0,1.0],[1.0,1.0,1.0],[1.0,1.0,1.0],[1.0,1.0,1.0],[1.0,1.0,1.0],[1.0,1.0,1.0],[1.0,1.0,1.0],[1.0,1.0,1.0],[1.0,1.0,1.0],[1.0,1.0,1.0],[1.0,1.0,1.0],[1.0,1.0,1.0],[1.0,1.0,1.0],[1.0,1.0,1.0],[1.0,1.0,1.0],[1.0,1.0,1.0],[1.0,1.0,1.0],[1.0,1.0,1.0],[1.0,1.0,1.0],[1.0,1.0,1.0],[1.0,1.0,1.0],[1.0,1.0,1.0],[1.0,1.0,1.0],[1.0,1.0,1.0],[1.0,1.0,1.0],[1.0,1.0,1.0],[1.0,1.0,1.0],[1.0,1.0,1.0],[1.0,1.0,1.0],[1.0,1.0,1.0],[1.0,1.0,1.0],[1.0,1.0,1.0],[1.0,1.0,1.0],[1.0,1.0,1.0],[1.0,1.0,1.0],[1.0,1.0,1.0],[1.0,1.0,1.0],[1.0,1.0,1.0],[1.0,1.0,1.0],[1.0,1.0,1.0],[1.0,1.0,1.0],[1.0,1.0,1.0],[1.0,1.0,1.0],[1.0,1.0,1.0],[1.0,1.0,1.0],[1.0,1.0,1.0],[1.0,1.0,1.0],[1.0,1.0,1.0],[1.0,1.0,1.0],[1.0,1.0,1.0],[1.0,1.0,1.0],[1.0,0.9607843160629272,0.9529411792755127],[1.0,1.0,1.0],[1.0,1.0,1.0],[1.0,1.0,1.0],[1.0,1.0,1.0],[1.0,1.0,1.0]],[[1.0,1.0,1.0],[1.0,1.0,1.0],[1.0,1.0,1.0],[1.0,1.0,1.0],[1.0,1.0,1.0],[1.0,1.0,1.0],[1.0,1.0,1.0],[1.0,1.0,1.0],[1.0,1.0,1.0],[1.0,1.0,1.0],[1.0,1.0,1.0],[1.0,1.0,1.0],[1.0,1.0,1.0],[1.0,1.0,1.0],[1.0,1.0,1.0],[1.0,1.0,1.0],[1.0,1.0,1.0],[1.0,1.0,1.0],[1.0,1.0,1.0],[1.0,1.0,1.0],[1.0,1.0,1.0],[1.0,1.0,1.0],[1.0,1.0,1.0],[1.0,1.0,1.0],[1.0,1.0,1.0],[1.0,1.0,1.0],[1.0,1.0,1.0],[1.0,1.0,1.0],[1.0,1.0,1.0],[1.0,1.0,1.0],[1.0,1.0,1.0],[1.0,1.0,1.0],[1.0,1.0,1.0],[1.0,1.0,1.0],[1.0,1.0,1.0],[1.0,1.0,1.0],[1.0,1.0,1.0],[1.0,1.0,1.0],[1.0,1.0,1.0],[1.0,1.0,1.0],[1.0,1.0,1.0],[1.0,1.0,1.0],[1.0,1.0,1.0],[1.0,1.0,1.0],[1.0,1.0,1.0],[1.0,1.0,1.0],[1.0,1.0,1.0],[1.0,1.0,1.0],[1.0,1.0,1.0],[1.0,1.0,1.0],[1.0,1.0,1.0],[1.0,1.0,1.0],[1.0,1.0,1.0],[1.0,1.0,1.0],[1.0,1.0,1.0],[1.0,1.0,1.0],[1.0,1.0,1.0],[1.0,1.0,1.0],[1.0,1.0,1.0],[1.0,1.0,1.0],[1.0,1.0,1.0],[1.0,1.0,1.0],[1.0,1.0,1.0],[1.0,1.0,1.0],[1.0,1.0,1.0],[1.0,1.0,1.0],[1.0,1.0,1.0],[1.0,1.0,1.0],[1.0,1.0,1.0],[1.0,1.0,1.0],[1.0,1.0,1.0],[1.0,1.0,1.0],[1.0,1.0,1.0],[1.0,1.0,1.0],[1.0,1.0,1.0],[1.0,1.0,1.0],[1.0,1.0,1.0],[1.0,1.0,1.0]],[[1.0,1.0,1.0],[1.0,1.0,1.0],[1.0,1.0,1.0],[1.0,1.0,1.0],[1.0,1.0,1.0],[1.0,1.0,1.0],[1.0,1.0,1.0],[1.0,1.0,1.0],[1.0,1.0,1.0],[1.0,1.0,1.0],[1.0,1.0,1.0],[1.0,1.0,1.0],[1.0,1.0,1.0],[1.0,1.0,1.0],[1.0,1.0,1.0],[1.0,1.0,1.0],[1.0,1.0,1.0],[1.0,1.0,1.0],[1.0,1.0,1.0],[1.0,1.0,1.0],[1.0,1.0,1.0],[1.0,1.0,1.0],[1.0,1.0,1.0],[1.0,1.0,1.0],[1.0,1.0,1.0],[1.0,1.0,1.0],[1.0,1.0,1.0],[1.0,1.0,1.0],[1.0,1.0,1.0],[1.0,1.0,1.0],[1.0,1.0,1.0],[1.0,1.0,1.0],[1.0,1.0,1.0],[1.0,1.0,1.0],[1.0,1.0,1.0],[1.0,1.0,1.0],[1.0,1.0,1.0],[1.0,1.0,1.0],[1.0,1.0,1.0],[1.0,1.0,1.0],[1.0,1.0,1.0],[1.0,1.0,1.0],[1.0,1.0,1.0],[1.0,1.0,1.0],[1.0,1.0,1.0],[1.0,1.0,1.0],[1.0,1.0,1.0],[1.0,1.0,1.0],[1.0,1.0,1.0],[1.0,1.0,1.0],[1.0,1.0,1.0],[1.0,1.0,1.0],[1.0,1.0,1.0],[1.0,1.0,1.0],[1.0,1.0,1.0],[1.0,1.0,1.0],[1.0,1.0,1.0],[1.0,1.0,1.0],[1.0,1.0,1.0],[1.0,1.0,1.0],[1.0,1.0,1.0],[1.0,1.0,1.0],[1.0,1.0,1.0],[1.0,1.0,1.0],[1.0,1.0,1.0],[1.0,1.0,1.0],[1.0,1.0,1.0],[1.0,1.0,1.0],[1.0,1.0,1.0],[1.0,1.0,1.0],[1.0,1.0,1.0],[1.0,1.0,1.0],[1.0,1.0,1.0],[1.0,1.0,1.0],[1.0,1.0,1.0],[1.0,1.0,1.0],[1.0,1.0,1.0],[1.0,1.0,1.0]],[[1.0,1.0,1.0],[1.0,1.0,1.0],[1.0,1.0,1.0],[1.0,1.0,1.0],[1.0,1.0,1.0],[1.0,1.0,1.0],[1.0,1.0,1.0],[1.0,1.0,1.0],[1.0,1.0,1.0],[1.0,1.0,1.0],[1.0,1.0,1.0],[1.0,1.0,1.0],[1.0,1.0,1.0],[1.0,1.0,1.0],[1.0,1.0,1.0],[1.0,1.0,1.0],[1.0,1.0,1.0],[1.0,1.0,1.0],[1.0,1.0,1.0],[1.0,1.0,1.0],[1.0,1.0,1.0],[1.0,1.0,1.0],[1.0,1.0,1.0],[1.0,1.0,1.0],[1.0,1.0,1.0],[1.0,1.0,1.0],[1.0,1.0,1.0],[1.0,1.0,1.0],[1.0,1.0,1.0],[1.0,1.0,1.0],[1.0,1.0,1.0],[1.0,1.0,1.0],[1.0,1.0,1.0],[1.0,1.0,1.0],[1.0,1.0,1.0],[1.0,1.0,1.0],[1.0,1.0,1.0],[1.0,1.0,1.0],[1.0,1.0,1.0],[1.0,1.0,1.0],[1.0,1.0,1.0],[1.0,1.0,1.0],[1.0,1.0,1.0],[1.0,1.0,1.0],[1.0,1.0,1.0],[1.0,1.0,1.0],[1.0,1.0,1.0],[1.0,1.0,1.0],[1.0,1.0,1.0],[1.0,1.0,1.0],[1.0,1.0,1.0],[0.9921568632125854,0.9921568632125854,0.9921568632125854],[0.9019607901573181,0.9019607901573181,0.9019607901573181],[0.9921568632125854,0.9921568632125854,0.9921568632125854],[1.0,1.0,1.0],[1.0,1.0,1.0],[1.0,1.0,1.0],[1.0,1.0,1.0],[1.0,1.0,1.0],[1.0,1.0,1.0],[1.0,1.0,1.0],[1.0,1.0,1.0],[1.0,1.0,1.0],[1.0,1.0,1.0],[1.0,1.0,1.0],[1.0,1.0,1.0],[1.0,1.0,1.0],[1.0,1.0,1.0],[1.0,1.0,1.0],[1.0,1.0,1.0],[1.0,1.0,1.0],[1.0,1.0,1.0],[1.0,1.0,1.0],[1.0,1.0,1.0],[1.0,1.0,1.0],[1.0,1.0,1.0],[1.0,1.0,1.0],[1.0,1.0,1.0]],[[1.0,1.0,1.0],[1.0,1.0,1.0],[1.0,1.0,1.0],[1.0,1.0,1.0],[1.0,1.0,1.0],[1.0,1.0,1.0],[1.0,1.0,1.0],[1.0,1.0,1.0],[1.0,1.0,1.0],[1.0,1.0,1.0],[1.0,1.0,1.0],[1.0,1.0,1.0],[1.0,1.0,1.0],[1.0,1.0,1.0],[1.0,1.0,1.0],[1.0,1.0,1.0],[1.0,1.0,1.0],[1.0,1.0,1.0],[1.0,1.0,1.0],[1.0,1.0,1.0],[1.0,1.0,1.0],[1.0,1.0,1.0],[1.0,1.0,1.0],[1.0,1.0,1.0],[1.0,1.0,1.0],[1.0,1.0,1.0],[1.0,1.0,1.0],[1.0,1.0,1.0],[1.0,1.0,1.0],[1.0,1.0,1.0],[1.0,1.0,1.0],[1.0,1.0,1.0],[1.0,1.0,1.0],[1.0,1.0,1.0],[1.0,1.0,1.0],[1.0,1.0,1.0],[1.0,1.0,1.0],[1.0,1.0,1.0],[1.0,1.0,1.0],[1.0,1.0,1.0],[1.0,1.0,1.0],[1.0,1.0,1.0],[1.0,1.0,1.0],[1.0,1.0,1.0],[1.0,1.0,1.0],[1.0,1.0,1.0],[1.0,1.0,1.0],[1.0,1.0,1.0],[1.0,1.0,1.0],[1.0,1.0,1.0],[0.9921568632125854,0.9921568632125854,0.9921568632125854],[0.3529411852359772,0.3529411852359772,0.3529411852359772],[0.30588236451148987,0.30588236451148987,0.30588236451148987],[0.9725490212440491,0.9725490212440491,0.9725490212440491],[1.0,1.0,1.0],[1.0,1.0,1.0],[1.0,1.0,1.0],[1.0,1.0,1.0],[1.0,1.0,1.0],[1.0,1.0,1.0],[1.0,1.0,1.0],[1.0,1.0,1.0],[1.0,1.0,1.0],[1.0,1.0,1.0],[1.0,1.0,1.0],[1.0,1.0,1.0],[1.0,1.0,1.0],[1.0,1.0,1.0],[1.0,1.0,1.0],[1.0,1.0,1.0],[1.0,1.0,1.0],[1.0,1.0,1.0],[1.0,1.0,1.0],[1.0,1.0,1.0],[1.0,1.0,1.0],[1.0,1.0,1.0],[1.0,1.0,1.0],[1.0,1.0,1.0]],[[1.0,1.0,1.0],[1.0,1.0,1.0],[1.0,1.0,1.0],[1.0,1.0,1.0],[1.0,1.0,1.0],[1.0,1.0,1.0],[1.0,1.0,1.0],[1.0,1.0,1.0],[1.0,1.0,1.0],[1.0,1.0,1.0],[1.0,1.0,1.0],[1.0,1.0,1.0],[1.0,1.0,1.0],[1.0,1.0,1.0],[1.0,1.0,1.0],[1.0,1.0,1.0],[1.0,1.0,1.0],[1.0,1.0,1.0],[1.0,1.0,1.0],[1.0,1.0,1.0],[1.0,1.0,1.0],[1.0,1.0,1.0],[1.0,1.0,1.0],[1.0,1.0,1.0],[1.0,1.0,1.0],[1.0,1.0,1.0],[1.0,1.0,1.0],[1.0,1.0,1.0],[1.0,1.0,1.0],[1.0,1.0,1.0],[1.0,1.0,1.0],[1.0,1.0,1.0],[1.0,1.0,1.0],[1.0,1.0,1.0],[1.0,1.0,1.0],[1.0,1.0,1.0],[1.0,1.0,1.0],[1.0,1.0,1.0],[1.0,1.0,1.0],[1.0,1.0,1.0],[1.0,1.0,1.0],[1.0,1.0,1.0],[1.0,1.0,1.0],[1.0,1.0,1.0],[1.0,1.0,1.0],[1.0,1.0,1.0],[1.0,1.0,1.0],[1.0,1.0,1.0],[1.0,1.0,1.0],[1.0,1.0,1.0],[0.9882352948188782,0.9882352948188782,0.9882352948188782],[0.30588236451148987,0.30588236451148987,0.30588236451148987],[0.30588236451148987,0.30588236451148987,0.30588236451148987],[0.9725490212440491,0.9725490212440491,0.9725490212440491],[1.0,1.0,1.0],[1.0,1.0,1.0],[1.0,1.0,1.0],[1.0,1.0,1.0],[1.0,1.0,1.0],[1.0,1.0,1.0],[1.0,1.0,1.0],[1.0,1.0,1.0],[1.0,1.0,1.0],[1.0,1.0,1.0],[1.0,1.0,1.0],[1.0,1.0,1.0],[1.0,1.0,1.0],[1.0,1.0,1.0],[1.0,1.0,1.0],[1.0,1.0,1.0],[1.0,1.0,1.0],[1.0,1.0,1.0],[1.0,1.0,1.0],[1.0,1.0,1.0],[1.0,1.0,1.0],[1.0,1.0,1.0],[1.0,1.0,1.0],[1.0,1.0,1.0]],[[1.0,1.0,1.0],[1.0,1.0,1.0],[1.0,1.0,1.0],[0.9843137264251709,0.9843137264251709,0.9843137264251709],[0.9843137264251709,0.9843137264251709,0.9843137264251709],[0.9921568632125854,0.9921568632125854,0.9921568632125854],[1.0,1.0,1.0],[1.0,1.0,1.0],[1.0,1.0,1.0],[1.0,1.0,1.0],[1.0,1.0,1.0],[1.0,1.0,1.0],[1.0,1.0,1.0],[1.0,1.0,1.0],[1.0,1.0,1.0],[1.0,1.0,1.0],[1.0,1.0,1.0],[0.9921568632125854,0.9921568632125854,0.9921568632125854],[0.9921568632125854,0.9921568632125854,0.9921568632125854],[0.9960784316062927,0.9960784316062927,0.9960784316062927],[1.0,1.0,1.0],[1.0,1.0,1.0],[1.0,1.0,1.0],[1.0,1.0,1.0],[1.0,1.0,1.0],[1.0,1.0,1.0],[1.0,1.0,1.0],[1.0,1.0,1.0],[0.9450980424880981,0.9450980424880981,0.9450980424880981],[0.9058823585510254,0.9058823585510254,0.9058823585510254],[0.9372549057006836,0.9372549057006836,0.9372549057006836],[1.0,1.0,1.0],[1.0,1.0,1.0],[1.0,1.0,1.0],[1.0,1.0,1.0],[1.0,1.0,1.0],[1.0,1.0,1.0],[1.0,1.0,1.0],[1.0,1.0,1.0],[1.0,1.0,1.0],[1.0,1.0,1.0],[1.0,1.0,1.0],[1.0,1.0,1.0],[1.0,1.0,1.0],[1.0,1.0,1.0],[1.0,1.0,1.0],[1.0,1.0,1.0],[1.0,1.0,1.0],[1.0,1.0,1.0],[1.0,1.0,1.0],[0.9921568632125854,0.9921568632125854,0.9921568632125854],[0.30588236451148987,0.30588236451148987,0.30588236451148987],[0.30588236451148987,0.30588236451148987,0.30588236451148987],[0.9764705896377563,0.9764705896377563,0.9764705896377563],[1.0,1.0,1.0],[1.0,1.0,1.0],[1.0,1.0,1.0],[1.0,1.0,1.0],[1.0,1.0,1.0],[1.0,1.0,1.0],[1.0,1.0,1.0],[1.0,1.0,1.0],[0.9764705896377563,0.9764705896377563,0.9764705896377563],[0.9215686321258545,0.9215686321258545,0.9215686321258545],[0.95686274766922,0.95686274766922,0.95686274766922],[1.0,1.0,1.0],[1.0,1.0,1.0],[1.0,1.0,1.0],[1.0,1.0,1.0],[1.0,1.0,1.0],[1.0,1.0,1.0],[1.0,1.0,1.0],[1.0,1.0,1.0],[1.0,1.0,1.0],[1.0,1.0,1.0],[1.0,1.0,1.0],[0.9254902005195618,0.9254902005195618,0.9254902005195618],[0.9411764740943909,0.9411764740943909,0.9411764740943909]],[[1.0,1.0,1.0],[1.0,1.0,1.0],[1.0,1.0,1.0],[0.5254902243614197,0.5254902243614197,0.5254902243614197],[0.30588236451148987,0.30588236451148987,0.30588236451148987],[0.843137264251709,0.843137264251709,0.843137264251709],[1.0,1.0,1.0],[1.0,1.0,1.0],[1.0,1.0,1.0],[0.686274528503418,0.686274528503418,0.686274528503418],[0.3686274588108063,0.3686274588108063,0.3686274588108063],[0.772549033164978,0.772549033164978,0.772549033164978],[1.0,1.0,1.0],[1.0,1.0,1.0],[1.0,1.0,1.0],[1.0,1.0,1.0],[1.0,1.0,1.0],[0.545098066329956,0.545098066329956,0.545098066329956],[0.30588236451148987,0.30588236451148987,0.30588236451148987],[0.8156862854957581,0.8156862854957581,0.8156862854957581],[1.0,1.0,1.0],[1.0,1.0,1.0],[1.0,1.0,1.0],[0.7098039388656616,0.7098039388656616,0.7098039388656616],[0.3686274588108063,0.3686274588108063,0.3686274588108063],[0.8705882430076599,0.8705882430076599,0.8705882430076599],[0.9058823585510254,0.9058823585510254,0.9058823585510254],[0.545098066329956,0.545098066329956,0.545098066329956],[0.30588236451148987,0.30588236451148987,0.30588236451148987],[0.30588236451148987,0.30588236451148987,0.30588236451148987],[0.30588236451148987,0.30588236451148987,0.30588236451148987],[0.5098039507865906,0.5098039507865906,0.5098039507865906],[0.886274516582489,0.886274516582489,0.886274516582489],[1.0,1.0,1.0],[1.0,1.0,1.0],[1.0,1.0,1.0],[0.6627451181411743,0.6627451181411743,0.6627451181411743],[0.30588236451148987,0.30588236451148987,0.30588236451148987],[0.6196078658103943,0.6196078658103943,0.6196078658103943],[1.0,1.0,1.0],[1.0,1.0,1.0],[1.0,1.0,1.0],[1.0,1.0,1.0],[1.0,1.0,1.0],[0.9490196108818054,0.9490196108818054,0.9490196108818054],[0.35686275362968445,0.35686275362968445,0.35686275362968445],[0.35686275362968445,0.35686275362968445,0.35686275362968445],[0.9450980424880981,0.9450980424880981,0.9450980424880981],[1.0,1.0,1.0],[0.4588235318660736,0.4588235318660736,0.4588235318660736],[0.34117648005485535,0.34117648005485535,0.34117648005485535],[0.30588236451148987,0.30588236451148987,0.30588236451148987],[0.30588236451148987,0.30588236451148987,0.30588236451148987],[0.35686275362968445,0.35686275362968445,0.35686275362968445],[0.364705890417099,0.364705890417099,0.364705890417099],[0.364705890417099,0.364705890417099,0.364705890417099],[0.9176470637321472,0.9176470637321472,0.9176470637321472],[1.0,1.0,1.0],[1.0,1.0,1.0],[1.0,1.0,1.0],[0.9098039269447327,0.9098039269447327,0.9098039269447327],[0.5843137502670288,0.5843137502670288,0.5843137502670288],[0.3137255012989044,0.3137255012989044,0.3137255012989044],[0.30588236451148987,0.30588236451148987,0.30588236451148987],[0.30588236451148987,0.30588236451148987,0.30588236451148987],[0.501960813999176,0.501960813999176,0.501960813999176],[0.8666666746139526,0.8666666746139526,0.8666666746139526],[1.0,1.0,1.0],[1.0,1.0,1.0],[1.0,1.0,1.0],[1.0,1.0,1.0],[0.886274516582489,0.886274516582489,0.886274516582489],[0.3450980484485626,0.3450980484485626,0.3450980484485626],[0.7019608020782471,0.7019608020782471,0.7019608020782471],[0.9372549057006836,0.9372549057006836,0.9372549057006836],[0.529411792755127,0.529411792755127,0.529411792755127],[0.30588236451148987,0.30588236451148987,0.30588236451148987],[0.7019608020782471,0.7019608020782471,0.7019608020782471]],[[1.0,1.0,1.0],[1.0,1.0,1.0],[1.0,1.0,1.0],[0.5254902243614197,0.5254902243614197,0.5254902243614197],[0.30588236451148987,0.30588236451148987,0.30588236451148987],[0.843137264251709,0.843137264251709,0.843137264251709],[1.0,1.0,1.0],[1.0,1.0,1.0],[1.0,1.0,1.0],[0.6705882549285889,0.6705882549285889,0.6705882549285889],[0.30588236451148987,0.30588236451148987,0.30588236451148987],[0.7607843279838562,0.7607843279838562,0.7607843279838562],[1.0,1.0,1.0],[1.0,1.0,1.0],[1.0,1.0,1.0],[1.0,1.0,1.0],[1.0,1.0,1.0],[0.5490196347236633,0.5490196347236633,0.5490196347236633],[0.30588236451148987,0.30588236451148987,0.30588236451148987],[0.8156862854957581,0.8156862854957581,0.8156862854957581],[1.0,1.0,1.0],[1.0,1.0,1.0],[1.0,1.0,1.0],[0.7098039388656616,0.7098039388656616,0.7098039388656616],[0.30588236451148987,0.30588236451148987,0.30588236451148987],[0.6941176652908325,0.6941176652908325,0.6941176652908325],[0.35686275362968445,0.35686275362968445,0.35686275362968445],[0.4313725531101227,0.4313725531101227,0.4313725531101227],[0.7058823704719543,0.7058823704719543,0.7058823704719543],[0.729411780834198,0.729411780834198,0.729411780834198],[0.501960813999176,0.501960813999176,0.501960813999176],[0.30588236451148987,0.30588236451148987,0.30588236451148987],[0.3333333432674408,0.3333333432674408,0.3333333432674408],[0.8784313797950745,0.8784313797950745,0.8784313797950745],[1.0,1.0,1.0],[1.0,1.0,1.0],[0.8901960849761963,0.8901960849761963,0.8901960849761963],[0.30588236451148987,0.30588236451148987,0.30588236451148987],[0.32156863808631897,0.32156863808631897,0.32156863808631897],[0.9607843160629272,0.9607843160629272,0.9607843160629272],[1.0,1.0,1.0],[1.0,1.0,1.0],[1.0,1.0,1.0],[1.0,1.0,1.0],[0.7764706015586853,0.7764706015586853,0.7764706015586853],[0.30588236451148987,0.30588236451148987,0.30588236451148987],[0.5843137502670288,0.5843137502670288,0.5843137502670288],[1.0,1.0,1.0],[1.0,1.0,1.0],[0.7215686440467834,0.7215686440467834,0.7215686440467834],[0.6705882549285889,0.6705882549285889,0.6705882549285889],[0.30588236451148987,0.30588236451148987,0.30588236451148987],[0.30588236451148987,0.30588236451148987,0.30588236451148987],[0.6470588445663452,0.6470588445663452,0.6470588445663452],[0.6627451181411743,0.6627451181411743,0.6627451181411743],[0.6627451181411743,0.6627451181411743,0.6627451181411743],[0.9450980424880981,0.9450980424880981,0.9450980424880981],[1.0,1.0,1.0],[1.0,1.0,1.0],[0.8705882430076599,0.8705882430076599,0.8705882430076599],[0.3450980484485626,0.3450980484485626,0.3450980484485626],[0.4156862795352936,0.4156862795352936,0.4156862795352936],[0.7843137383460999,0.7843137383460999,0.7843137383460999],[0.8980392217636108,0.8980392217636108,0.8980392217636108],[0.8117647171020508,0.8117647171020508,0.8117647171020508],[0.4588235318660736,0.4588235318660736,0.4588235318660736],[0.32156863808631897,0.32156863808631897,0.32156863808631897],[0.8627451062202454,0.8627451062202454,0.8627451062202454],[1.0,1.0,1.0],[1.0,1.0,1.0],[1.0,1.0,1.0],[0.9098039269447327,0.9098039269447327,0.9098039269447327],[0.30588236451148987,0.30588236451148987,0.30588236451148987],[0.6745098233222961,0.6745098233222961,0.6745098233222961],[0.4901960790157318,0.4901960790157318,0.4901960790157318],[0.3137255012989044,0.3137255012989044,0.3137255012989044],[0.5254902243614197,0.5254902243614197,0.5254902243614197],[0.7803921699523926,0.7803921699523926,0.7803921699523926]],[[1.0,1.0,1.0],[1.0,1.0,1.0],[1.0,1.0,1.0],[0.5254902243614197,0.5254902243614197,0.5254902243614197],[0.30588236451148987,0.30588236451148987,0.30588236451148987],[0.843137264251709,0.843137264251709,0.843137264251709],[1.0,1.0,1.0],[1.0,1.0,1.0],[1.0,1.0,1.0],[0.6705882549285889,0.6705882549285889,0.6705882549285889],[0.30588236451148987,0.30588236451148987,0.30588236451148987],[0.7607843279838562,0.7607843279838562,0.7607843279838562],[1.0,1.0,1.0],[1.0,1.0,1.0],[1.0,1.0,1.0],[1.0,1.0,1.0],[1.0,1.0,1.0],[0.5490196347236633,0.5490196347236633,0.5490196347236633],[0.30588236451148987,0.30588236451148987,0.30588236451148987],[0.8156862854957581,0.8156862854957581,0.8156862854957581],[1.0,1.0,1.0],[1.0,1.0,1.0],[1.0,1.0,1.0],[0.7098039388656616,0.7098039388656616,0.7098039388656616],[0.30588236451148987,0.30588236451148987,0.30588236451148987],[0.30588236451148987,0.30588236451148987,0.30588236451148987],[0.6039215922355652,0.6039215922355652,0.6039215922355652],[0.9764705896377563,0.9764705896377563,0.9764705896377563],[1.0,1.0,1.0],[1.0,1.0,1.0],[0.9921568632125854,0.9921568632125854,0.9921568632125854],[0.6705882549285889,0.6705882549285889,0.6705882549285889],[0.30588236451148987,0.30588236451148987,0.30588236451148987],[0.45098039507865906,0.45098039507865906,0.45098039507865906],[0.9882352948188782,0.9882352948188782,0.9882352948188782],[1.0,1.0,1.0],[1.0,1.0,1.0],[0.501960813999176,0.501960813999176,0.501960813999176],[0.30588236451148987,0.30588236451148987,0.30588236451148987],[0.7803921699523926,0.7803921699523926,0.7803921699523926],[1.0,1.0,1.0],[1.0,1.0,1.0],[1.0,1.0,1.0],[1.0,1.0,1.0],[0.545098066329956,0.545098066329956,0.545098066329956],[0.30588236451148987,0.30588236451148987,0.30588236451148987],[0.8313725590705872,0.8313725590705872,0.8313725590705872],[1.0,1.0,1.0],[1.0,1.0,1.0],[1.0,1.0,1.0],[0.9803921580314636,0.9803921580314636,0.9803921580314636],[0.30588236451148987,0.30588236451148987,0.30588236451148987],[0.30588236451148987,0.30588236451148987,0.30588236451148987],[0.9725490212440491,0.9725490212440491,0.9725490212440491],[1.0,1.0,1.0],[1.0,1.0,1.0],[1.0,1.0,1.0],[1.0,1.0,1.0],[0.9686274528503418,0.9686274528503418,0.9686274528503418],[0.4000000059604645,0.4000000059604645,0.4000000059604645],[0.4274509847164154,0.4274509847164154,0.4274509847164154],[0.9450980424880981,0.9450980424880981,0.9450980424880981],[1.0,1.0,1.0],[1.0,1.0,1.0],[1.0,1.0,1.0],[0.9529411792755127,0.9529411792755127,0.9529411792755127],[0.4000000059604645,0.4000000059604645,0.4000000059604645],[0.47058823704719543,0.47058823704719543,0.47058823704719543],[0.9960784316062927,0.9960784316062927,0.9960784316062927],[1.0,1.0,1.0],[1.0,1.0,1.0],[0.9137254953384399,0.9137254953384399,0.9137254953384399],[0.30588236451148987,0.30588236451148987,0.30588236451148987],[0.40784314274787903,0.40784314274787903,0.40784314274787903],[0.4745098054409027,0.4745098054409027,0.4745098054409027],[0.9254902005195618,0.9254902005195618,0.9254902005195618],[1.0,1.0,1.0],[1.0,1.0,1.0]],[[1.0,1.0,1.0],[1.0,1.0,1.0],[1.0,1.0,1.0],[0.5254902243614197,0.5254902243614197,0.5254902243614197],[0.30588236451148987,0.30588236451148987,0.30588236451148987],[0.843137264251709,0.843137264251709,0.843137264251709],[1.0,1.0,1.0],[1.0,1.0,1.0],[1.0,1.0,1.0],[0.6705882549285889,0.6705882549285889,0.6705882549285889],[0.30588236451148987,0.30588236451148987,0.30588236451148987],[0.7607843279838562,0.7607843279838562,0.7607843279838562],[1.0,1.0,1.0],[1.0,1.0,1.0],[1.0,1.0,1.0],[1.0,1.0,1.0],[1.0,1.0,1.0],[0.5490196347236633,0.5490196347236633,0.5490196347236633],[0.30588236451148987,0.30588236451148987,0.30588236451148987],[0.8156862854957581,0.8156862854957581,0.8156862854957581],[1.0,1.0,1.0],[1.0,1.0,1.0],[1.0,1.0,1.0],[0.7098039388656616,0.7098039388656616,0.7098039388656616],[0.30588236451148987,0.30588236451148987,0.30588236451148987],[0.3960784375667572,0.3960784375667572,0.3960784375667572],[0.9725490212440491,0.9725490212440491,0.9725490212440491],[1.0,1.0,1.0],[1.0,1.0,1.0],[1.0,1.0,1.0],[1.0,1.0,1.0],[0.9803921580314636,0.9803921580314636,0.9803921580314636],[0.4117647111415863,0.4117647111415863,0.4117647111415863],[0.30588236451148987,0.30588236451148987,0.30588236451148987],[0.8509804010391235,0.8509804010391235,0.8509804010391235],[1.0,1.0,1.0],[1.0,1.0,1.0],[0.7882353067398071,0.7882353067398071,0.7882353067398071],[0.30588236451148987,0.30588236451148987,0.30588236451148987],[0.5176470875740051,0.5176470875740051,0.5176470875740051],[1.0,1.0,1.0],[1.0,1.0,1.0],[1.0,1.0,1.0],[0.9372549057006836,0.9372549057006836,0.9372549057006836],[0.30588236451148987,0.30588236451148987,0.30588236451148987],[0.3921568691730499,0.3921568691730499,0.3921568691730499],[0.9843137264251709,0.9843137264251709,0.9843137264251709],[1.0,1.0,1.0],[1.0,1.0,1.0],[1.0,1.0,1.0],[0.9803921580314636,0.9803921580314636,0.9803921580314636],[0.30588236451148987,0.30588236451148987,0.30588236451148987],[0.30588236451148987,0.30588236451148987,0.30588236451148987],[0.9725490212440491,0.9725490212440491,0.9725490212440491],[1.0,1.0,1.0],[1.0,1.0,1.0],[1.0,1.0,1.0],[1.0,1.0,1.0],[0.7764706015586853,0.7764706015586853,0.7764706015586853],[0.30588236451148987,0.30588236451148987,0.30588236451148987],[0.7843137383460999,0.7843137383460999,0.7843137383460999],[1.0,1.0,1.0],[1.0,1.0,1.0],[1.0,1.0,1.0],[1.0,1.0,1.0],[1.0,1.0,1.0],[0.7176470756530762,0.7176470756530762,0.7176470756530762],[0.30588236451148987,0.30588236451148987,0.30588236451148987],[0.8901960849761963,0.8901960849761963,0.8901960849761963],[1.0,1.0,1.0],[1.0,1.0,1.0],[0.9019607901573181,0.9019607901573181,0.9019607901573181],[0.30588236451148987,0.30588236451148987,0.30588236451148987],[0.30588236451148987,0.30588236451148987,0.30588236451148987],[0.8901960849761963,0.8901960849761963,0.8901960849761963],[1.0,1.0,1.0],[1.0,1.0,1.0],[1.0,1.0,1.0]],[[1.0,1.0,1.0],[1.0,1.0,1.0],[1.0,1.0,1.0],[0.5254902243614197,0.5254902243614197,0.5254902243614197],[0.30588236451148987,0.30588236451148987,0.30588236451148987],[0.843137264251709,0.843137264251709,0.843137264251709],[1.0,1.0,1.0],[1.0,1.0,1.0],[1.0,1.0,1.0],[0.6705882549285889,0.6705882549285889,0.6705882549285889],[0.30588236451148987,0.30588236451148987,0.30588236451148987],[0.7607843279838562,0.7607843279838562,0.7607843279838562],[1.0,1.0,1.0],[1.0,1.0,1.0],[1.0,1.0,1.0],[1.0,1.0,1.0],[1.0,1.0,1.0],[0.5490196347236633,0.5490196347236633,0.5490196347236633],[0.30588236451148987,0.30588236451148987,0.30588236451148987],[0.8156862854957581,0.8156862854957581,0.8156862854957581],[1.0,1.0,1.0],[1.0,1.0,1.0],[1.0,1.0,1.0],[0.7098039388656616,0.7098039388656616,0.7098039388656616],[0.30588236451148987,0.30588236451148987,0.30588236451148987],[0.6627451181411743,0.6627451181411743,0.6627451181411743],[1.0,1.0,1.0],[1.0,1.0,1.0],[1.0,1.0,1.0],[1.0,1.0,1.0],[1.0,1.0,1.0],[1.0,1.0,1.0],[0.6784313917160034,0.6784313917160034,0.6784313917160034],[0.30588236451148987,0.30588236451148987,0.30588236451148987],[0.7176470756530762,0.7176470756530762,0.7176470756530762],[1.0,1.0,1.0],[1.0,1.0,1.0],[0.9725490212440491,0.9725490212440491,0.9725490212440491],[0.35686275362968445,0.35686275362968445,0.35686275362968445],[0.30588236451148987,0.30588236451148987,0.30588236451148987],[0.9137254953384399,0.9137254953384399,0.9137254953384399],[1.0,1.0,1.0],[1.0,1.0,1.0],[0.7686274647712708,0.7686274647712708,0.7686274647712708],[0.30588236451148987,0.30588236451148987,0.30588236451148987],[0.6941176652908325,0.6941176652908325,0.6941176652908325],[1.0,1.0,1.0],[1.0,1.0,1.0],[1.0,1.0,1.0],[1.0,1.0,1.0],[0.9803921580314636,0.9803921580314636,0.9803921580314636],[0.30588236451148987,0.30588236451148987,0.30588236451148987],[0.30588236451148987,0.30588236451148987,0.30588236451148987],[0.9725490212440491,0.9725490212440491,0.9725490212440491],[1.0,1.0,1.0],[1.0,1.0,1.0],[1.0,1.0,1.0],[1.0,1.0,1.0],[0.5843137502670288,0.5843137502670288,0.5843137502670288],[0.30588236451148987,0.30588236451148987,0.30588236451148987],[0.8117647171020508,0.8117647171020508,0.8117647171020508],[0.8941176533699036,0.8941176533699036,0.8941176533699036],[0.8941176533699036,0.8941176533699036,0.8941176533699036],[0.8941176533699036,0.8941176533699036,0.8941176533699036],[0.8941176533699036,0.8941176533699036,0.8941176533699036],[0.8941176533699036,0.8941176533699036,0.8941176533699036],[0.7058823704719543,0.7058823704719543,0.7058823704719543],[0.30588236451148987,0.30588236451148987,0.30588236451148987],[0.800000011920929,0.800000011920929,0.800000011920929],[1.0,1.0,1.0],[1.0,1.0,1.0],[0.8705882430076599,0.8705882430076599,0.8705882430076599],[0.30588236451148987,0.30588236451148987,0.30588236451148987],[0.3764705955982208,0.3764705955982208,0.3764705955982208],[1.0,1.0,1.0],[1.0,1.0,1.0],[1.0,1.0,1.0],[1.0,1.0,1.0]],[[1.0,1.0,1.0],[1.0,1.0,1.0],[1.0,1.0,1.0],[0.5254902243614197,0.5254902243614197,0.5254902243614197],[0.30588236451148987,0.30588236451148987,0.30588236451148987],[0.843137264251709,0.843137264251709,0.843137264251709],[1.0,1.0,1.0],[1.0,1.0,1.0],[1.0,1.0,1.0],[0.6705882549285889,0.6705882549285889,0.6705882549285889],[0.30588236451148987,0.30588236451148987,0.30588236451148987],[0.7607843279838562,0.7607843279838562,0.7607843279838562],[1.0,1.0,1.0],[1.0,1.0,1.0],[1.0,1.0,1.0],[1.0,1.0,1.0],[1.0,1.0,1.0],[0.5490196347236633,0.5490196347236633,0.5490196347236633],[0.30588236451148987,0.30588236451148987,0.30588236451148987],[0.8156862854957581,0.8156862854957581,0.8156862854957581],[1.0,1.0,1.0],[1.0,1.0,1.0],[1.0,1.0,1.0],[0.7098039388656616,0.7098039388656616,0.7098039388656616],[0.30588236451148987,0.30588236451148987,0.30588236451148987],[0.7019608020782471,0.7019608020782471,0.7019608020782471],[1.0,1.0,1.0],[1.0,1.0,1.0],[1.0,1.0,1.0],[1.0,1.0,1.0],[1.0,1.0,1.0],[1.0,1.0,1.0],[0.7803921699523926,0.7803921699523926,0.7803921699523926],[0.30588236451148987,0.30588236451148987,0.30588236451148987],[0.658823549747467,0.658823549747467,0.658823549747467],[1.0,1.0,1.0],[1.0,1.0,1.0],[1.0,1.0,1.0],[0.6705882549285889,0.6705882549285889,0.6705882549285889],[0.30588236451148987,0.30588236451148987,0.30588236451148987],[0.7137255072593689,0.7137255072593689,0.7137255072593689],[1.0,1.0,1.0],[1.0,1.0,1.0],[0.5215686559677124,0.5215686559677124,0.5215686559677124],[0.30588236451148987,0.30588236451148987,0.30588236451148987],[0.9058823585510254,0.9058823585510254,0.9058823585510254],[1.0,1.0,1.0],[1.0,1.0,1.0],[1.0,1.0,1.0],[1.0,1.0,1.0],[0.9803921580314636,0.9803921580314636,0.9803921580314636],[0.30588236451148987,0.30588236451148987,0.30588236451148987],[0.30588236451148987,0.30588236451148987,0.30588236451148987],[0.9725490212440491,0.9725490212440491,0.9725490212440491],[1.0,1.0,1.0],[1.0,1.0,1.0],[1.0,1.0,1.0],[1.0,1.0,1.0],[0.4274509847164154,0.4274509847164154,0.4274509847164154],[0.30588236451148987,0.30588236451148987,0.30588236451148987],[0.30588236451148987,0.30588236451148987,0.30588236451148987],[0.30588236451148987,0.30588236451148987,0.30588236451148987],[0.30588236451148987,0.30588236451148987,0.30588236451148987],[0.30588236451148987,0.30588236451148987,0.30588236451148987],[0.30588236451148987,0.30588236451148987,0.30588236451148987],[0.30588236451148987,0.30588236451148987,0.30588236451148987],[0.30588236451148987,0.30588236451148987,0.30588236451148987],[0.30588236451148987,0.30588236451148987,0.30588236451148987],[0.7647058963775635,0.7647058963775635,0.7647058963775635],[1.0,1.0,1.0],[1.0,1.0,1.0],[0.8705882430076599,0.8705882430076599,0.8705882430076599],[0.30588236451148987,0.30588236451148987,0.30588236451148987],[0.5215686559677124,0.5215686559677124,0.5215686559677124],[1.0,1.0,1.0],[1.0,1.0,1.0],[1.0,1.0,1.0],[1.0,1.0,1.0]],[[1.0,1.0,1.0],[1.0,1.0,1.0],[1.0,1.0,1.0],[0.5254902243614197,0.5254902243614197,0.5254902243614197],[0.30588236451148987,0.30588236451148987,0.30588236451148987],[0.843137264251709,0.843137264251709,0.843137264251709],[1.0,1.0,1.0],[1.0,1.0,1.0],[1.0,1.0,1.0],[0.6705882549285889,0.6705882549285889,0.6705882549285889],[0.30588236451148987,0.30588236451148987,0.30588236451148987],[0.7568627595901489,0.7568627595901489,0.7568627595901489],[1.0,1.0,1.0],[1.0,1.0,1.0],[1.0,1.0,1.0],[1.0,1.0,1.0],[1.0,1.0,1.0],[0.5490196347236633,0.5490196347236633,0.5490196347236633],[0.30588236451148987,0.30588236451148987,0.30588236451148987],[0.8156862854957581,0.8156862854957581,0.8156862854957581],[1.0,1.0,1.0],[1.0,1.0,1.0],[1.0,1.0,1.0],[0.7098039388656616,0.7098039388656616,0.7098039388656616],[0.30588236451148987,0.30588236451148987,0.30588236451148987],[0.7019608020782471,0.7019608020782471,0.7019608020782471],[1.0,1.0,1.0],[1.0,1.0,1.0],[1.0,1.0,1.0],[1.0,1.0,1.0],[1.0,1.0,1.0],[1.0,1.0,1.0],[0.772549033164978,0.772549033164978,0.772549033164978],[0.30588236451148987,0.30588236451148987,0.30588236451148987],[0.6705882549285889,0.6705882549285889,0.6705882549285889],[1.0,1.0,1.0],[1.0,1.0,1.0],[1.0,1.0,1.0],[0.8980392217636108,0.8980392217636108,0.8980392217636108],[0.30588236451148987,0.30588236451148987,0.30588236451148987],[0.4156862795352936,0.4156862795352936,0.4156862795352936],[0.9921568632125854,0.9921568632125854,0.9921568632125854],[0.929411768913269,0.929411768913269,0.929411768913269],[0.30588236451148987,0.30588236451148987,0.30588236451148987],[0.5137255191802979,0.5137255191802979,0.5137255191802979],[1.0,1.0,1.0],[1.0,1.0,1.0],[1.0,1.0,1.0],[1.0,1.0,1.0],[1.0,1.0,1.0],[0.9803921580314636,0.9803921580314636,0.9803921580314636],[0.30588236451148987,0.30588236451148987,0.30588236451148987],[0.30588236451148987,0.30588236451148987,0.30588236451148987],[0.9725490212440491,0.9725490212440491,0.9725490212440491],[1.0,1.0,1.0],[1.0,1.0,1.0],[1.0,1.0,1.0],[1.0,1.0,1.0],[0.3529411852359772,0.3529411852359772,0.3529411852359772],[0.30588236451148987,0.30588236451148987,0.30588236451148987],[0.7450980544090271,0.7450980544090271,0.7450980544090271],[0.8117647171020508,0.8117647171020508,0.8117647171020508],[0.8117647171020508,0.8117647171020508,0.8117647171020508],[0.8117647171020508,0.8117647171020508,0.8117647171020508],[0.8117647171020508,0.8117647171020508,0.8117647171020508],[0.8117647171020508,0.8117647171020508,0.8117647171020508],[0.8117647171020508,0.8117647171020508,0.8117647171020508],[0.8117647171020508,0.8117647171020508,0.8117647171020508],[0.9137254953384399,0.9137254953384399,0.9137254953384399],[1.0,1.0,1.0],[1.0,1.0,1.0],[0.8705882430076599,0.8705882430076599,0.8705882430076599],[0.30588236451148987,0.30588236451148987,0.30588236451148987],[0.5333333611488342,0.5333333611488342,0.5333333611488342],[1.0,1.0,1.0],[1.0,1.0,1.0],[1.0,1.0,1.0],[1.0,1.0,1.0]],[[1.0,1.0,1.0],[1.0,1.0,1.0],[1.0,1.0,1.0],[0.5254902243614197,0.5254902243614197,0.5254902243614197],[0.30588236451148987,0.30588236451148987,0.30588236451148987],[0.843137264251709,0.843137264251709,0.843137264251709],[1.0,1.0,1.0],[1.0,1.0,1.0],[1.0,1.0,1.0],[0.6784313917160034,0.6784313917160034,0.6784313917160034],[0.30588236451148987,0.30588236451148987,0.30588236451148987],[0.7254902124404907,0.7254902124404907,0.7254902124404907],[1.0,1.0,1.0],[1.0,1.0,1.0],[1.0,1.0,1.0],[1.0,1.0,1.0],[1.0,1.0,1.0],[0.5333333611488342,0.5333333611488342,0.5333333611488342],[0.30588236451148987,0.30588236451148987,0.30588236451148987],[0.8156862854957581,0.8156862854957581,0.8156862854957581],[1.0,1.0,1.0],[1.0,1.0,1.0],[1.0,1.0,1.0],[0.7098039388656616,0.7098039388656616,0.7098039388656616],[0.30588236451148987,0.30588236451148987,0.30588236451148987],[0.6941176652908325,0.6941176652908325,0.6941176652908325],[1.0,1.0,1.0],[1.0,1.0,1.0],[1.0,1.0,1.0],[1.0,1.0,1.0],[1.0,1.0,1.0],[1.0,1.0,1.0],[0.6627451181411743,0.6627451181411743,0.6627451181411743],[0.30588236451148987,0.30588236451148987,0.30588236451148987],[0.7529411911964417,0.7529411911964417,0.7529411911964417],[1.0,1.0,1.0],[1.0,1.0,1.0],[1.0,1.0,1.0],[1.0,1.0,1.0],[0.5137255191802979,0.5137255191802979,0.5137255191802979],[0.30588236451148987,0.30588236451148987,0.30588236451148987],[0.8666666746139526,0.8666666746139526,0.8666666746139526],[0.7607843279838562,0.7607843279838562,0.7607843279838562],[0.30588236451148987,0.30588236451148987,0.30588236451148987],[0.7843137383460999,0.7843137383460999,0.7843137383460999],[1.0,1.0,1.0],[1.0,1.0,1.0],[1.0,1.0,1.0],[1.0,1.0,1.0],[1.0,1.0,1.0],[0.9803921580314636,0.9803921580314636,0.9803921580314636],[0.30588236451148987,0.30588236451148987,0.30588236451148987],[0.30588236451148987,0.30588236451148987,0.30588236451148987],[0.9725490212440491,0.9725490212440491,0.9725490212440491],[1.0,1.0,1.0],[1.0,1.0,1.0],[1.0,1.0,1.0],[1.0,1.0,1.0],[0.45098039507865906,0.45098039507865906,0.45098039507865906],[0.30588236451148987,0.30588236451148987,0.30588236451148987],[0.8823529481887817,0.8823529481887817,0.8823529481887817],[1.0,1.0,1.0],[1.0,1.0,1.0],[1.0,1.0,1.0],[1.0,1.0,1.0],[1.0,1.0,1.0],[1.0,1.0,1.0],[1.0,1.0,1.0],[1.0,1.0,1.0],[1.0,1.0,1.0],[1.0,1.0,1.0],[0.8705882430076599,0.8705882430076599,0.8705882430076599],[0.30588236451148987,0.30588236451148987,0.30588236451148987],[0.5333333611488342,0.5333333611488342,0.5333333611488342],[1.0,1.0,1.0],[1.0,1.0,1.0],[1.0,1.0,1.0],[1.0,1.0,1.0]],[[1.0,1.0,1.0],[1.0,1.0,1.0],[1.0,1.0,1.0],[0.5254902243614197,0.5254902243614197,0.5254902243614197],[0.30588236451148987,0.30588236451148987,0.30588236451148987],[0.843137264251709,0.843137264251709,0.843137264251709],[1.0,1.0,1.0],[1.0,1.0,1.0],[1.0,1.0,1.0],[0.7254902124404907,0.7254902124404907,0.7254902124404907],[0.30588236451148987,0.30588236451148987,0.30588236451148987],[0.5882353186607361,0.5882353186607361,0.5882353186607361],[1.0,1.0,1.0],[1.0,1.0,1.0],[1.0,1.0,1.0],[1.0,1.0,1.0],[0.9607843160629272,0.9607843160629272,0.9607843160629272],[0.3450980484485626,0.3450980484485626,0.3450980484485626],[0.30588236451148987,0.30588236451148987,0.30588236451148987],[0.8313725590705872,0.8313725590705872,0.8313725590705872],[1.0,1.0,1.0],[1.0,1.0,1.0],[1.0,1.0,1.0],[0.7098039388656616,0.7098039388656616,0.7098039388656616],[0.30588236451148987,0.30588236451148987,0.30588236451148987],[0.47843137383461,0.47843137383461,0.47843137383461],[0.9921568632125854,0.9921568632125854,0.9921568632125854],[1.0,1.0,1.0],[1.0,1.0,1.0],[1.0,1.0,1.0],[1.0,1.0,1.0],[0.9725490212440491,0.9725490212440491,0.9725490212440491],[0.3960784375667572,0.3960784375667572,0.3960784375667572],[0.30588236451148987,0.30588236451148987,0.30588236451148987],[0.8901960849761963,0.8901960849761963,0.8901960849761963],[1.0,1.0,1.0],[1.0,1.0,1.0],[1.0,1.0,1.0],[1.0,1.0,1.0],[0.800000011920929,0.800000011920929,0.800000011920929],[0.30588236451148987,0.30588236451148987,0.30588236451148987],[0.6823529601097107,0.6823529601097107,0.6823529601097107],[0.545098066329956,0.545098066329956,0.545098066329956],[0.34117648005485535,0.34117648005485535,0.34117648005485535],[0.9647058844566345,0.9647058844566345,0.9647058844566345],[1.0,1.0,1.0],[1.0,1.0,1.0],[1.0,1.0,1.0],[1.0,1.0,1.0],[1.0,1.0,1.0],[0.9725490212440491,0.9725490212440491,0.9725490212440491],[0.30588236451148987,0.30588236451148987,0.30588236451148987],[0.30588236451148987,0.30588236451148987,0.30588236451148987],[0.9607843160629272,0.9607843160629272,0.9607843160629272],[1.0,1.0,1.0],[1.0,1.0,1.0],[1.0,1.0,1.0],[1.0,1.0,1.0],[0.6627451181411743,0.6627451181411743,0.6627451181411743],[0.30588236451148987,0.30588236451148987,0.30588236451148987],[0.658823549747467,0.658823549747467,0.658823549747467],[1.0,1.0,1.0],[1.0,1.0,1.0],[1.0,1.0,1.0],[1.0,1.0,1.0],[1.0,1.0,1.0],[1.0,1.0,1.0],[1.0,1.0,1.0],[1.0,1.0,1.0],[1.0,1.0,1.0],[1.0,1.0,1.0],[0.8705882430076599,0.8705882430076599,0.8705882430076599],[0.30588236451148987,0.30588236451148987,0.30588236451148987],[0.5333333611488342,0.5333333611488342,0.5333333611488342],[1.0,1.0,1.0],[1.0,1.0,1.0],[1.0,1.0,1.0],[1.0,1.0,1.0]],[[1.0,1.0,1.0],[1.0,1.0,1.0],[1.0,1.0,1.0],[0.5254902243614197,0.5254902243614197,0.5254902243614197],[0.30588236451148987,0.30588236451148987,0.30588236451148987],[0.843137264251709,0.843137264251709,0.843137264251709],[1.0,1.0,1.0],[1.0,1.0,1.0],[1.0,1.0,1.0],[0.8627451062202454,0.8627451062202454,0.8627451062202454],[0.30588236451148987,0.30588236451148987,0.30588236451148987],[0.30588236451148987,0.30588236451148987,0.30588236451148987],[0.8666666746139526,0.8666666746139526,0.8666666746139526],[1.0,1.0,1.0],[1.0,1.0,1.0],[0.9725490212440491,0.9725490212440491,0.9725490212440491],[0.5921568870544434,0.5921568870544434,0.5921568870544434],[0.30588236451148987,0.30588236451148987,0.30588236451148987],[0.30588236451148987,0.30588236451148987,0.30588236451148987],[0.8470588326454163,0.8470588326454163,0.8470588326454163],[1.0,1.0,1.0],[1.0,1.0,1.0],[1.0,1.0,1.0],[0.7098039388656616,0.7098039388656616,0.7098039388656616],[0.30588236451148987,0.30588236451148987,0.30588236451148987],[0.30588236451148987,0.30588236451148987,0.30588236451148987],[0.7019608020782471,0.7019608020782471,0.7019608020782471],[0.9960784316062927,0.9960784316062927,0.9960784316062927],[1.0,1.0,1.0],[1.0,1.0,1.0],[0.9882352948188782,0.9882352948188782,0.9882352948188782],[0.6392157077789307,0.6392157077789307,0.6392157077789307],[0.30588236451148987,0.30588236451148987,0.30588236451148987],[0.5529412031173706,0.5529412031173706,0.5529412031173706],[1.0,1.0,1.0],[1.0,1.0,1.0],[1.0,1.0,1.0],[1.0,1.0,1.0],[1.0,1.0,1.0],[0.9725490212440491,0.9725490212440491,0.9725490212440491],[0.364705890417099,0.364705890417099,0.364705890417099],[0.40784314274787903,0.40784314274787903,0.40784314274787903],[0.30588236451148987,0.30588236451148987,0.30588236451148987],[0.6549019813537598,0.6549019813537598,0.6549019813537598],[1.0,1.0,1.0],[1.0,1.0,1.0],[1.0,1.0,1.0],[1.0,1.0,1.0],[1.0,1.0,1.0],[1.0,1.0,1.0],[0.9921568632125854,0.9921568632125854,0.9921568632125854],[0.35686275362968445,0.35686275362968445,0.35686275362968445],[0.30588236451148987,0.30588236451148987,0.30588236451148987],[0.8509804010391235,0.8509804010391235,0.8509804010391235],[1.0,1.0,1.0],[1.0,1.0,1.0],[1.0,1.0,1.0],[1.0,1.0,1.0],[0.9176470637321472,0.9176470637321472,0.9176470637321472],[0.32549020648002625,0.32549020648002625,0.32549020648002625],[0.30588236451148987,0.30588236451148987,0.30588236451148987],[0.7764706015586853,0.7764706015586853,0.7764706015586853],[1.0,1.0,1.0],[1.0,1.0,1.0],[1.0,1.0,1.0],[1.0,1.0,1.0],[1.0,1.0,1.0],[0.9843137264251709,0.9843137264251709,0.9843137264251709],[1.0,1.0,1.0],[1.0,1.0,1.0],[1.0,1.0,1.0],[0.8705882430076599,0.8705882430076599,0.8705882430076599],[0.30588236451148987,0.30588236451148987,0.30588236451148987],[0.5333333611488342,0.5333333611488342,0.5333333611488342],[1.0,1.0,1.0],[1.0,1.0,1.0],[1.0,1.0,1.0],[1.0,1.0,1.0]],[[1.0,1.0,1.0],[1.0,1.0,1.0],[1.0,1.0,1.0],[0.5176470875740051,0.5176470875740051,0.5176470875740051],[0.30588236451148987,0.30588236451148987,0.30588236451148987],[0.8392156958580017,0.8392156958580017,0.8392156958580017],[1.0,1.0,1.0],[1.0,1.0,1.0],[1.0,1.0,1.0],[0.9960784316062927,0.9960784316062927,0.9960784316062927],[0.5411764979362488,0.5411764979362488,0.5411764979362488],[0.30588236451148987,0.30588236451148987,0.30588236451148987],[0.3137255012989044,0.3137255012989044,0.3137255012989044],[0.5647059082984924,0.5647059082984924,0.5647059082984924],[0.6039215922355652,0.6039215922355652,0.6039215922355652],[0.3921568691730499,0.3921568691730499,0.3921568691730499],[0.4588235318660736,0.4588235318660736,0.4588235318660736],[0.6431372761726379,0.6431372761726379,0.6431372761726379],[0.30588236451148987,0.30588236451148987,0.30588236451148987],[0.8392156958580017,0.8392156958580017,0.8392156958580017],[1.0,1.0,1.0],[1.0,1.0,1.0],[1.0,1.0,1.0],[0.7098039388656616,0.7098039388656616,0.7098039388656616],[0.30588236451148987,0.30588236451148987,0.30588236451148987],[0.5215686559677124,0.5215686559677124,0.5215686559677124],[0.3333333432674408,0.3333333432674408,0.3333333432674408],[0.49803921580314636,0.49803921580314636,0.49803921580314636],[0.7098039388656616,0.7098039388656616,0.7098039388656616],[0.7019608020782471,0.7019608020782471,0.7019608020782471],[0.4627451002597809,0.4627451002597809,0.4627451002597809],[0.30588236451148987,0.30588236451148987,0.30588236451148987],[0.4313725531101227,0.4313725531101227,0.4313725531101227],[0.9372549057006836,0.9372549057006836,0.9372549057006836],[1.0,1.0,1.0],[1.0,1.0,1.0],[1.0,1.0,1.0],[1.0,1.0,1.0],[1.0,1.0,1.0],[1.0,1.0,1.0],[0.6784313917160034,0.6784313917160034,0.6784313917160034],[0.30588236451148987,0.30588236451148987,0.30588236451148987],[0.30588236451148987,0.30588236451148987,0.30588236451148987],[0.8901960849761963,0.8901960849761963,0.8901960849761963],[1.0,1.0,1.0],[1.0,1.0,1.0],[1.0,1.0,1.0],[1.0,1.0,1.0],[1.0,1.0,1.0],[1.0,1.0,1.0],[1.0,1.0,1.0],[0.6705882549285889,0.6705882549285889,0.6705882549285889],[0.30588236451148987,0.30588236451148987,0.30588236451148987],[0.3843137323856354,0.3843137323856354,0.3843137323856354],[0.6705882549285889,0.6705882549285889,0.6705882549285889],[0.6352941393852234,0.6352941393852234,0.6352941393852234],[1.0,1.0,1.0],[1.0,1.0,1.0],[1.0,1.0,1.0],[0.8039215803146362,0.8039215803146362,0.8039215803146362],[0.3137255012989044,0.3137255012989044,0.3137255012989044],[0.30588236451148987,0.30588236451148987,0.30588236451148987],[0.5058823823928833,0.5058823823928833,0.5058823823928833],[0.7098039388656616,0.7098039388656616,0.7098039388656616],[0.7098039388656616,0.7098039388656616,0.7098039388656616],[0.6901960968971252,0.6901960968971252,0.6901960968971252],[0.5215686559677124,0.5215686559677124,0.5215686559677124],[0.6549019813537598,0.6549019813537598,0.6549019813537598],[1.0,1.0,1.0],[1.0,1.0,1.0],[1.0,1.0,1.0],[0.8705882430076599,0.8705882430076599,0.8705882430076599],[0.30588236451148987,0.30588236451148987,0.30588236451148987],[0.5333333611488342,0.5333333611488342,0.5333333611488342],[1.0,1.0,1.0],[1.0,1.0,1.0],[1.0,1.0,1.0],[1.0,1.0,1.0]],[[1.0,1.0,1.0],[1.0,1.0,1.0],[1.0,1.0,1.0],[0.46666666865348816,0.46666666865348816,0.46666666865348816],[0.30588236451148987,0.30588236451148987,0.30588236451148987],[0.8235294222831726,0.8235294222831726,0.8235294222831726],[1.0,1.0,1.0],[1.0,1.0,1.0],[1.0,1.0,1.0],[1.0,1.0,1.0],[0.95686274766922,0.95686274766922,0.95686274766922],[0.6196078658103943,0.6196078658103943,0.6196078658103943],[0.3137255012989044,0.3137255012989044,0.3137255012989044],[0.30588236451148987,0.30588236451148987,0.30588236451148987],[0.32156863808631897,0.32156863808631897,0.32156863808631897],[0.6313725709915161,0.6313725709915161,0.6313725709915161],[0.9490196108818054,0.9490196108818054,0.9490196108818054],[0.7647058963775635,0.7647058963775635,0.7647058963775635],[0.43529412150382996,0.43529412150382996,0.43529412150382996],[0.8313725590705872,0.8313725590705872,0.8313725590705872],[1.0,1.0,1.0],[1.0,1.0,1.0],[1.0,1.0,1.0],[0.7098039388656616,0.7098039388656616,0.7098039388656616],[0.30588236451148987,0.30588236451148987,0.30588236451148987],[0.7019608020782471,0.7019608020782471,0.7019608020782471],[0.8784313797950745,0.8784313797950745,0.8784313797950745],[0.501960813999176,0.501960813999176,0.501960813999176],[0.30588236451148987,0.30588236451148987,0.30588236451148987],[0.30588236451148987,0.30588236451148987,0.30588236451148987],[0.3450980484485626,0.3450980484485626,0.3450980484485626],[0.6627451181411743,0.6627451181411743,0.6627451181411743],[0.9490196108818054,0.9490196108818054,0.9490196108818054],[1.0,1.0,1.0],[1.0,1.0,1.0],[1.0,1.0,1.0],[1.0,1.0,1.0],[1.0,1.0,1.0],[1.0,1.0,1.0],[1.0,1.0,1.0],[0.8313725590705872,0.8313725590705872,0.8313725590705872],[0.30588236451148987,0.30588236451148987,0.30588236451148987],[0.5372549295425415,0.5372549295425415,0.5372549295425415],[1.0,1.0,1.0],[1.0,1.0,1.0],[1.0,1.0,1.0],[1.0,1.0,1.0],[1.0,1.0,1.0],[1.0,1.0,1.0],[1.0,1.0,1.0],[1.0,1.0,1.0],[0.9607843160629272,0.9607843160629272,0.9607843160629272],[0.5882353186607361,0.5882353186607361,0.5882353186607361],[0.30588236451148987,0.30588236451148987,0.30588236451148987],[0.30588236451148987,0.30588236451148987,0.30588236451148987],[0.3529411852359772,0.3529411852359772,0.3529411852359772],[0.9921568632125854,0.9921568632125854,0.9921568632125854],[1.0,1.0,1.0],[1.0,1.0,1.0],[1.0,1.0,1.0],[0.8784313797950745,0.8784313797950745,0.8784313797950745],[0.5490196347236633,0.5490196347236633,0.5490196347236633],[0.30588236451148987,0.30588236451148987,0.30588236451148987],[0.30588236451148987,0.30588236451148987,0.30588236451148987],[0.30588236451148987,0.30588236451148987,0.30588236451148987],[0.30588236451148987,0.30588236451148987,0.30588236451148987],[0.43921568989753723,0.43921568989753723,0.43921568989753723],[0.7450980544090271,0.7450980544090271,0.7450980544090271],[1.0,1.0,1.0],[1.0,1.0,1.0],[1.0,1.0,1.0],[0.8901960849761963,0.8901960849761963,0.8901960849761963],[0.4941176474094391,0.4941176474094391,0.4941176474094391],[0.6313725709915161,0.6313725709915161,0.6313725709915161],[1.0,1.0,1.0],[1.0,1.0,1.0],[1.0,1.0,1.0],[1.0,1.0,1.0]],[[1.0,1.0,1.0],[1.0,1.0,1.0],[1.0,1.0,1.0],[0.3529411852359772,0.3529411852359772,0.3529411852359772],[0.30588236451148987,0.30588236451148987,0.30588236451148987],[0.8784313797950745,0.8784313797950745,0.8784313797950745],[1.0,1.0,1.0],[1.0,1.0,1.0],[1.0,1.0,1.0],[1.0,1.0,1.0],[1.0,1.0,1.0],[1.0,1.0,1.0],[0.9686274528503418,0.9686274528503418,0.9686274528503418],[0.9215686321258545,0.9215686321258545,0.9215686321258545],[0.9725490212440491,0.9725490212440491,0.9725490212440491],[1.0,1.0,1.0],[1.0,1.0,1.0],[1.0,1.0,1.0],[1.0,1.0,1.0],[1.0,1.0,1.0],[1.0,1.0,1.0],[1.0,1.0,1.0],[1.0,1.0,1.0],[0.7098039388656616,0.7098039388656616,0.7098039388656616],[0.30588236451148987,0.30588236451148987,0.30588236451148987],[0.7019608020782471,0.7019608020782471,0.7019608020782471],[1.0,1.0,1.0],[1.0,1.0,1.0],[0.9529411792755127,0.9529411792755127,0.9529411792755127],[0.9333333373069763,0.9333333373069763,0.9333333373069763],[0.9882352948188782,0.9882352948188782,0.9882352948188782],[1.0,1.0,1.0],[1.0,1.0,1.0],[1.0,1.0,1.0],[1.0,1.0,1.0],[1.0,1.0,1.0],[1.0,1.0,1.0],[1.0,1.0,1.0],[1.0,1.0,1.0],[1.0,1.0,1.0],[0.6039215922355652,0.6039215922355652,0.6039215922355652],[0.30588236451148987,0.30588236451148987,0.30588236451148987],[0.8392156958580017,0.8392156958580017,0.8392156958580017],[1.0,1.0,1.0],[1.0,1.0,1.0],[1.0,1.0,1.0],[1.0,1.0,1.0],[1.0,1.0,1.0],[1.0,1.0,1.0],[1.0,1.0,1.0],[1.0,1.0,1.0],[1.0,1.0,1.0],[1.0,1.0,1.0],[0.9607843160629272,0.9607843160629272,0.9607843160629272],[0.9490196108818054,0.9490196108818054,0.9490196108818054],[0.9921568632125854,0.9921568632125854,0.9921568632125854],[1.0,1.0,1.0],[1.0,1.0,1.0],[1.0,1.0,1.0],[1.0,1.0,1.0],[1.0,1.0,1.0],[1.0,1.0,1.0],[0.9607843160629272,0.9607843160629272,0.9607843160629272],[0.9098039269447327,0.9098039269447327,0.9098039269447327],[0.9137254953384399,0.9137254953384399,0.9137254953384399],[0.9607843160629272,0.9607843160629272,0.9607843160629272],[1.0,1.0,1.0],[1.0,1.0,1.0],[1.0,1.0,1.0],[1.0,1.0,1.0],[1.0,1.0,1.0],[1.0,1.0,1.0],[1.0,1.0,1.0],[1.0,1.0,1.0],[1.0,1.0,1.0],[1.0,1.0,1.0],[1.0,1.0,1.0],[1.0,1.0,1.0]],[[1.0,1.0,1.0],[1.0,1.0,1.0],[0.9176470637321472,0.9176470637321472,0.9176470637321472],[0.30588236451148987,0.30588236451148987,0.30588236451148987],[0.3529411852359772,0.3529411852359772,0.3529411852359772],[0.9764705896377563,0.9764705896377563,0.9764705896377563],[1.0,1.0,1.0],[1.0,1.0,1.0],[1.0,1.0,1.0],[1.0,1.0,1.0],[1.0,1.0,1.0],[1.0,1.0,1.0],[1.0,1.0,1.0],[1.0,1.0,1.0],[1.0,1.0,1.0],[1.0,1.0,1.0],[1.0,1.0,1.0],[1.0,1.0,1.0],[1.0,1.0,1.0],[1.0,1.0,1.0],[1.0,1.0,1.0],[1.0,1.0,1.0],[1.0,1.0,1.0],[0.7098039388656616,0.7098039388656616,0.7098039388656616],[0.30588236451148987,0.30588236451148987,0.30588236451148987],[0.7019608020782471,0.7019608020782471,0.7019608020782471],[1.0,1.0,1.0],[1.0,1.0,1.0],[1.0,1.0,1.0],[1.0,1.0,1.0],[1.0,1.0,1.0],[1.0,1.0,1.0],[1.0,1.0,1.0],[1.0,1.0,1.0],[1.0,1.0,1.0],[1.0,1.0,1.0],[1.0,1.0,1.0],[1.0,1.0,1.0],[1.0,1.0,1.0],[0.8117647171020508,0.8117647171020508,0.8117647171020508],[0.30588236451148987,0.30588236451148987,0.30588236451148987],[0.5254902243614197,0.5254902243614197,0.5254902243614197],[0.9960784316062927,0.9960784316062927,0.9960784316062927],[1.0,1.0,1.0],[1.0,1.0,1.0],[1.0,1.0,1.0],[1.0,1.0,1.0],[1.0,1.0,1.0],[1.0,1.0,1.0],[1.0,1.0,1.0],[1.0,1.0,1.0],[1.0,1.0,1.0],[1.0,1.0,1.0],[1.0,1.0,1.0],[1.0,1.0,1.0],[1.0,1.0,1.0],[1.0,1.0,1.0],[1.0,1.0,1.0],[1.0,1.0,1.0],[1.0,1.0,1.0],[1.0,1.0,1.0],[1.0,1.0,1.0],[1.0,1.0,1.0],[1.0,1.0,1.0],[1.0,1.0,1.0],[1.0,1.0,1.0],[1.0,1.0,1.0],[1.0,1.0,1.0],[1.0,1.0,1.0],[1.0,1.0,1.0],[1.0,1.0,1.0],[1.0,1.0,1.0],[1.0,1.0,1.0],[1.0,1.0,1.0],[1.0,1.0,1.0],[1.0,1.0,1.0],[1.0,1.0,1.0],[1.0,1.0,1.0]],[[1.0,1.0,1.0],[0.9607843160629272,0.9607843160629272,0.9607843160629272],[0.5764706134796143,0.5764706134796143,0.5764706134796143],[0.30588236451148987,0.30588236451148987,0.30588236451148987],[0.6980392336845398,0.6980392336845398,0.6980392336845398],[1.0,1.0,1.0],[1.0,1.0,1.0],[1.0,1.0,1.0],[1.0,1.0,1.0],[1.0,1.0,1.0],[1.0,1.0,1.0],[1.0,1.0,1.0],[1.0,1.0,1.0],[1.0,1.0,1.0],[1.0,1.0,1.0],[1.0,1.0,1.0],[1.0,1.0,1.0],[1.0,1.0,1.0],[1.0,1.0,1.0],[1.0,1.0,1.0],[1.0,1.0,1.0],[1.0,1.0,1.0],[1.0,1.0,1.0],[0.7098039388656616,0.7098039388656616,0.7098039388656616],[0.30588236451148987,0.30588236451148987,0.30588236451148987],[0.7019608020782471,0.7019608020782471,0.7019608020782471],[1.0,1.0,1.0],[1.0,1.0,1.0],[1.0,1.0,1.0],[1.0,1.0,1.0],[1.0,1.0,1.0],[1.0,1.0,1.0],[1.0,1.0,1.0],[1.0,1.0,1.0],[1.0,1.0,1.0],[1.0,1.0,1.0],[1.0,1.0,1.0],[1.0,1.0,1.0],[0.7921568751335144,0.7921568751335144,0.7921568751335144],[0.32156863808631897,0.32156863808631897,0.32156863808631897],[0.32549020648002625,0.32549020648002625,0.32549020648002625],[0.9019607901573181,0.9019607901573181,0.9019607901573181],[1.0,1.0,1.0],[1.0,1.0,1.0],[1.0,1.0,1.0],[1.0,1.0,1.0],[1.0,1.0,1.0],[1.0,1.0,1.0],[1.0,1.0,1.0],[1.0,1.0,1.0],[1.0,1.0,1.0],[1.0,1.0,1.0],[1.0,1.0,1.0],[1.0,1.0,1.0],[1.0,1.0,1.0],[1.0,1.0,1.0],[1.0,1.0,1.0],[1.0,1.0,1.0],[1.0,1.0,1.0],[1.0,1.0,1.0],[1.0,1.0,1.0],[1.0,1.0,1.0],[1.0,1.0,1.0],[1.0,1.0,1.0],[1.0,1.0,1.0],[1.0,1.0,1.0],[1.0,1.0,1.0],[1.0,1.0,1.0],[1.0,1.0,1.0],[1.0,1.0,1.0],[1.0,1.0,1.0],[1.0,1.0,1.0],[1.0,1.0,1.0],[1.0,1.0,1.0],[1.0,1.0,1.0],[1.0,1.0,1.0],[1.0,1.0,1.0],[1.0,1.0,1.0]],[[0.5921568870544434,0.5921568870544434,0.5921568870544434],[0.3529411852359772,0.3529411852359772,0.3529411852359772],[0.30588236451148987,0.30588236451148987,0.30588236451148987],[0.5137255191802979,0.5137255191802979,0.5137255191802979],[0.9725490212440491,0.9725490212440491,0.9725490212440491],[1.0,1.0,1.0],[1.0,1.0,1.0],[1.0,1.0,1.0],[1.0,1.0,1.0],[1.0,1.0,1.0],[1.0,1.0,1.0],[1.0,1.0,1.0],[1.0,1.0,1.0],[1.0,1.0,1.0],[1.0,1.0,1.0],[1.0,1.0,1.0],[1.0,1.0,1.0],[1.0,1.0,1.0],[1.0,1.0,1.0],[1.0,1.0,1.0],[1.0,1.0,1.0],[1.0,1.0,1.0],[1.0,1.0,1.0],[0.7098039388656616,0.7098039388656616,0.7098039388656616],[0.30588236451148987,0.30588236451148987,0.30588236451148987],[0.7019608020782471,0.7019608020782471,0.7019608020782471],[1.0,1.0,1.0],[1.0,1.0,1.0],[1.0,1.0,1.0],[1.0,1.0,1.0],[1.0,1.0,1.0],[1.0,1.0,1.0],[1.0,1.0,1.0],[1.0,1.0,1.0],[1.0,1.0,1.0],[1.0,1.0,1.0],[0.9647058844566345,0.9647058844566345,0.9647058844566345],[0.5333333611488342,0.5333333611488342,0.5333333611488342],[0.30588236451148987,0.30588236451148987,0.30588236451148987],[0.32156863808631897,0.32156863808631897,0.32156863808631897],[0.8156862854957581,0.8156862854957581,0.8156862854957581],[1.0,1.0,1.0],[1.0,1.0,1.0],[1.0,1.0,1.0],[1.0,1.0,1.0],[1.0,1.0,1.0],[1.0,1.0,1.0],[1.0,1.0,1.0],[1.0,1.0,1.0],[1.0,1.0,1.0],[1.0,1.0,1.0],[1.0,1.0,1.0],[1.0,1.0,1.0],[1.0,1.0,1.0],[1.0,1.0,1.0],[1.0,1.0,1.0],[1.0,1.0,1.0],[1.0,1.0,1.0],[1.0,1.0,1.0],[1.0,1.0,1.0],[1.0,1.0,1.0],[1.0,1.0,1.0],[1.0,1.0,1.0],[1.0,1.0,1.0],[1.0,1.0,1.0],[1.0,1.0,1.0],[1.0,1.0,1.0],[1.0,1.0,1.0],[1.0,1.0,1.0],[1.0,1.0,1.0],[1.0,1.0,1.0],[1.0,1.0,1.0],[1.0,1.0,1.0],[1.0,1.0,1.0],[1.0,1.0,1.0],[1.0,1.0,1.0],[1.0,1.0,1.0],[1.0,1.0,1.0]],[[0.5764706134796143,0.5764706134796143,0.5764706134796143],[0.5764706134796143,0.5764706134796143,0.5764706134796143],[0.7960784435272217,0.7960784435272217,0.7960784435272217],[0.9882352948188782,0.9882352948188782,0.9882352948188782],[1.0,1.0,1.0],[1.0,1.0,1.0],[1.0,1.0,1.0],[1.0,1.0,1.0],[1.0,1.0,1.0],[1.0,1.0,1.0],[1.0,1.0,1.0],[1.0,1.0,1.0],[1.0,1.0,1.0],[1.0,1.0,1.0],[1.0,1.0,1.0],[1.0,1.0,1.0],[1.0,1.0,1.0],[1.0,1.0,1.0],[1.0,1.0,1.0],[1.0,1.0,1.0],[1.0,1.0,1.0],[1.0,1.0,1.0],[1.0,1.0,1.0],[0.7843137383460999,0.7843137383460999,0.7843137383460999],[0.5607843399047852,0.5607843399047852,0.5607843399047852],[0.7803921699523926,0.7803921699523926,0.7803921699523926],[1.0,1.0,1.0],[1.0,1.0,1.0],[1.0,1.0,1.0],[1.0,1.0,1.0],[1.0,1.0,1.0],[1.0,1.0,1.0],[1.0,1.0,1.0],[1.0,1.0,1.0],[1.0,1.0,1.0],[1.0,1.0,1.0],[1.0,1.0,1.0],[0.43921568989753723,0.43921568989753723,0.43921568989753723],[0.47843137383461,0.47843137383461,0.47843137383461],[0.8745098114013672,0.8745098114013672,0.8745098114013672],[1.0,1.0,1.0],[1.0,1.0,1.0],[1.0,1.0,1.0],[1.0,1.0,1.0],[1.0,1.0,1.0],[1.0,1.0,1.0],[1.0,1.0,1.0],[1.0,1.0,1.0],[1.0,1.0,1.0],[1.0,1.0,1.0],[1.0,1.0,1.0],[1.0,1.0,1.0],[1.0,1.0,1.0],[1.0,1.0,1.0],[1.0,1.0,1.0],[1.0,1.0,1.0],[1.0,1.0,1.0],[1.0,1.0,1.0],[1.0,1.0,1.0],[1.0,1.0,1.0],[1.0,1.0,1.0],[1.0,1.0,1.0],[1.0,1.0,1.0],[1.0,1.0,1.0],[1.0,1.0,1.0],[1.0,1.0,1.0],[1.0,1.0,1.0],[1.0,1.0,1.0],[1.0,1.0,1.0],[1.0,1.0,1.0],[1.0,1.0,1.0],[1.0,1.0,1.0],[1.0,1.0,1.0],[1.0,1.0,1.0],[1.0,1.0,1.0],[1.0,1.0,1.0],[1.0,1.0,1.0],[1.0,1.0,1.0]],[[1.0,1.0,1.0],[1.0,1.0,1.0],[1.0,1.0,1.0],[1.0,1.0,1.0],[1.0,1.0,1.0],[1.0,1.0,1.0],[1.0,1.0,1.0],[1.0,1.0,1.0],[1.0,1.0,1.0],[1.0,1.0,1.0],[1.0,1.0,1.0],[1.0,1.0,1.0],[1.0,1.0,1.0],[1.0,1.0,1.0],[1.0,1.0,1.0],[1.0,1.0,1.0],[1.0,1.0,1.0],[1.0,1.0,1.0],[1.0,1.0,1.0],[1.0,1.0,1.0],[1.0,1.0,1.0],[1.0,1.0,1.0],[1.0,1.0,1.0],[1.0,1.0,1.0],[1.0,1.0,1.0],[1.0,1.0,1.0],[1.0,1.0,1.0],[1.0,1.0,1.0],[1.0,1.0,1.0],[1.0,1.0,1.0],[1.0,1.0,1.0],[1.0,1.0,1.0],[1.0,1.0,1.0],[1.0,1.0,1.0],[1.0,1.0,1.0],[1.0,1.0,1.0],[1.0,1.0,1.0],[0.9372549057006836,0.9372549057006836,0.9372549057006836],[0.9960784316062927,0.9960784316062927,0.9960784316062927],[1.0,1.0,1.0],[1.0,1.0,1.0],[1.0,1.0,1.0],[1.0,1.0,1.0],[1.0,1.0,1.0],[1.0,1.0,1.0],[1.0,1.0,1.0],[1.0,1.0,1.0],[1.0,1.0,1.0],[1.0,1.0,1.0],[1.0,1.0,1.0],[1.0,1.0,1.0],[1.0,1.0,1.0],[1.0,1.0,1.0],[1.0,1.0,1.0],[1.0,1.0,1.0],[1.0,1.0,1.0],[1.0,1.0,1.0],[1.0,1.0,1.0],[1.0,1.0,1.0],[1.0,1.0,1.0],[1.0,1.0,1.0],[1.0,1.0,1.0],[1.0,1.0,1.0],[1.0,1.0,1.0],[1.0,1.0,1.0],[1.0,1.0,1.0],[1.0,1.0,1.0],[1.0,1.0,1.0],[1.0,1.0,1.0],[1.0,1.0,1.0],[1.0,1.0,1.0],[1.0,1.0,1.0],[1.0,1.0,1.0],[1.0,1.0,1.0],[1.0,1.0,1.0],[1.0,1.0,1.0],[1.0,1.0,1.0],[1.0,1.0,1.0]],[[1.0,1.0,1.0],[1.0,1.0,1.0],[1.0,1.0,1.0],[1.0,1.0,1.0],[1.0,0.9921568632125854,0.9921568632125854],[1.0,0.9176470637321472,0.8980392217636108],[1.0,1.0,1.0],[1.0,1.0,1.0],[1.0,1.0,1.0],[1.0,1.0,1.0],[1.0,1.0,1.0],[1.0,1.0,1.0],[1.0,1.0,1.0],[1.0,1.0,1.0],[1.0,1.0,1.0],[1.0,1.0,1.0],[1.0,1.0,1.0],[1.0,1.0,1.0],[1.0,1.0,1.0],[1.0,1.0,1.0],[1.0,1.0,1.0],[1.0,1.0,1.0],[1.0,1.0,1.0],[1.0,1.0,1.0],[1.0,1.0,1.0],[1.0,1.0,1.0],[1.0,1.0,1.0],[1.0,1.0,1.0],[1.0,1.0,1.0],[1.0,1.0,1.0],[1.0,1.0,1.0],[1.0,1.0,1.0],[1.0,1.0,1.0],[1.0,1.0,1.0],[1.0,1.0,1.0],[1.0,1.0,1.0],[1.0,1.0,1.0],[1.0,1.0,1.0],[1.0,1.0,1.0],[1.0,1.0,1.0],[1.0,1.0,1.0],[1.0,1.0,1.0],[1.0,1.0,1.0],[1.0,1.0,1.0],[1.0,1.0,1.0],[1.0,1.0,1.0],[1.0,1.0,1.0],[1.0,1.0,1.0],[1.0,1.0,1.0],[1.0,1.0,1.0],[1.0,1.0,1.0],[1.0,1.0,1.0],[1.0,1.0,1.0],[1.0,1.0,1.0],[1.0,1.0,1.0],[1.0,1.0,1.0],[1.0,1.0,1.0],[1.0,1.0,1.0],[1.0,1.0,1.0],[1.0,1.0,1.0],[1.0,1.0,1.0],[1.0,1.0,1.0],[1.0,1.0,1.0],[1.0,1.0,1.0],[1.0,1.0,1.0],[1.0,1.0,1.0],[1.0,1.0,1.0],[1.0,1.0,1.0],[1.0,1.0,1.0],[1.0,1.0,1.0],[1.0,1.0,1.0],[1.0,1.0,1.0],[1.0,0.9098039269447327,0.8901960849761963],[1.0,1.0,1.0],[1.0,1.0,1.0],[1.0,1.0,1.0],[1.0,1.0,1.0],[1.0,1.0,1.0]],[[1.0,1.0,1.0],[1.0,1.0,1.0],[1.0,1.0,1.0],[1.0,1.0,1.0],[1.0,1.0,1.0],[0.9960784316062927,0.7647058963775635,0.7058823704719543],[0.9960784316062927,0.9019607901573181,0.8784313797950745],[1.0,1.0,1.0],[1.0,1.0,1.0],[1.0,1.0,1.0],[1.0,1.0,1.0],[1.0,1.0,1.0],[1.0,1.0,1.0],[1.0,1.0,1.0],[1.0,1.0,1.0],[1.0,1.0,1.0],[1.0,1.0,1.0],[1.0,1.0,1.0],[1.0,1.0,1.0],[1.0,1.0,1.0],[1.0,1.0,1.0],[1.0,1.0,1.0],[1.0,1.0,1.0],[1.0,1.0,1.0],[1.0,1.0,1.0],[1.0,1.0,1.0],[1.0,1.0,1.0],[1.0,1.0,1.0],[1.0,1.0,1.0],[1.0,1.0,1.0],[1.0,1.0,1.0],[1.0,1.0,1.0],[1.0,1.0,1.0],[1.0,1.0,1.0],[1.0,1.0,1.0],[1.0,1.0,1.0],[1.0,1.0,1.0],[1.0,1.0,1.0],[1.0,1.0,1.0],[1.0,1.0,1.0],[1.0,1.0,1.0],[1.0,1.0,1.0],[1.0,1.0,1.0],[1.0,1.0,1.0],[1.0,1.0,1.0],[1.0,1.0,1.0],[1.0,1.0,1.0],[1.0,1.0,1.0],[1.0,1.0,1.0],[1.0,1.0,1.0],[1.0,1.0,1.0],[1.0,1.0,1.0],[1.0,1.0,1.0],[1.0,1.0,1.0],[1.0,1.0,1.0],[1.0,1.0,1.0],[1.0,1.0,1.0],[1.0,1.0,1.0],[1.0,1.0,1.0],[1.0,1.0,1.0],[1.0,1.0,1.0],[1.0,1.0,1.0],[1.0,1.0,1.0],[1.0,1.0,1.0],[1.0,1.0,1.0],[1.0,1.0,1.0],[1.0,1.0,1.0],[1.0,1.0,1.0],[1.0,1.0,1.0],[1.0,1.0,1.0],[1.0,1.0,1.0],[0.9960784316062927,0.7568627595901489,0.6980392336845398],[1.0,0.9058823585510254,0.8901960849761963],[1.0,1.0,1.0],[1.0,1.0,1.0],[1.0,1.0,1.0],[1.0,1.0,1.0],[1.0,1.0,1.0]],[[1.0,1.0,1.0],[1.0,1.0,1.0],[1.0,1.0,1.0],[1.0,1.0,1.0],[1.0,1.0,1.0],[1.0,0.9450980424880981,0.9333333373069763],[0.9921568632125854,0.48235294222831726,0.23137255012989044],[0.9960784316062927,0.8784313797950745,0.8549019694328308],[1.0,1.0,1.0],[1.0,1.0,1.0],[1.0,1.0,1.0],[1.0,1.0,1.0],[1.0,1.0,1.0],[1.0,1.0,1.0],[1.0,1.0,1.0],[1.0,1.0,1.0],[1.0,1.0,1.0],[1.0,1.0,1.0],[1.0,1.0,1.0],[1.0,1.0,1.0],[1.0,1.0,1.0],[1.0,1.0,1.0],[1.0,1.0,1.0],[1.0,1.0,1.0],[1.0,1.0,1.0],[1.0,1.0,1.0],[1.0,1.0,1.0],[1.0,1.0,1.0],[1.0,1.0,1.0],[1.0,1.0,1.0],[1.0,1.0,1.0],[1.0,1.0,1.0],[1.0,1.0,1.0],[1.0,1.0,1.0],[1.0,1.0,1.0],[1.0,1.0,1.0],[1.0,1.0,1.0],[1.0,1.0,1.0],[1.0,1.0,1.0],[1.0,1.0,1.0],[1.0,1.0,1.0],[1.0,1.0,1.0],[1.0,1.0,1.0],[1.0,1.0,1.0],[1.0,1.0,1.0],[1.0,1.0,1.0],[1.0,1.0,1.0],[1.0,1.0,1.0],[1.0,1.0,1.0],[1.0,1.0,1.0],[1.0,1.0,1.0],[1.0,1.0,1.0],[1.0,1.0,1.0],[1.0,1.0,1.0],[1.0,1.0,1.0],[1.0,1.0,1.0],[1.0,1.0,1.0],[1.0,1.0,1.0],[1.0,1.0,1.0],[1.0,1.0,1.0],[1.0,1.0,1.0],[1.0,1.0,1.0],[1.0,1.0,1.0],[1.0,1.0,1.0],[1.0,1.0,1.0],[1.0,1.0,1.0],[1.0,1.0,1.0],[1.0,1.0,1.0],[1.0,1.0,1.0],[1.0,0.9960784316062927,0.9960784316062927],[0.9960784316062927,0.7372549176216125,0.6705882549285889],[0.9921568632125854,0.6078431606292725,0.48627451062202454],[1.0,1.0,1.0],[1.0,1.0,1.0],[1.0,1.0,1.0],[1.0,1.0,1.0],[1.0,1.0,1.0],[1.0,1.0,1.0]],[[1.0,1.0,1.0],[1.0,1.0,1.0],[1.0,1.0,1.0],[1.0,1.0,1.0],[1.0,1.0,1.0],[1.0,1.0,1.0],[0.9960784316062927,0.6980392336845398,0.615686297416687],[0.9921568632125854,0.4470588266849518,0.08627451211214066],[0.9960784316062927,0.8117647171020508,0.7686274647712708],[1.0,1.0,1.0],[1.0,1.0,1.0],[1.0,1.0,1.0],[1.0,1.0,1.0],[1.0,1.0,1.0],[1.0,1.0,1.0],[1.0,1.0,1.0],[1.0,1.0,1.0],[1.0,1.0,1.0],[1.0,1.0,1.0],[1.0,1.0,1.0],[1.0,1.0,1.0],[1.0,1.0,1.0],[1.0,1.0,1.0],[1.0,1.0,1.0],[1.0,1.0,1.0],[1.0,1.0,1.0],[1.0,1.0,1.0],[1.0,1.0,1.0],[1.0,1.0,1.0],[1.0,1.0,1.0],[1.0,1.0,1.0],[1.0,1.0,1.0],[1.0,1.0,1.0],[1.0,1.0,1.0],[1.0,1.0,1.0],[1.0,1.0,1.0],[1.0,1.0,1.0],[1.0,1.0,1.0],[1.0,1.0,1.0],[1.0,1.0,1.0],[1.0,1.0,1.0],[1.0,1.0,1.0],[1.0,1.0,1.0],[1.0,1.0,1.0],[1.0,1.0,1.0],[1.0,1.0,1.0],[1.0,1.0,1.0],[1.0,1.0,1.0],[1.0,1.0,1.0],[1.0,1.0,1.0],[1.0,1.0,1.0],[1.0,1.0,1.0],[1.0,1.0,1.0],[1.0,1.0,1.0],[1.0,1.0,1.0],[1.0,1.0,1.0],[1.0,1.0,1.0],[1.0,1.0,1.0],[1.0,1.0,1.0],[1.0,1.0,1.0],[1.0,1.0,1.0],[1.0,1.0,1.0],[1.0,1.0,1.0],[1.0,1.0,1.0],[1.0,1.0,1.0],[1.0,1.0,1.0],[1.0,1.0,1.0],[1.0,1.0,1.0],[1.0,0.9764705896377563,0.9725490212440491],[0.9960784316062927,0.6666666865348816,0.572549045085907],[0.9921568632125854,0.43921568989753723,0.0],[0.9960784316062927,0.8705882430076599,0.8392156958580017],[1.0,1.0,1.0],[1.0,1.0,1.0],[1.0,1.0,1.0],[1.0,1.0,1.0],[1.0,1.0,1.0],[1.0,1.0,1.0]],[[1.0,1.0,1.0],[1.0,1.0,1.0],[1.0,1.0,1.0],[1.0,1.0,1.0],[1.0,1.0,1.0],[1.0,1.0,1.0],[1.0,0.9372549057006836,0.9254902005195618],[0.9921568632125854,0.4470588266849518,0.08627451211214066],[0.9921568632125854,0.43921568989753723,0.0],[0.9960784316062927,0.6901960968971252,0.6078431606292725],[1.0,0.9764705896377563,0.9725490212440491],[1.0,1.0,1.0],[1.0,1.0,1.0],[1.0,1.0,1.0],[1.0,1.0,1.0],[1.0,1.0,1.0],[1.0,1.0,1.0],[1.0,1.0,1.0],[1.0,1.0,1.0],[1.0,1.0,1.0],[1.0,1.0,1.0],[1.0,1.0,1.0],[1.0,1.0,1.0],[1.0,1.0,1.0],[1.0,1.0,1.0],[1.0,1.0,1.0],[1.0,1.0,1.0],[1.0,1.0,1.0],[1.0,1.0,1.0],[1.0,1.0,1.0],[1.0,1.0,1.0],[1.0,1.0,1.0],[1.0,1.0,1.0],[1.0,1.0,1.0],[1.0,1.0,1.0],[1.0,1.0,1.0],[1.0,1.0,1.0],[1.0,1.0,1.0],[1.0,1.0,1.0],[1.0,1.0,1.0],[1.0,1.0,1.0],[1.0,1.0,1.0],[1.0,1.0,1.0],[1.0,1.0,1.0],[1.0,1.0,1.0],[1.0,1.0,1.0],[1.0,1.0,1.0],[1.0,1.0,1.0],[1.0,1.0,1.0],[1.0,1.0,1.0],[1.0,1.0,1.0],[1.0,1.0,1.0],[1.0,1.0,1.0],[1.0,1.0,1.0],[1.0,1.0,1.0],[1.0,1.0,1.0],[1.0,1.0,1.0],[1.0,1.0,1.0],[1.0,1.0,1.0],[1.0,1.0,1.0],[1.0,1.0,1.0],[1.0,1.0,1.0],[1.0,1.0,1.0],[1.0,1.0,1.0],[1.0,1.0,1.0],[1.0,1.0,1.0],[1.0,1.0,1.0],[1.0,0.9215686321258545,0.9058823585510254],[0.9921568632125854,0.5647059082984924,0.4117647111415863],[0.9921568632125854,0.43921568989753723,0.0],[0.9921568632125854,0.6039215922355652,0.4745098054409027],[1.0,1.0,1.0],[1.0,1.0,1.0],[1.0,1.0,1.0],[1.0,1.0,1.0],[1.0,1.0,1.0],[1.0,1.0,1.0],[1.0,1.0,1.0]],[[1.0,1.0,1.0],[1.0,1.0,1.0],[1.0,1.0,1.0],[1.0,1.0,1.0],[1.0,1.0,1.0],[1.0,1.0,1.0],[1.0,1.0,1.0],[0.9960784316062927,0.7333333492279053,0.6666666865348816],[0.9921568632125854,0.43921568989753723,0.0],[0.9921568632125854,0.43921568989753723,0.0],[0.9921568632125854,0.5411764979362488,0.364705890417099],[0.9960784316062927,0.886274516582489,0.8588235378265381],[1.0,1.0,1.0],[1.0,1.0,1.0],[1.0,1.0,1.0],[1.0,1.0,1.0],[1.0,1.0,1.0],[1.0,1.0,1.0],[1.0,1.0,1.0],[1.0,1.0,1.0],[1.0,1.0,1.0],[1.0,1.0,1.0],[1.0,1.0,1.0],[1.0,1.0,1.0],[1.0,1.0,1.0],[1.0,1.0,1.0],[1.0,1.0,1.0],[1.0,1.0,1.0],[1.0,1.0,1.0],[1.0,1.0,1.0],[1.0,1.0,1.0],[1.0,1.0,1.0],[1.0,1.0,1.0],[1.0,1.0,1.0],[1.0,1.0,1.0],[1.0,1.0,1.0],[1.0,1.0,1.0],[1.0,1.0,1.0],[1.0,1.0,1.0],[1.0,1.0,1.0],[1.0,1.0,1.0],[1.0,1.0,1.0],[1.0,1.0,1.0],[1.0,1.0,1.0],[1.0,1.0,1.0],[1.0,1.0,1.0],[1.0,1.0,1.0],[1.0,1.0,1.0],[1.0,1.0,1.0],[1.0,1.0,1.0],[1.0,1.0,1.0],[1.0,1.0,1.0],[1.0,1.0,1.0],[1.0,1.0,1.0],[1.0,1.0,1.0],[1.0,1.0,1.0],[1.0,1.0,1.0],[1.0,1.0,1.0],[1.0,1.0,1.0],[1.0,1.0,1.0],[1.0,1.0,1.0],[1.0,1.0,1.0],[1.0,1.0,1.0],[1.0,1.0,1.0],[1.0,1.0,1.0],[1.0,0.9921568632125854,0.9882352948188782],[0.9960784316062927,0.7882353067398071,0.7372549176216125],[0.9921568632125854,0.4588235318660736,0.14901961386203766],[0.9921568632125854,0.43921568989753723,0.0],[0.9921568632125854,0.43921568989753723,0.0],[0.9960784316062927,0.8980392217636108,0.8745098114013672],[1.0,1.0,1.0],[1.0,1.0,1.0],[1.0,1.0,1.0],[1.0,1.0,1.0],[1.0,1.0,1.0],[1.0,1.0,1.0],[1.0,1.0,1.0]],[[1.0,1.0,1.0],[1.0,1.0,1.0],[1.0,1.0,1.0],[1.0,1.0,1.0],[1.0,1.0,1.0],[1.0,1.0,1.0],[1.0,1.0,1.0],[1.0,0.9686274528503418,0.9647058844566345],[0.9921568632125854,0.5058823823928833,0.29411765933036804],[0.9921568632125854,0.43921568989753723,0.0],[0.9921568632125854,0.43921568989753723,0.0],[0.9921568632125854,0.43921568989753723,0.0],[0.9960784316062927,0.6941176652908325,0.6078431606292725],[1.0,0.9529411792755127,0.9411764740943909],[1.0,1.0,1.0],[1.0,1.0,1.0],[1.0,1.0,1.0],[1.0,1.0,1.0],[1.0,1.0,1.0],[1.0,1.0,1.0],[1.0,1.0,1.0],[1.0,1.0,1.0],[1.0,1.0,1.0],[1.0,1.0,1.0],[1.0,1.0,1.0],[1.0,1.0,1.0],[1.0,1.0,1.0],[1.0,1.0,1.0],[1.0,1.0,1.0],[1.0,1.0,1.0],[1.0,1.0,1.0],[1.0,1.0,1.0],[1.0,1.0,1.0],[1.0,1.0,1.0],[1.0,1.0,1.0],[1.0,1.0,1.0],[1.0,1.0,1.0],[1.0,1.0,1.0],[1.0,1.0,1.0],[1.0,1.0,1.0],[1.0,1.0,1.0],[1.0,1.0,1.0],[1.0,1.0,1.0],[1.0,1.0,1.0],[1.0,1.0,1.0],[1.0,1.0,1.0],[1.0,1.0,1.0],[1.0,1.0,1.0],[1.0,1.0,1.0],[1.0,1.0,1.0],[1.0,1.0,1.0],[1.0,1.0,1.0],[1.0,1.0,1.0],[1.0,1.0,1.0],[1.0,1.0,1.0],[1.0,1.0,1.0],[1.0,1.0,1.0],[1.0,1.0,1.0],[1.0,1.0,1.0],[1.0,1.0,1.0],[1.0,1.0,1.0],[1.0,1.0,1.0],[1.0,1.0,1.0],[1.0,1.0,1.0],[0.9960784316062927,0.8901960849761963,0.8666666746139526],[0.9921568632125854,0.5764706134796143,0.4313725531101227],[0.9921568632125854,0.43921568989753723,0.0],[0.9921568632125854,0.43921568989753723,0.0],[0.9921568632125854,0.43921568989753723,0.0],[0.9960784316062927,0.6941176652908325,0.6117647290229797],[1.0,1.0,1.0],[1.0,1.0,1.0],[1.0,1.0,1.0],[1.0,1.0,1.0],[1.0,1.0,1.0],[1.0,1.0,1.0],[1.0,1.0,1.0],[1.0,1.0,1.0]],[[1.0,1.0,1.0],[1.0,1.0,1.0],[1.0,1.0,1.0],[1.0,1.0,1.0],[1.0,1.0,1.0],[1.0,1.0,1.0],[1.0,1.0,1.0],[1.0,1.0,1.0],[0.9960784316062927,0.8509804010391235,0.8156862854957581],[0.9921568632125854,0.43921568989753723,0.0],[0.9921568632125854,0.43921568989753723,0.0],[0.9921568632125854,0.43921568989753723,0.0],[0.9921568632125854,0.43921568989753723,0.0],[0.9921568632125854,0.46666666865348816,0.18039216101169586],[0.9960784316062927,0.7568627595901489,0.6980392336845398],[1.0,0.9686274528503418,0.9607843160629272],[1.0,1.0,1.0],[1.0,1.0,1.0],[1.0,1.0,1.0],[1.0,1.0,1.0],[1.0,1.0,1.0],[1.0,1.0,1.0],[1.0,1.0,1.0],[1.0,1.0,1.0],[1.0,1.0,1.0],[1.0,1.0,1.0],[1.0,1.0,1.0],[1.0,1.0,1.0],[1.0,1.0,1.0],[1.0,1.0,1.0],[1.0,1.0,1.0],[1.0,1.0,1.0],[1.0,1.0,1.0],[1.0,1.0,1.0],[1.0,1.0,1.0],[1.0,1.0,1.0],[1.0,1.0,1.0],[1.0,1.0,1.0],[1.0,1.0,1.0],[1.0,1.0,1.0],[1.0,1.0,1.0],[1.0,1.0,1.0],[1.0,1.0,1.0],[1.0,1.0,1.0],[1.0,1.0,1.0],[1.0,1.0,1.0],[1.0,1.0,1.0],[1.0,1.0,1.0],[1.0,1.0,1.0],[1.0,1.0,1.0],[1.0,1.0,1.0],[1.0,1.0,1.0],[1.0,1.0,1.0],[1.0,1.0,1.0],[1.0,1.0,1.0],[1.0,1.0,1.0],[1.0,1.0,1.0],[1.0,1.0,1.0],[1.0,1.0,1.0],[1.0,1.0,1.0],[1.0,1.0,1.0],[1.0,1.0,1.0],[1.0,0.9215686321258545,0.9058823585510254],[0.9960784316062927,0.6627451181411743,0.5647059082984924],[0.9921568632125854,0.43921568989753723,0.0],[0.9921568632125854,0.43921568989753723,0.0],[0.9921568632125854,0.43921568989753723,0.0],[0.9921568632125854,0.43921568989753723,0.0],[0.9921568632125854,0.5058823823928833,0.2862745225429535],[1.0,0.9647058844566345,0.95686274766922],[1.0,1.0,1.0],[1.0,1.0,1.0],[1.0,1.0,1.0],[1.0,1.0,1.0],[1.0,1.0,1.0],[1.0,1.0,1.0],[1.0,1.0,1.0],[1.0,1.0,1.0]],[[1.0,1.0,1.0],[1.0,1.0,1.0],[1.0,1.0,1.0],[1.0,1.0,1.0],[1.0,1.0,1.0],[1.0,1.0,1.0],[1.0,1.0,1.0],[1.0,1.0,1.0],[1.0,1.0,1.0],[0.9960784316062927,0.6823529601097107,0.5960784554481506],[0.9921568632125854,0.43921568989753723,0.0],[0.9921568632125854,0.43921568989753723,0.0],[0.9921568632125854,0.43921568989753723,0.0],[0.9921568632125854,0.43921568989753723,0.0],[0.9921568632125854,0.43921568989753723,0.0],[0.9921568632125854,0.47843137383461,0.21960784494876862],[0.9960784316062927,0.7450980544090271,0.6784313917160034],[1.0,0.9450980424880981,0.9333333373069763],[1.0,1.0,1.0],[1.0,1.0,1.0],[1.0,1.0,1.0],[1.0,1.0,1.0],[1.0,1.0,1.0],[1.0,1.0,1.0],[1.0,1.0,1.0],[1.0,1.0,1.0],[1.0,1.0,1.0],[1.0,1.0,1.0],[1.0,1.0,1.0],[1.0,1.0,1.0],[1.0,1.0,1.0],[1.0,1.0,1.0],[1.0,1.0,1.0],[1.0,1.0,1.0],[1.0,1.0,1.0],[1.0,1.0,1.0],[1.0,1.0,1.0],[1.0,1.0,1.0],[1.0,1.0,1.0],[1.0,1.0,1.0],[1.0,1.0,1.0],[1.0,1.0,1.0],[1.0,1.0,1.0],[1.0,1.0,1.0],[1.0,1.0,1.0],[1.0,1.0,1.0],[1.0,1.0,1.0],[1.0,1.0,1.0],[1.0,1.0,1.0],[1.0,1.0,1.0],[1.0,1.0,1.0],[1.0,1.0,1.0],[1.0,1.0,1.0],[1.0,1.0,1.0],[1.0,1.0,1.0],[1.0,1.0,1.0],[1.0,1.0,1.0],[1.0,1.0,1.0],[1.0,1.0,1.0],[1.0,1.0,1.0],[0.9960784316062927,0.8941176533699036,0.8705882430076599],[0.9960784316062927,0.658823549747467,0.5607843399047852],[0.9921568632125854,0.43921568989753723,0.0],[0.9921568632125854,0.43921568989753723,0.0],[0.9921568632125854,0.43921568989753723,0.0],[0.9921568632125854,0.43921568989753723,0.0],[0.9921568632125854,0.43921568989753723,0.0],[0.9921568632125854,0.43921568989753723,0.0],[0.9960784316062927,0.8627451062202454,0.8313725590705872],[1.0,1.0,1.0],[1.0,1.0,1.0],[1.0,1.0,1.0],[1.0,1.0,1.0],[1.0,1.0,1.0],[1.0,1.0,1.0],[1.0,1.0,1.0],[1.0,1.0,1.0],[1.0,1.0,1.0]],[[1.0,1.0,1.0],[1.0,1.0,1.0],[1.0,1.0,1.0],[1.0,1.0,1.0],[1.0,1.0,1.0],[1.0,1.0,1.0],[1.0,1.0,1.0],[1.0,1.0,1.0],[1.0,1.0,1.0],[1.0,0.9725490212440491,0.9686274528503418],[0.9921568632125854,0.5490196347236633,0.3843137323856354],[0.9921568632125854,0.43921568989753723,0.0],[0.9921568632125854,0.43921568989753723,0.0],[0.9921568632125854,0.43921568989753723,0.0],[0.9921568632125854,0.43921568989753723,0.0],[0.9921568632125854,0.43921568989753723,0.0],[0.9921568632125854,0.43921568989753723,0.0],[0.9921568632125854,0.4431372582912445,0.05098039284348488],[0.9960784316062927,0.658823549747467,0.5607843399047852],[0.9960784316062927,0.8627451062202454,0.8352941274642944],[1.0,0.9882352948188782,0.9843137264251709],[1.0,1.0,1.0],[1.0,1.0,1.0],[1.0,1.0,1.0],[1.0,1.0,1.0],[1.0,1.0,1.0],[1.0,1.0,1.0],[1.0,1.0,1.0],[1.0,1.0,1.0],[1.0,1.0,1.0],[1.0,1.0,1.0],[1.0,1.0,1.0],[1.0,1.0,1.0],[1.0,1.0,1.0],[1.0,1.0,1.0],[1.0,1.0,1.0],[1.0,1.0,1.0],[1.0,1.0,1.0],[1.0,1.0,1.0],[1.0,1.0,1.0],[1.0,1.0,1.0],[1.0,1.0,1.0],[1.0,1.0,1.0],[1.0,1.0,1.0],[1.0,1.0,1.0],[1.0,1.0,1.0],[1.0,1.0,1.0],[1.0,1.0,1.0],[1.0,1.0,1.0],[1.0,1.0,1.0],[1.0,1.0,1.0],[1.0,1.0,1.0],[1.0,1.0,1.0],[1.0,1.0,1.0],[1.0,1.0,1.0],[1.0,1.0,1.0],[1.0,1.0,1.0],[1.0,0.9647058844566345,0.95686274766922],[0.9960784316062927,0.8078431487083435,0.7647058963775635],[0.9921568632125854,0.5764706134796143,0.4274509847164154],[0.9921568632125854,0.43921568989753723,0.0],[0.9921568632125854,0.43921568989753723,0.0],[0.9921568632125854,0.43921568989753723,0.0],[0.9921568632125854,0.43921568989753723,0.0],[0.9921568632125854,0.43921568989753723,0.0],[0.9921568632125854,0.43921568989753723,0.0],[0.9921568632125854,0.43921568989753723,0.0],[0.9960784316062927,0.7254902124404907,0.6549019813537598],[1.0,1.0,1.0],[1.0,1.0,1.0],[1.0,1.0,1.0],[1.0,1.0,1.0],[1.0,1.0,1.0],[1.0,1.0,1.0],[1.0,1.0,1.0],[1.0,1.0,1.0],[1.0,1.0,1.0],[1.0,1.0,1.0]],[[1.0,1.0,1.0],[1.0,1.0,1.0],[1.0,1.0,1.0],[1.0,1.0,1.0],[1.0,1.0,1.0],[1.0,1.0,1.0],[1.0,1.0,1.0],[1.0,1.0,1.0],[1.0,1.0,1.0],[1.0,1.0,1.0],[1.0,0.9254902005195618,0.9098039269447327],[0.9921568632125854,0.47843137383461,0.21960784494876862],[0.9921568632125854,0.43921568989753723,0.0],[0.9921568632125854,0.43921568989753723,0.0],[0.9921568632125854,0.43921568989753723,0.0],[0.9921568632125854,0.43921568989753723,0.0],[0.9921568632125854,0.43921568989753723,0.0],[0.9921568632125854,0.43921568989753723,0.0],[0.9921568632125854,0.43921568989753723,0.0],[0.9921568632125854,0.43921568989753723,0.0],[0.9921568632125854,0.4941176474094391,0.25882354378700256],[0.9960784316062927,0.7058823704719543,0.6274510025978088],[0.9960784316062927,0.8705882430076599,0.8392156958580017],[1.0,0.9803921580314636,0.9764705896377563],[1.0,1.0,1.0],[1.0,1.0,1.0],[1.0,1.0,1.0],[1.0,1.0,1.0],[1.0,1.0,1.0],[1.0,1.0,1.0],[1.0,1.0,1.0],[1.0,1.0,1.0],[1.0,1.0,1.0],[1.0,1.0,1.0],[1.0,1.0,1.0],[1.0,1.0,1.0],[1.0,1.0,1.0],[1.0,1.0,1.0],[1.0,1.0,1.0],[1.0,1.0,1.0],[1.0,1.0,1.0],[1.0,1.0,1.0],[1.0,1.0,1.0],[1.0,1.0,1.0],[1.0,1.0,1.0],[1.0,1.0,1.0],[1.0,1.0,1.0],[1.0,1.0,1.0],[1.0,1.0,1.0],[1.0,1.0,1.0],[1.0,1.0,1.0],[1.0,1.0,1.0],[1.0,1.0,1.0],[1.0,1.0,1.0],[1.0,0.9529411792755127,0.9450980424880981],[0.9960784316062927,0.8235294222831726,0.7843137383460999],[0.9960784316062927,0.6509804129600525,0.5490196347236633],[0.9921568632125854,0.4470588266849518,0.08627451211214066],[0.9921568632125854,0.43921568989753723,0.0],[0.9921568632125854,0.43921568989753723,0.0],[0.9921568632125854,0.43921568989753723,0.0],[0.9921568632125854,0.43921568989753723,0.0],[0.9921568632125854,0.43921568989753723,0.0],[0.9921568632125854,0.43921568989753723,0.0],[0.9921568632125854,0.43921568989753723,0.0],[0.9921568632125854,0.43921568989753723,0.0],[0.9921568632125854,0.615686297416687,0.49803921580314636],[1.0,0.9882352948188782,0.9843137264251709],[1.0,1.0,1.0],[1.0,1.0,1.0],[1.0,1.0,1.0],[1.0,1.0,1.0],[1.0,1.0,1.0],[1.0,1.0,1.0],[1.0,1.0,1.0],[1.0,1.0,1.0],[1.0,1.0,1.0],[1.0,1.0,1.0]],[[1.0,1.0,1.0],[1.0,1.0,1.0],[1.0,1.0,1.0],[1.0,1.0,1.0],[1.0,1.0,1.0],[1.0,1.0,1.0],[1.0,1.0,1.0],[1.0,1.0,1.0],[1.0,1.0,1.0],[1.0,1.0,1.0],[1.0,1.0,1.0],[0.9960784316062927,0.8705882430076599,0.843137264251709],[0.9921568632125854,0.4470588266849518,0.08627451211214066],[0.9921568632125854,0.43921568989753723,0.0],[0.9921568632125854,0.43921568989753723,0.0],[0.9921568632125854,0.43921568989753723,0.0],[0.9921568632125854,0.43921568989753723,0.0],[0.9921568632125854,0.43921568989753723,0.0],[0.9921568632125854,0.43921568989753723,0.0],[0.9921568632125854,0.43921568989753723,0.0],[0.9921568632125854,0.43921568989753723,0.0],[0.9921568632125854,0.43921568989753723,0.0],[0.9921568632125854,0.43921568989753723,0.0],[0.9921568632125854,0.45098039507865906,0.10980392247438431],[0.9921568632125854,0.6274510025978088,0.5137255191802979],[0.9960784316062927,0.7764706015586853,0.7215686440467834],[0.9960784316062927,0.8784313797950745,0.8549019694328308],[1.0,0.9686274528503418,0.9607843160629272],[1.0,1.0,1.0],[1.0,1.0,1.0],[1.0,1.0,1.0],[1.0,1.0,1.0],[1.0,1.0,1.0],[1.0,1.0,1.0],[1.0,1.0,1.0],[1.0,1.0,1.0],[1.0,1.0,1.0],[1.0,1.0,1.0],[1.0,1.0,1.0],[1.0,1.0,1.0],[1.0,1.0,1.0],[1.0,1.0,1.0],[1.0,1.0,1.0],[1.0,1.0,1.0],[1.0,1.0,1.0],[1.0,1.0,1.0],[1.0,1.0,1.0],[1.0,1.0,1.0],[1.0,1.0,1.0],[1.0,1.0,1.0],[1.0,0.9450980424880981,0.9333333373069763],[0.9960784316062927,0.8549019694328308,0.8235294222831726],[0.9960784316062927,0.7372549176216125,0.6666666865348816],[0.9921568632125854,0.5686274766921997,0.4156862795352936],[0.9921568632125854,0.43921568989753723,0.0],[0.9921568632125854,0.43921568989753723,0.0],[0.9921568632125854,0.43921568989753723,0.0],[0.9921568632125854,0.43921568989753723,0.0],[0.9921568632125854,0.43921568989753723,0.0],[0.9921568632125854,0.43921568989753723,0.0],[0.9921568632125854,0.43921568989753723,0.0],[0.9921568632125854,0.43921568989753723,0.0],[0.9921568632125854,0.43921568989753723,0.0],[0.9921568632125854,0.43921568989753723,0.0],[0.9921568632125854,0.43921568989753723,0.0],[0.9921568632125854,0.5529412031173706,0.38823530077934265],[1.0,0.9647058844566345,0.95686274766922],[1.0,1.0,1.0],[1.0,1.0,1.0],[1.0,1.0,1.0],[1.0,1.0,1.0],[1.0,1.0,1.0],[1.0,1.0,1.0],[1.0,1.0,1.0],[1.0,1.0,1.0],[1.0,1.0,1.0],[1.0,1.0,1.0],[1.0,1.0,1.0]],[[1.0,1.0,1.0],[1.0,1.0,1.0],[1.0,1.0,1.0],[1.0,1.0,1.0],[1.0,1.0,1.0],[1.0,1.0,1.0],[1.0,1.0,1.0],[1.0,1.0,1.0],[1.0,1.0,1.0],[1.0,1.0,1.0],[1.0,1.0,1.0],[1.0,1.0,1.0],[0.9960784316062927,0.8392156958580017,0.8039215803146362],[0.9921568632125854,0.4431372582912445,0.05098039284348488],[0.9921568632125854,0.43921568989753723,0.0],[0.9921568632125854,0.43921568989753723,0.0],[0.9921568632125854,0.43921568989753723,0.0],[0.9921568632125854,0.43921568989753723,0.0],[0.9921568632125854,0.43921568989753723,0.0],[0.9921568632125854,0.43921568989753723,0.0],[0.9921568632125854,0.43921568989753723,0.0],[0.9921568632125854,0.43921568989753723,0.0],[0.9921568632125854,0.43921568989753723,0.0],[0.9921568632125854,0.43921568989753723,0.0],[0.9921568632125854,0.43921568989753723,0.0],[0.9921568632125854,0.43921568989753723,0.0],[0.9921568632125854,0.43921568989753723,0.0],[0.9921568632125854,0.43921568989753723,0.0],[0.9921568632125854,0.529411792755127,0.3450980484485626],[0.9960784316062927,0.6549019813537598,0.5529412031173706],[0.9960784316062927,0.7450980544090271,0.6784313917160034],[0.9960784316062927,0.8196078538894653,0.7803921699523926],[0.9960784316062927,0.8627451062202454,0.8313725590705872],[1.0,0.9137254953384399,0.8941176533699036],[1.0,0.9372549057006836,0.9254902005195618],[1.0,0.9725490212440491,0.9647058844566345],[1.0,0.9882352948188782,0.9843137264251709],[1.0,1.0,1.0],[1.0,1.0,1.0],[1.0,1.0,1.0],[1.0,0.9960784316062927,0.9960784316062927],[1.0,0.9843137264251709,0.9803921580314636],[1.0,0.9647058844566345,0.95686274766922],[1.0,0.9254902005195618,0.9137254953384399],[1.0,0.9019607901573181,0.8823529481887817],[0.9960784316062927,0.8470588326454163,0.8117647171020508],[0.9960784316062927,0.7960784435272217,0.7490196228027344],[0.9960784316062927,0.7215686440467834,0.6509804129600525],[0.9921568632125854,0.6235294342041016,0.5058823823928833],[0.9921568632125854,0.48627451062202454,0.239215686917305],[0.9921568632125854,0.43921568989753723,0.0],[0.9921568632125854,0.43921568989753723,0.0],[0.9921568632125854,0.43921568989753723,0.0],[0.9921568632125854,0.43921568989753723,0.0],[0.9921568632125854,0.43921568989753723,0.0],[0.9921568632125854,0.43921568989753723,0.0],[0.9921568632125854,0.43921568989753723,0.0],[0.9921568632125854,0.43921568989753723,0.0],[0.9921568632125854,0.43921568989753723,0.0],[0.9921568632125854,0.43921568989753723,0.0],[0.9921568632125854,0.43921568989753723,0.0],[0.9921568632125854,0.43921568989753723,0.0],[0.9921568632125854,0.43921568989753723,0.0],[0.9921568632125854,0.43921568989753723,0.0],[0.9921568632125854,0.529411792755127,0.3450980484485626],[1.0,0.9490196108818054,0.9372549057006836],[1.0,1.0,1.0],[1.0,1.0,1.0],[1.0,1.0,1.0],[1.0,1.0,1.0],[1.0,1.0,1.0],[1.0,1.0,1.0],[1.0,1.0,1.0],[1.0,1.0,1.0],[1.0,1.0,1.0],[1.0,1.0,1.0],[1.0,1.0,1.0],[1.0,1.0,1.0]],[[1.0,1.0,1.0],[1.0,1.0,1.0],[1.0,1.0,1.0],[1.0,1.0,1.0],[1.0,1.0,1.0],[1.0,1.0,1.0],[1.0,1.0,1.0],[1.0,1.0,1.0],[1.0,1.0,1.0],[1.0,1.0,1.0],[1.0,1.0,1.0],[1.0,1.0,1.0],[1.0,1.0,1.0],[0.9960784316062927,0.8352941274642944,0.7960784435272217],[0.9921568632125854,0.4431372582912445,0.05098039284348488],[0.9921568632125854,0.43921568989753723,0.0],[0.9921568632125854,0.43921568989753723,0.0],[0.9921568632125854,0.43921568989753723,0.0],[0.9921568632125854,0.43921568989753723,0.0],[0.9921568632125854,0.43921568989753723,0.0],[0.9921568632125854,0.43921568989753723,0.0],[0.9921568632125854,0.43921568989753723,0.0],[0.9921568632125854,0.43921568989753723,0.0],[0.9921568632125854,0.43921568989753723,0.0],[0.9921568632125854,0.43921568989753723,0.0],[0.9921568632125854,0.43921568989753723,0.0],[0.9921568632125854,0.43921568989753723,0.0],[0.9921568632125854,0.43921568989753723,0.0],[0.9921568632125854,0.43921568989753723,0.0],[0.9921568632125854,0.43921568989753723,0.0],[0.9921568632125854,0.43921568989753723,0.0],[0.9921568632125854,0.43921568989753723,0.0],[0.9921568632125854,0.43921568989753723,0.0],[0.9921568632125854,0.43921568989753723,0.0],[0.9921568632125854,0.43921568989753723,0.0],[0.9921568632125854,0.43921568989753723,0.0],[0.9921568632125854,0.43921568989753723,0.0],[0.9921568632125854,0.43921568989753723,0.0],[0.9921568632125854,0.43921568989753723,0.0],[0.9921568632125854,0.43921568989753723,0.0],[0.9921568632125854,0.43921568989753723,0.0],[0.9921568632125854,0.43921568989753723,0.0],[0.9921568632125854,0.43921568989753723,0.0],[0.9921568632125854,0.43921568989753723,0.0],[0.9921568632125854,0.43921568989753723,0.0],[0.9921568632125854,0.43921568989753723,0.0],[0.9921568632125854,0.43921568989753723,0.0],[0.9921568632125854,0.43921568989753723,0.0],[0.9921568632125854,0.43921568989753723,0.0],[0.9921568632125854,0.43921568989753723,0.0],[0.9921568632125854,0.43921568989753723,0.0],[0.9921568632125854,0.43921568989753723,0.0],[0.9921568632125854,0.43921568989753723,0.0],[0.9921568632125854,0.43921568989753723,0.0],[0.9921568632125854,0.43921568989753723,0.0],[0.9921568632125854,0.43921568989753723,0.0],[0.9921568632125854,0.43921568989753723,0.0],[0.9921568632125854,0.43921568989753723,0.0],[0.9921568632125854,0.43921568989753723,0.0],[0.9921568632125854,0.43921568989753723,0.0],[0.9921568632125854,0.43921568989753723,0.0],[0.9921568632125854,0.43921568989753723,0.0],[0.9921568632125854,0.43921568989753723,0.0],[0.9921568632125854,0.5333333611488342,0.3529411852359772],[1.0,0.9411764740943909,0.929411768913269],[1.0,1.0,1.0],[1.0,1.0,1.0],[1.0,1.0,1.0],[1.0,1.0,1.0],[1.0,1.0,1.0],[1.0,1.0,1.0],[1.0,1.0,1.0],[1.0,1.0,1.0],[1.0,1.0,1.0],[1.0,1.0,1.0],[1.0,1.0,1.0],[1.0,1.0,1.0],[1.0,1.0,1.0]],[[1.0,1.0,1.0],[1.0,1.0,1.0],[1.0,1.0,1.0],[1.0,1.0,1.0],[1.0,1.0,1.0],[1.0,1.0,1.0],[1.0,1.0,1.0],[1.0,1.0,1.0],[1.0,1.0,1.0],[1.0,1.0,1.0],[1.0,1.0,1.0],[1.0,1.0,1.0],[1.0,1.0,1.0],[1.0,1.0,1.0],[0.9960784316062927,0.8549019694328308,0.8235294222831726],[0.9921568632125854,0.4627451002597809,0.16470588743686676],[0.9921568632125854,0.43921568989753723,0.0],[0.9921568632125854,0.43921568989753723,0.0],[0.9921568632125854,0.43921568989753723,0.0],[0.9921568632125854,0.43921568989753723,0.0],[0.9921568632125854,0.43921568989753723,0.0],[0.9921568632125854,0.43921568989753723,0.0],[0.9921568632125854,0.43921568989753723,0.0],[0.9921568632125854,0.43921568989753723,0.0],[0.9921568632125854,0.43921568989753723,0.0],[0.9921568632125854,0.43921568989753723,0.0],[0.9921568632125854,0.43921568989753723,0.0],[0.9921568632125854,0.43921568989753723,0.0],[0.9921568632125854,0.43921568989753723,0.0],[0.9921568632125854,0.43921568989753723,0.0],[0.9921568632125854,0.43921568989753723,0.0],[0.9921568632125854,0.43921568989753723,0.0],[0.9921568632125854,0.43921568989753723,0.0],[0.9921568632125854,0.43921568989753723,0.0],[0.9921568632125854,0.43921568989753723,0.0],[0.9921568632125854,0.43921568989753723,0.0],[0.9921568632125854,0.43921568989753723,0.0],[0.9921568632125854,0.43921568989753723,0.0],[0.9921568632125854,0.43921568989753723,0.0],[0.9921568632125854,0.43921568989753723,0.0],[0.9921568632125854,0.43921568989753723,0.0],[0.9921568632125854,0.43921568989753723,0.0],[0.9921568632125854,0.43921568989753723,0.0],[0.9921568632125854,0.43921568989753723,0.0],[0.9921568632125854,0.43921568989753723,0.0],[0.9921568632125854,0.43921568989753723,0.0],[0.9921568632125854,0.43921568989753723,0.0],[0.9921568632125854,0.43921568989753723,0.0],[0.9921568632125854,0.43921568989753723,0.0],[0.9921568632125854,0.43921568989753723,0.0],[0.9921568632125854,0.43921568989753723,0.0],[0.9921568632125854,0.43921568989753723,0.0],[0.9921568632125854,0.43921568989753723,0.0],[0.9921568632125854,0.43921568989753723,0.0],[0.9921568632125854,0.43921568989753723,0.0],[0.9921568632125854,0.43921568989753723,0.0],[0.9921568632125854,0.43921568989753723,0.0],[0.9921568632125854,0.43921568989753723,0.0],[0.9921568632125854,0.43921568989753723,0.0],[0.9921568632125854,0.43921568989753723,0.0],[0.9921568632125854,0.43921568989753723,0.0],[0.9921568632125854,0.43921568989753723,0.0],[0.9921568632125854,0.5647059082984924,0.4117647111415863],[1.0,0.9490196108818054,0.9411764740943909],[1.0,1.0,1.0],[1.0,1.0,1.0],[1.0,1.0,1.0],[1.0,1.0,1.0],[1.0,1.0,1.0],[1.0,1.0,1.0],[1.0,1.0,1.0],[1.0,1.0,1.0],[1.0,1.0,1.0],[1.0,1.0,1.0],[1.0,1.0,1.0],[1.0,1.0,1.0],[1.0,1.0,1.0],[1.0,1.0,1.0]],[[1.0,1.0,1.0],[1.0,1.0,1.0],[1.0,1.0,1.0],[1.0,1.0,1.0],[1.0,1.0,1.0],[1.0,1.0,1.0],[1.0,1.0,1.0],[1.0,1.0,1.0],[1.0,1.0,1.0],[1.0,1.0,1.0],[1.0,1.0,1.0],[1.0,1.0,1.0],[1.0,1.0,1.0],[1.0,1.0,1.0],[1.0,1.0,1.0],[1.0,0.9019607901573181,0.8823529481887817],[0.9921568632125854,0.5137255191802979,0.30980393290519714],[0.9921568632125854,0.43921568989753723,0.0],[0.9921568632125854,0.43921568989753723,0.0],[0.9921568632125854,0.43921568989753723,0.0],[0.9921568632125854,0.43921568989753723,0.0],[0.9921568632125854,0.43921568989753723,0.0],[0.9921568632125854,0.43921568989753723,0.0],[0.9921568632125854,0.43921568989753723,0.0],[0.9921568632125854,0.43921568989753723,0.0],[0.9921568632125854,0.43921568989753723,0.0],[0.9921568632125854,0.43921568989753723,0.0],[0.9921568632125854,0.43921568989753723,0.0],[0.9921568632125854,0.43921568989753723,0.0],[0.9921568632125854,0.43921568989753723,0.0],[0.9921568632125854,0.43921568989753723,0.0],[0.9921568632125854,0.43921568989753723,0.0],[0.9921568632125854,0.43921568989753723,0.0],[0.9921568632125854,0.43921568989753723,0.0],[0.9921568632125854,0.43921568989753723,0.0],[0.9921568632125854,0.43921568989753723,0.0],[0.9921568632125854,0.43921568989753723,0.0],[0.9921568632125854,0.43921568989753723,0.0],[0.9921568632125854,0.43921568989753723,0.0],[0.9921568632125854,0.43921568989753723,0.0],[0.9921568632125854,0.43921568989753723,0.0],[0.9921568632125854,0.43921568989753723,0.0],[0.9921568632125854,0.43921568989753723,0.0],[0.9921568632125854,0.43921568989753723,0.0],[0.9921568632125854,0.43921568989753723,0.0],[0.9921568632125854,0.43921568989753723,0.0],[0.9921568632125854,0.43921568989753723,0.0],[0.9921568632125854,0.43921568989753723,0.0],[0.9921568632125854,0.43921568989753723,0.0],[0.9921568632125854,0.43921568989753723,0.0],[0.9921568632125854,0.43921568989753723,0.0],[0.9921568632125854,0.43921568989753723,0.0],[0.9921568632125854,0.43921568989753723,0.0],[0.9921568632125854,0.43921568989753723,0.0],[0.9921568632125854,0.43921568989753723,0.0],[0.9921568632125854,0.43921568989753723,0.0],[0.9921568632125854,0.43921568989753723,0.0],[0.9921568632125854,0.43921568989753723,0.0],[0.9921568632125854,0.43921568989753723,0.0],[0.9921568632125854,0.43921568989753723,0.0],[0.9921568632125854,0.43921568989753723,0.0],[0.9960784316062927,0.6431372761726379,0.5372549295425415],[1.0,0.9725490212440491,0.9686274528503418],[1.0,1.0,1.0],[1.0,1.0,1.0],[1.0,1.0,1.0],[1.0,1.0,1.0],[1.0,1.0,1.0],[1.0,1.0,1.0],[1.0,1.0,1.0],[1.0,1.0,1.0],[1.0,1.0,1.0],[1.0,1.0,1.0],[1.0,1.0,1.0],[1.0,1.0,1.0],[1.0,1.0,1.0],[1.0,1.0,1.0],[1.0,1.0,1.0]],[[1.0,1.0,1.0],[1.0,1.0,1.0],[1.0,1.0,1.0],[1.0,1.0,1.0],[1.0,1.0,1.0],[1.0,1.0,1.0],[1.0,1.0,1.0],[1.0,1.0,1.0],[1.0,1.0,1.0],[1.0,1.0,1.0],[1.0,1.0,1.0],[1.0,1.0,1.0],[1.0,1.0,1.0],[1.0,1.0,1.0],[1.0,1.0,1.0],[1.0,1.0,1.0],[1.0,0.95686274766922,0.9450980424880981],[0.9921568632125854,0.6274510025978088,0.5137255191802979],[0.9921568632125854,0.43921568989753723,0.0],[0.9921568632125854,0.43921568989753723,0.0],[0.9921568632125854,0.43921568989753723,0.0],[0.9921568632125854,0.43921568989753723,0.0],[0.9921568632125854,0.43921568989753723,0.0],[0.9921568632125854,0.43921568989753723,0.0],[0.9921568632125854,0.43921568989753723,0.0],[0.9921568632125854,0.43921568989753723,0.0],[0.9921568632125854,0.43921568989753723,0.0],[0.9921568632125854,0.43921568989753723,0.0],[0.9921568632125854,0.43921568989753723,0.0],[0.9921568632125854,0.43921568989753723,0.0],[0.9921568632125854,0.43921568989753723,0.0],[0.9921568632125854,0.43921568989753723,0.0],[0.9921568632125854,0.43921568989753723,0.0],[0.9921568632125854,0.43921568989753723,0.0],[0.9921568632125854,0.43921568989753723,0.0],[0.9921568632125854,0.43921568989753723,0.0],[0.9921568632125854,0.43921568989753723,0.0],[0.9921568632125854,0.43921568989753723,0.0],[0.9921568632125854,0.43921568989753723,0.0],[0.9921568632125854,0.43921568989753723,0.0],[0.9921568632125854,0.43921568989753723,0.0],[0.9921568632125854,0.43921568989753723,0.0],[0.9921568632125854,0.43921568989753723,0.0],[0.9921568632125854,0.43921568989753723,0.0],[0.9921568632125854,0.43921568989753723,0.0],[0.9921568632125854,0.43921568989753723,0.0],[0.9921568632125854,0.43921568989753723,0.0],[0.9921568632125854,0.43921568989753723,0.0],[0.9921568632125854,0.43921568989753723,0.0],[0.9921568632125854,0.43921568989753723,0.0],[0.9921568632125854,0.43921568989753723,0.0],[0.9921568632125854,0.43921568989753723,0.0],[0.9921568632125854,0.43921568989753723,0.0],[0.9921568632125854,0.43921568989753723,0.0],[0.9921568632125854,0.43921568989753723,0.0],[0.9921568632125854,0.43921568989753723,0.0],[0.9921568632125854,0.43921568989753723,0.0],[0.9921568632125854,0.43921568989753723,0.0],[0.9921568632125854,0.43921568989753723,0.0],[0.9921568632125854,0.4431372582912445,0.05098039284348488],[0.9960784316062927,0.7647058963775635,0.7058823704719543],[1.0,0.9960784316062927,0.9921568632125854],[1.0,1.0,1.0],[1.0,1.0,1.0],[1.0,1.0,1.0],[1.0,1.0,1.0],[1.0,1.0,1.0],[1.0,1.0,1.0],[1.0,1.0,1.0],[1.0,1.0,1.0],[1.0,1.0,1.0],[1.0,1.0,1.0],[1.0,1.0,1.0],[1.0,1.0,1.0],[1.0,1.0,1.0],[1.0,1.0,1.0],[1.0,1.0,1.0],[1.0,1.0,1.0]],[[1.0,1.0,1.0],[1.0,1.0,1.0],[1.0,1.0,1.0],[1.0,1.0,1.0],[1.0,1.0,1.0],[1.0,1.0,1.0],[1.0,1.0,1.0],[1.0,1.0,1.0],[1.0,1.0,1.0],[1.0,1.0,1.0],[1.0,1.0,1.0],[1.0,1.0,1.0],[1.0,1.0,1.0],[1.0,1.0,1.0],[1.0,1.0,1.0],[1.0,1.0,1.0],[1.0,1.0,1.0],[1.0,0.9960784316062927,0.9921568632125854],[0.9960784316062927,0.7882353067398071,0.7372549176216125],[0.9921568632125854,0.4588235318660736,0.14901961386203766],[0.9921568632125854,0.43921568989753723,0.0],[0.9921568632125854,0.43921568989753723,0.0],[0.9921568632125854,0.43921568989753723,0.0],[0.9921568632125854,0.43921568989753723,0.0],[0.9921568632125854,0.43921568989753723,0.0],[0.9921568632125854,0.43921568989753723,0.0],[0.9921568632125854,0.43921568989753723,0.0],[0.9921568632125854,0.43921568989753723,0.0],[0.9921568632125854,0.43921568989753723,0.0],[0.9921568632125854,0.43921568989753723,0.0],[0.9921568632125854,0.43921568989753723,0.0],[0.9921568632125854,0.43921568989753723,0.0],[0.9921568632125854,0.43921568989753723,0.0],[0.9921568632125854,0.43921568989753723,0.0],[0.9921568632125854,0.43921568989753723,0.0],[0.9921568632125854,0.43921568989753723,0.0],[0.9921568632125854,0.43921568989753723,0.0],[0.9921568632125854,0.43921568989753723,0.0],[0.9921568632125854,0.43921568989753723,0.0],[0.9921568632125854,0.43921568989753723,0.0],[0.9921568632125854,0.43921568989753723,0.0],[0.9921568632125854,0.43921568989753723,0.0],[0.9921568632125854,0.43921568989753723,0.0],[0.9921568632125854,0.43921568989753723,0.0],[0.9921568632125854,0.43921568989753723,0.0],[0.9921568632125854,0.43921568989753723,0.0],[0.9921568632125854,0.43921568989753723,0.0],[0.9921568632125854,0.43921568989753723,0.0],[0.9921568632125854,0.43921568989753723,0.0],[0.9921568632125854,0.43921568989753723,0.0],[0.9921568632125854,0.43921568989753723,0.0],[0.9921568632125854,0.43921568989753723,0.0],[0.9921568632125854,0.43921568989753723,0.0],[0.9921568632125854,0.43921568989753723,0.0],[0.9921568632125854,0.43921568989753723,0.0],[0.9921568632125854,0.43921568989753723,0.0],[0.9921568632125854,0.43921568989753723,0.0],[0.9921568632125854,0.43921568989753723,0.0],[0.9921568632125854,0.5490196347236633,0.3764705955982208],[0.9960784316062927,0.8941176533699036,0.8705882430076599],[1.0,1.0,1.0],[1.0,1.0,1.0],[1.0,1.0,1.0],[1.0,1.0,1.0],[1.0,1.0,1.0],[1.0,1.0,1.0],[1.0,1.0,1.0],[1.0,1.0,1.0],[1.0,1.0,1.0],[1.0,1.0,1.0],[1.0,1.0,1.0],[1.0,1.0,1.0],[1.0,1.0,1.0],[1.0,1.0,1.0],[1.0,1.0,1.0],[1.0,1.0,1.0],[1.0,1.0,1.0],[1.0,1.0,1.0]],[[1.0,1.0,1.0],[1.0,1.0,1.0],[1.0,1.0,1.0],[1.0,1.0,1.0],[1.0,1.0,1.0],[1.0,1.0,1.0],[1.0,1.0,1.0],[1.0,1.0,1.0],[1.0,1.0,1.0],[1.0,1.0,1.0],[1.0,1.0,1.0],[1.0,1.0,1.0],[1.0,1.0,1.0],[1.0,1.0,1.0],[1.0,1.0,1.0],[1.0,1.0,1.0],[1.0,1.0,1.0],[1.0,1.0,1.0],[1.0,1.0,1.0],[1.0,0.9333333373069763,0.9215686321258545],[0.9921568632125854,0.6352941393852234,0.5254902243614197],[0.9921568632125854,0.43921568989753723,0.0],[0.9921568632125854,0.43921568989753723,0.0],[0.9921568632125854,0.43921568989753723,0.0],[0.9921568632125854,0.43921568989753723,0.0],[0.9921568632125854,0.43921568989753723,0.0],[0.9921568632125854,0.43921568989753723,0.0],[0.9921568632125854,0.43921568989753723,0.0],[0.9921568632125854,0.43921568989753723,0.0],[0.9921568632125854,0.43921568989753723,0.0],[0.9921568632125854,0.43921568989753723,0.0],[0.9921568632125854,0.43921568989753723,0.0],[0.9921568632125854,0.43921568989753723,0.0],[0.9921568632125854,0.43921568989753723,0.0],[0.9921568632125854,0.43921568989753723,0.0],[0.9921568632125854,0.43921568989753723,0.0],[0.9921568632125854,0.43921568989753723,0.0],[0.9921568632125854,0.43921568989753723,0.0],[0.9921568632125854,0.43921568989753723,0.0],[0.9921568632125854,0.43921568989753723,0.0],[0.9921568632125854,0.43921568989753723,0.0],[0.9921568632125854,0.43921568989753723,0.0],[0.9921568632125854,0.43921568989753723,0.0],[0.9921568632125854,0.43921568989753723,0.0],[0.9921568632125854,0.43921568989753723,0.0],[0.9921568632125854,0.43921568989753723,0.0],[0.9921568632125854,0.43921568989753723,0.0],[0.9921568632125854,0.43921568989753723,0.0],[0.9921568632125854,0.43921568989753723,0.0],[0.9921568632125854,0.43921568989753723,0.0],[0.9921568632125854,0.43921568989753723,0.0],[0.9921568632125854,0.43921568989753723,0.0],[0.9921568632125854,0.43921568989753723,0.0],[0.9921568632125854,0.43921568989753723,0.0],[0.9921568632125854,0.43921568989753723,0.0],[0.9921568632125854,0.43921568989753723,0.0],[0.9921568632125854,0.45490196347236633,0.13333334028720856],[0.9960784316062927,0.7529411911964417,0.6941176652908325],[1.0,0.9803921580314636,0.9764705896377563],[1.0,1.0,1.0],[1.0,1.0,1.0],[1.0,1.0,1.0],[1.0,1.0,1.0],[1.0,1.0,1.0],[1.0,1.0,1.0],[1.0,1.0,1.0],[1.0,1.0,1.0],[1.0,1.0,1.0],[1.0,1.0,1.0],[1.0,1.0,1.0],[1.0,1.0,1.0],[1.0,1.0,1.0],[1.0,1.0,1.0],[1.0,1.0,1.0],[1.0,1.0,1.0],[1.0,1.0,1.0],[1.0,1.0,1.0],[1.0,1.0,1.0]],[[1.0,1.0,1.0],[1.0,1.0,1.0],[1.0,1.0,1.0],[1.0,1.0,1.0],[1.0,1.0,1.0],[1.0,1.0,1.0],[1.0,1.0,1.0],[1.0,1.0,1.0],[1.0,1.0,1.0],[1.0,1.0,1.0],[1.0,1.0,1.0],[1.0,1.0,1.0],[1.0,1.0,1.0],[1.0,1.0,1.0],[1.0,1.0,1.0],[1.0,1.0,1.0],[1.0,1.0,1.0],[1.0,1.0,1.0],[1.0,1.0,1.0],[1.0,1.0,1.0],[1.0,1.0,1.0],[0.9960784316062927,0.8666666746139526,0.8352941274642944],[0.9921568632125854,0.5764706134796143,0.4313725531101227],[0.9921568632125854,0.43921568989753723,0.0],[0.9921568632125854,0.43921568989753723,0.0],[0.9921568632125854,0.43921568989753723,0.0],[0.9921568632125854,0.43921568989753723,0.0],[0.9921568632125854,0.43921568989753723,0.0],[0.9921568632125854,0.43921568989753723,0.0],[0.9921568632125854,0.43921568989753723,0.0],[0.9921568632125854,0.43921568989753723,0.0],[0.9921568632125854,0.43921568989753723,0.0],[0.9921568632125854,0.43921568989753723,0.0],[0.9921568632125854,0.43921568989753723,0.0],[0.9921568632125854,0.43921568989753723,0.0],[0.9921568632125854,0.43921568989753723,0.0],[0.9921568632125854,0.43921568989753723,0.0],[0.9921568632125854,0.43921568989753723,0.0],[0.9921568632125854,0.43921568989753723,0.0],[0.9921568632125854,0.43921568989753723,0.0],[0.9921568632125854,0.43921568989753723,0.0],[0.9921568632125854,0.43921568989753723,0.0],[0.9921568632125854,0.43921568989753723,0.0],[0.9921568632125854,0.43921568989753723,0.0],[0.9921568632125854,0.43921568989753723,0.0],[0.9921568632125854,0.43921568989753723,0.0],[0.9921568632125854,0.43921568989753723,0.0],[0.9921568632125854,0.43921568989753723,0.0],[0.9921568632125854,0.43921568989753723,0.0],[0.9921568632125854,0.43921568989753723,0.0],[0.9921568632125854,0.43921568989753723,0.0],[0.9921568632125854,0.43921568989753723,0.0],[0.9921568632125854,0.43921568989753723,0.0],[0.9921568632125854,0.43921568989753723,0.0],[0.9921568632125854,0.43921568989753723,0.0],[0.9960784316062927,0.686274528503418,0.6000000238418579],[1.0,0.9372549057006836,0.9254902005195618],[1.0,1.0,1.0],[1.0,1.0,1.0],[1.0,1.0,1.0],[1.0,1.0,1.0],[1.0,1.0,1.0],[1.0,1.0,1.0],[1.0,1.0,1.0],[1.0,1.0,1.0],[1.0,1.0,1.0],[1.0,1.0,1.0],[1.0,1.0,1.0],[1.0,1.0,1.0],[1.0,1.0,1.0],[1.0,1.0,1.0],[1.0,1.0,1.0],[1.0,1.0,1.0],[1.0,1.0,1.0],[1.0,1.0,1.0],[1.0,1.0,1.0],[1.0,1.0,1.0],[1.0,1.0,1.0]],[[1.0,1.0,1.0],[1.0,1.0,1.0],[1.0,1.0,1.0],[1.0,1.0,1.0],[1.0,1.0,1.0],[1.0,1.0,1.0],[1.0,1.0,1.0],[1.0,1.0,1.0],[1.0,1.0,1.0],[1.0,1.0,1.0],[1.0,1.0,1.0],[1.0,1.0,1.0],[1.0,1.0,1.0],[1.0,1.0,1.0],[1.0,1.0,1.0],[1.0,1.0,1.0],[1.0,1.0,1.0],[1.0,1.0,1.0],[1.0,1.0,1.0],[1.0,1.0,1.0],[1.0,1.0,1.0],[1.0,1.0,1.0],[1.0,0.9960784316062927,0.9960784316062927],[0.9960784316062927,0.8627451062202454,0.8313725590705872],[0.9921568632125854,0.615686297416687,0.4941176474094391],[0.9921568632125854,0.43921568989753723,0.0],[0.9921568632125854,0.43921568989753723,0.0],[0.9921568632125854,0.43921568989753723,0.0],[0.9921568632125854,0.43921568989753723,0.0],[0.9921568632125854,0.43921568989753723,0.0],[0.9921568632125854,0.43921568989753723,0.0],[0.9921568632125854,0.43921568989753723,0.0],[0.9921568632125854,0.43921568989753723,0.0],[0.9921568632125854,0.43921568989753723,0.0],[0.9921568632125854,0.43921568989753723,0.0],[0.9921568632125854,0.43921568989753723,0.0],[0.9921568632125854,0.43921568989753723,0.0],[0.9921568632125854,0.43921568989753723,0.0],[0.9921568632125854,0.43921568989753723,0.0],[0.9921568632125854,0.43921568989753723,0.0],[0.9921568632125854,0.43921568989753723,0.0],[0.9921568632125854,0.43921568989753723,0.0],[0.9921568632125854,0.43921568989753723,0.0],[0.9921568632125854,0.43921568989753723,0.0],[0.9921568632125854,0.43921568989753723,0.0],[0.9921568632125854,0.43921568989753723,0.0],[0.9921568632125854,0.43921568989753723,0.0],[0.9921568632125854,0.43921568989753723,0.0],[0.9921568632125854,0.43921568989753723,0.0],[0.9921568632125854,0.43921568989753723,0.0],[0.9921568632125854,0.43921568989753723,0.0],[0.9921568632125854,0.43921568989753723,0.0],[0.9921568632125854,0.4588235318660736,0.14901961386203766],[0.9960784316062927,0.7058823704719543,0.6274510025978088],[1.0,0.929411768913269,0.9137254953384399],[1.0,1.0,1.0],[1.0,1.0,1.0],[1.0,1.0,1.0],[1.0,1.0,1.0],[1.0,1.0,1.0],[1.0,1.0,1.0],[1.0,1.0,1.0],[1.0,1.0,1.0],[1.0,1.0,1.0],[1.0,1.0,1.0],[1.0,1.0,1.0],[1.0,1.0,1.0],[1.0,1.0,1.0],[1.0,1.0,1.0],[1.0,1.0,1.0],[1.0,1.0,1.0],[1.0,1.0,1.0],[1.0,1.0,1.0],[1.0,1.0,1.0],[1.0,1.0,1.0],[1.0,1.0,1.0],[1.0,1.0,1.0],[1.0,1.0,1.0]],[[1.0,1.0,1.0],[1.0,1.0,1.0],[1.0,1.0,1.0],[1.0,1.0,1.0],[1.0,1.0,1.0],[1.0,1.0,1.0],[1.0,1.0,1.0],[1.0,1.0,1.0],[1.0,1.0,1.0],[0.9882352948188782,0.9882352948188782,0.9882352948188782],[0.9176470637321472,0.9176470637321472,0.9176470637321472],[0.8705882430076599,0.8705882430076599,0.8705882430076599],[0.8745098114013672,0.8745098114013672,0.8745098114013672],[0.929411768913269,0.929411768913269,0.929411768913269],[0.9960784316062927,0.9960784316062927,0.9960784316062927],[1.0,1.0,1.0],[1.0,1.0,1.0],[1.0,1.0,1.0],[1.0,1.0,1.0],[1.0,1.0,1.0],[1.0,1.0,1.0],[1.0,1.0,1.0],[1.0,1.0,1.0],[1.0,1.0,1.0],[1.0,1.0,1.0],[1.0,0.9176470637321472,0.9019607901573181],[0.9960784316062927,0.7411764860153198,0.6745098233222961],[0.9921568632125854,0.5176470875740051,0.3176470696926117],[0.9921568632125854,0.43921568989753723,0.0],[0.9921568632125854,0.43921568989753723,0.0],[0.9921568632125854,0.43921568989753723,0.0],[0.9921568632125854,0.43921568989753723,0.0],[0.9921568632125854,0.43921568989753723,0.0],[0.9921568632125854,0.43921568989753723,0.0],[0.9921568632125854,0.43921568989753723,0.0],[0.9921568632125854,0.43921568989753723,0.0],[0.9921568632125854,0.43921568989753723,0.0],[0.9921568632125854,0.43921568989753723,0.0],[0.9921568632125854,0.43921568989753723,0.0],[0.9921568632125854,0.43921568989753723,0.0],[0.9921568632125854,0.43921568989753723,0.0],[0.9921568632125854,0.43921568989753723,0.0],[0.9921568632125854,0.43921568989753723,0.0],[0.9921568632125854,0.43921568989753723,0.0],[0.9921568632125854,0.43921568989753723,0.0],[0.9921568632125854,0.43921568989753723,0.0],[0.9921568632125854,0.43921568989753723,0.0],[0.9921568632125854,0.43921568989753723,0.0],[0.9921568632125854,0.43921568989753723,0.0],[0.9921568632125854,0.43921568989753723,0.0],[0.9921568632125854,0.5921568870544434,0.4588235318660736],[0.9960784316062927,0.8039215803146362,0.7607843279838562],[1.0,0.9647058844566345,0.9607843160629272],[1.0,1.0,1.0],[1.0,1.0,1.0],[1.0,1.0,1.0],[1.0,1.0,1.0],[1.0,1.0,1.0],[1.0,1.0,1.0],[1.0,1.0,1.0],[1.0,1.0,1.0],[1.0,1.0,1.0],[1.0,1.0,1.0],[1.0,1.0,1.0],[1.0,1.0,1.0],[1.0,1.0,1.0],[1.0,1.0,1.0],[1.0,1.0,1.0],[1.0,1.0,1.0],[1.0,1.0,1.0],[1.0,1.0,1.0],[1.0,1.0,1.0],[1.0,1.0,1.0],[1.0,1.0,1.0],[1.0,1.0,1.0],[1.0,1.0,1.0],[1.0,1.0,1.0],[1.0,1.0,1.0]],[[1.0,1.0,1.0],[1.0,1.0,1.0],[1.0,1.0,1.0],[1.0,1.0,1.0],[1.0,1.0,1.0],[1.0,1.0,1.0],[1.0,1.0,1.0],[0.9882352948188782,0.9882352948188782,0.9882352948188782],[0.8274509906768799,0.8274509906768799,0.8274509906768799],[0.6470588445663452,0.6470588445663452,0.6470588445663452],[0.6196078658103943,0.6196078658103943,0.6196078658103943],[0.6196078658103943,0.6196078658103943,0.6196078658103943],[0.6196078658103943,0.6196078658103943,0.6196078658103943],[0.6196078658103943,0.6196078658103943,0.6196078658103943],[0.6705882549285889,0.6705882549285889,0.6705882549285889],[0.8705882430076599,0.8705882430076599,0.8705882430076599],[1.0,1.0,1.0],[1.0,1.0,1.0],[1.0,1.0,1.0],[1.0,1.0,1.0],[1.0,1.0,1.0],[1.0,1.0,1.0],[1.0,1.0,1.0],[1.0,1.0,1.0],[1.0,1.0,1.0],[1.0,1.0,1.0],[1.0,1.0,1.0],[1.0,0.9960784316062927,0.9960784316062927],[0.9960784316062927,0.9019607901573181,0.8784313797950745],[0.9960784316062927,0.772549033164978,0.7137255072593689],[0.9921568632125854,0.6196078658103943,0.501960813999176],[0.9921568632125854,0.4588235318660736,0.14901961386203766],[0.9921568632125854,0.43921568989753723,0.0],[0.9921568632125854,0.43921568989753723,0.0],[0.9921568632125854,0.43921568989753723,0.0],[0.9921568632125854,0.43921568989753723,0.0],[0.9921568632125854,0.43921568989753723,0.0],[0.9921568632125854,0.43921568989753723,0.0],[0.9921568632125854,0.43921568989753723,0.0],[0.9921568632125854,0.43921568989753723,0.0],[0.9921568632125854,0.43921568989753723,0.0],[0.9921568632125854,0.43921568989753723,0.0],[0.9921568632125854,0.43921568989753723,0.0],[0.9921568632125854,0.43921568989753723,0.0],[0.9921568632125854,0.43921568989753723,0.0],[0.9921568632125854,0.43921568989753723,0.0],[0.9921568632125854,0.5058823823928833,0.2862745225429535],[0.9960784316062927,0.6745098233222961,0.5803921818733215],[0.9960784316062927,0.8117647171020508,0.7686274647712708],[1.0,0.9450980424880981,0.9333333373069763],[1.0,1.0,1.0],[1.0,1.0,1.0],[1.0,1.0,1.0],[1.0,1.0,1.0],[1.0,1.0,1.0],[1.0,1.0,1.0],[1.0,1.0,1.0],[1.0,1.0,1.0],[1.0,1.0,1.0],[1.0,1.0,1.0],[1.0,1.0,1.0],[1.0,1.0,1.0],[1.0,1.0,1.0],[1.0,1.0,1.0],[1.0,1.0,1.0],[1.0,1.0,1.0],[1.0,1.0,1.0],[1.0,1.0,1.0],[1.0,1.0,1.0],[1.0,1.0,1.0],[1.0,1.0,1.0],[1.0,1.0,1.0],[1.0,1.0,1.0],[1.0,1.0,1.0],[1.0,1.0,1.0],[1.0,1.0,1.0],[1.0,1.0,1.0],[1.0,1.0,1.0]],[[1.0,1.0,1.0],[1.0,1.0,1.0],[1.0,1.0,1.0],[1.0,1.0,1.0],[1.0,1.0,1.0],[1.0,1.0,1.0],[0.9764705896377563,0.9764705896377563,0.9764705896377563],[0.7176470756530762,0.7176470756530762,0.7176470756530762],[0.6196078658103943,0.6196078658103943,0.6196078658103943],[0.6196078658103943,0.6196078658103943,0.6196078658103943],[0.6196078658103943,0.6196078658103943,0.6196078658103943],[0.6196078658103943,0.6196078658103943,0.6196078658103943],[0.6196078658103943,0.6196078658103943,0.6196078658103943],[0.6196078658103943,0.6196078658103943,0.6196078658103943],[0.6196078658103943,0.6196078658103943,0.6196078658103943],[0.6196078658103943,0.6196078658103943,0.6196078658103943],[0.7803921699523926,0.7803921699523926,0.7803921699523926],[0.9960784316062927,0.9960784316062927,0.9960784316062927],[1.0,1.0,1.0],[1.0,1.0,1.0],[1.0,1.0,1.0],[1.0,1.0,1.0],[1.0,1.0,1.0],[1.0,1.0,1.0],[1.0,1.0,1.0],[1.0,1.0,1.0],[1.0,1.0,1.0],[1.0,1.0,1.0],[1.0,1.0,1.0],[1.0,1.0,1.0],[1.0,1.0,1.0],[1.0,0.9921568632125854,0.9882352948188782],[1.0,0.9254902005195618,0.9098039269447327],[0.9960784316062927,0.8470588326454163,0.8156862854957581],[0.9960784316062927,0.7882353067398071,0.7372549176216125],[0.9960784316062927,0.7372549176216125,0.6666666865348816],[0.9960784316062927,0.6901960968971252,0.6039215922355652],[0.9921568632125854,0.6392157077789307,0.529411792755127],[0.9921568632125854,0.6313725709915161,0.5176470875740051],[0.9921568632125854,0.6313725709915161,0.5176470875740051],[0.9960784316062927,0.6509804129600525,0.5490196347236633],[0.9960784316062927,0.7098039388656616,0.6313725709915161],[0.9960784316062927,0.7411764860153198,0.6784313917160034],[0.9960784316062927,0.8156862854957581,0.772549033164978],[0.9960784316062927,0.8745098114013672,0.8470588326454163],[1.0,0.9450980424880981,0.9333333373069763],[1.0,1.0,1.0],[1.0,1.0,1.0],[1.0,1.0,1.0],[1.0,1.0,1.0],[1.0,1.0,1.0],[1.0,1.0,1.0],[1.0,1.0,1.0],[1.0,1.0,1.0],[1.0,1.0,1.0],[1.0,1.0,1.0],[1.0,1.0,1.0],[1.0,1.0,1.0],[1.0,1.0,1.0],[1.0,1.0,1.0],[1.0,1.0,1.0],[1.0,1.0,1.0],[1.0,1.0,1.0],[1.0,1.0,1.0],[1.0,1.0,1.0],[1.0,1.0,1.0],[1.0,1.0,1.0],[1.0,1.0,1.0],[1.0,1.0,1.0],[1.0,1.0,1.0],[1.0,1.0,1.0],[1.0,1.0,1.0],[1.0,1.0,1.0],[1.0,1.0,1.0],[1.0,1.0,1.0],[1.0,1.0,1.0],[1.0,1.0,1.0],[1.0,1.0,1.0]],[[1.0,1.0,1.0],[1.0,1.0,1.0],[1.0,1.0,1.0],[1.0,1.0,1.0],[1.0,1.0,1.0],[1.0,1.0,1.0],[0.7411764860153198,0.7411764860153198,0.7411764860153198],[0.6196078658103943,0.6196078658103943,0.6196078658103943],[0.6196078658103943,0.6196078658103943,0.6196078658103943],[0.6196078658103943,0.6196078658103943,0.6196078658103943],[0.6196078658103943,0.6196078658103943,0.6196078658103943],[0.6196078658103943,0.6196078658103943,0.6196078658103943],[0.6196078658103943,0.6196078658103943,0.6196078658103943],[0.6196078658103943,0.6196078658103943,0.6196078658103943],[0.6196078658103943,0.6196078658103943,0.6196078658103943],[0.6196078658103943,0.6196078658103943,0.6196078658103943],[0.6196078658103943,0.6196078658103943,0.6196078658103943],[0.8274509906768799,0.8274509906768799,0.8274509906768799],[1.0,1.0,1.0],[1.0,1.0,1.0],[1.0,1.0,1.0],[1.0,1.0,1.0],[1.0,1.0,1.0],[1.0,1.0,1.0],[1.0,1.0,1.0],[1.0,1.0,1.0],[1.0,1.0,1.0],[1.0,1.0,1.0],[1.0,1.0,1.0],[1.0,1.0,1.0],[1.0,1.0,1.0],[1.0,1.0,1.0],[1.0,1.0,1.0],[1.0,1.0,1.0],[1.0,1.0,1.0],[1.0,1.0,1.0],[1.0,1.0,1.0],[1.0,1.0,1.0],[1.0,1.0,1.0],[1.0,1.0,1.0],[1.0,1.0,1.0],[1.0,1.0,1.0],[1.0,1.0,1.0],[1.0,1.0,1.0],[1.0,1.0,1.0],[1.0,1.0,1.0],[1.0,1.0,1.0],[1.0,1.0,1.0],[1.0,1.0,1.0],[1.0,1.0,1.0],[1.0,1.0,1.0],[1.0,1.0,1.0],[1.0,1.0,1.0],[1.0,1.0,1.0],[1.0,1.0,1.0],[1.0,1.0,1.0],[1.0,1.0,1.0],[1.0,1.0,1.0],[1.0,1.0,1.0],[1.0,1.0,1.0],[1.0,1.0,1.0],[1.0,1.0,1.0],[1.0,1.0,1.0],[1.0,1.0,1.0],[1.0,1.0,1.0],[1.0,1.0,1.0],[1.0,1.0,1.0],[1.0,1.0,1.0],[1.0,1.0,1.0],[1.0,1.0,1.0],[1.0,1.0,1.0],[1.0,1.0,1.0],[1.0,1.0,1.0],[1.0,1.0,1.0],[1.0,1.0,1.0],[1.0,1.0,1.0],[1.0,1.0,1.0],[1.0,1.0,1.0]],[[1.0,1.0,1.0],[1.0,1.0,1.0],[1.0,1.0,1.0],[1.0,1.0,1.0],[1.0,1.0,1.0],[0.8941176533699036,0.8941176533699036,0.8941176533699036],[0.6196078658103943,0.6196078658103943,0.6196078658103943],[0.6196078658103943,0.6196078658103943,0.6196078658103943],[0.6196078658103943,0.6196078658103943,0.6196078658103943],[0.6196078658103943,0.6196078658103943,0.6196078658103943],[0.6196078658103943,0.6196078658103943,0.6196078658103943],[0.6196078658103943,0.6196078658103943,0.6196078658103943],[0.6196078658103943,0.6196078658103943,0.6196078658103943],[0.6196078658103943,0.6196078658103943,0.6196078658103943],[0.6196078658103943,0.6196078658103943,0.6196078658103943],[0.6196078658103943,0.6196078658103943,0.6196078658103943],[0.6196078658103943,0.6196078658103943,0.6196078658103943],[0.6274510025978088,0.6274510025978088,0.6274510025978088],[0.9607843160629272,0.9607843160629272,0.9607843160629272],[1.0,1.0,1.0],[1.0,1.0,1.0],[1.0,1.0,1.0],[1.0,1.0,1.0],[1.0,1.0,1.0],[1.0,1.0,1.0],[1.0,1.0,1.0],[1.0,1.0,1.0],[1.0,1.0,1.0],[1.0,1.0,1.0],[1.0,1.0,1.0],[1.0,1.0,1.0],[1.0,1.0,1.0],[1.0,1.0,1.0],[1.0,1.0,1.0],[1.0,1.0,1.0],[1.0,1.0,1.0],[1.0,1.0,1.0],[1.0,1.0,1.0],[1.0,1.0,1.0],[1.0,1.0,1.0],[1.0,1.0,1.0],[1.0,1.0,1.0],[1.0,1.0,1.0],[1.0,1.0,1.0],[1.0,1.0,1.0],[1.0,1.0,1.0],[1.0,1.0,1.0],[1.0,1.0,1.0],[1.0,1.0,1.0],[1.0,1.0,1.0],[1.0,1.0,1.0],[1.0,1.0,1.0],[1.0,1.0,1.0],[1.0,1.0,1.0],[1.0,1.0,1.0],[1.0,1.0,1.0],[1.0,1.0,1.0],[1.0,1.0,1.0],[1.0,1.0,1.0],[1.0,1.0,1.0],[1.0,1.0,1.0],[1.0,1.0,1.0],[1.0,1.0,1.0],[1.0,1.0,1.0],[1.0,1.0,1.0],[1.0,1.0,1.0],[1.0,1.0,1.0],[1.0,1.0,1.0],[1.0,1.0,1.0],[1.0,1.0,1.0],[1.0,1.0,1.0],[1.0,1.0,1.0],[1.0,1.0,1.0],[1.0,1.0,1.0],[1.0,1.0,1.0],[1.0,1.0,1.0],[1.0,1.0,1.0],[1.0,1.0,1.0]],[[1.0,1.0,1.0],[1.0,1.0,1.0],[1.0,1.0,1.0],[1.0,1.0,1.0],[1.0,1.0,1.0],[0.7490196228027344,0.7490196228027344,0.7490196228027344],[0.6196078658103943,0.6196078658103943,0.6196078658103943],[0.6196078658103943,0.6196078658103943,0.6196078658103943],[0.6196078658103943,0.6196078658103943,0.6196078658103943],[0.6196078658103943,0.6196078658103943,0.6196078658103943],[0.6196078658103943,0.6196078658103943,0.6196078658103943],[0.6196078658103943,0.6196078658103943,0.6196078658103943],[0.6196078658103943,0.6196078658103943,0.6196078658103943],[0.6196078658103943,0.6196078658103943,0.6196078658103943],[0.6196078658103943,0.6196078658103943,0.6196078658103943],[0.6196078658103943,0.6196078658103943,0.6196078658103943],[0.6196078658103943,0.6196078658103943,0.6196078658103943],[0.6196078658103943,0.6196078658103943,0.6196078658103943],[0.8392156958580017,0.8392156958580017,0.8392156958580017],[1.0,1.0,1.0],[1.0,1.0,1.0],[1.0,1.0,1.0],[1.0,1.0,1.0],[1.0,1.0,1.0],[1.0,1.0,1.0],[1.0,1.0,1.0],[1.0,1.0,1.0],[1.0,1.0,1.0],[1.0,1.0,1.0],[1.0,1.0,1.0],[1.0,1.0,1.0],[1.0,1.0,1.0],[1.0,1.0,1.0],[1.0,1.0,1.0],[1.0,1.0,1.0],[1.0,1.0,1.0],[1.0,1.0,1.0],[1.0,1.0,1.0],[1.0,1.0,1.0],[1.0,1.0,1.0],[1.0,1.0,1.0],[1.0,1.0,1.0],[1.0,1.0,1.0],[1.0,1.0,1.0],[1.0,1.0,1.0],[1.0,1.0,1.0],[1.0,1.0,1.0],[1.0,1.0,1.0],[1.0,1.0,1.0],[1.0,1.0,1.0],[1.0,1.0,1.0],[1.0,1.0,1.0],[1.0,1.0,1.0],[1.0,1.0,1.0],[1.0,1.0,1.0],[1.0,1.0,1.0],[1.0,1.0,1.0],[1.0,1.0,1.0],[1.0,1.0,1.0],[1.0,1.0,1.0],[1.0,1.0,1.0],[1.0,1.0,1.0],[1.0,1.0,1.0],[1.0,1.0,1.0],[1.0,1.0,1.0],[1.0,1.0,1.0],[1.0,1.0,1.0],[1.0,1.0,1.0],[1.0,1.0,1.0],[1.0,1.0,1.0],[1.0,1.0,1.0],[1.0,1.0,1.0],[1.0,1.0,1.0],[1.0,1.0,1.0],[1.0,1.0,1.0],[1.0,1.0,1.0],[1.0,1.0,1.0],[1.0,1.0,1.0]],[[1.0,1.0,1.0],[1.0,1.0,1.0],[1.0,1.0,1.0],[1.0,1.0,1.0],[1.0,1.0,1.0],[0.6392157077789307,0.6392157077789307,0.6392157077789307],[0.6196078658103943,0.6196078658103943,0.6196078658103943],[0.6196078658103943,0.6196078658103943,0.6196078658103943],[0.6196078658103943,0.6196078658103943,0.6196078658103943],[0.6196078658103943,0.6196078658103943,0.6196078658103943],[0.6196078658103943,0.6196078658103943,0.6196078658103943],[0.6196078658103943,0.6196078658103943,0.6196078658103943],[0.6196078658103943,0.6196078658103943,0.6196078658103943],[0.6196078658103943,0.6196078658103943,0.6196078658103943],[0.6196078658103943,0.6196078658103943,0.6196078658103943],[0.6196078658103943,0.6196078658103943,0.6196078658103943],[0.6196078658103943,0.6196078658103943,0.6196078658103943],[0.6196078658103943,0.6196078658103943,0.6196078658103943],[0.7529411911964417,0.7529411911964417,0.7529411911964417],[1.0,1.0,1.0],[1.0,1.0,1.0],[1.0,1.0,1.0],[1.0,1.0,1.0],[1.0,1.0,1.0],[1.0,1.0,1.0],[1.0,1.0,1.0],[1.0,1.0,1.0],[1.0,1.0,1.0],[1.0,1.0,1.0],[1.0,1.0,1.0],[1.0,1.0,1.0],[1.0,1.0,1.0],[1.0,1.0,1.0],[1.0,1.0,1.0],[1.0,1.0,1.0],[1.0,1.0,1.0],[1.0,1.0,1.0],[1.0,1.0,1.0],[1.0,1.0,1.0],[1.0,1.0,1.0],[1.0,1.0,1.0],[1.0,1.0,1.0],[1.0,1.0,1.0],[1.0,1.0,1.0],[1.0,1.0,1.0],[1.0,1.0,1.0],[1.0,1.0,1.0],[1.0,1.0,1.0],[1.0,1.0,1.0],[1.0,1.0,1.0],[1.0,1.0,1.0],[1.0,1.0,1.0],[1.0,1.0,1.0],[1.0,1.0,1.0],[1.0,1.0,1.0],[1.0,1.0,1.0],[1.0,1.0,1.0],[1.0,1.0,1.0],[1.0,1.0,1.0],[1.0,1.0,1.0],[1.0,1.0,1.0],[1.0,1.0,1.0],[1.0,1.0,1.0],[1.0,1.0,1.0],[1.0,1.0,1.0],[1.0,1.0,1.0],[1.0,1.0,1.0],[1.0,1.0,1.0],[1.0,1.0,1.0],[1.0,1.0,1.0],[1.0,1.0,1.0],[1.0,1.0,1.0],[1.0,1.0,1.0],[1.0,1.0,1.0],[1.0,1.0,1.0],[1.0,1.0,1.0],[1.0,1.0,1.0],[1.0,1.0,1.0]],[[1.0,1.0,1.0],[1.0,1.0,1.0],[1.0,1.0,1.0],[1.0,1.0,1.0],[0.9960784316062927,0.9960784316062927,0.9960784316062927],[0.6196078658103943,0.6196078658103943,0.6196078658103943],[0.6196078658103943,0.6196078658103943,0.6196078658103943],[0.6196078658103943,0.6196078658103943,0.6196078658103943],[0.6196078658103943,0.6196078658103943,0.6196078658103943],[0.6196078658103943,0.6196078658103943,0.6196078658103943],[0.6196078658103943,0.6196078658103943,0.6196078658103943],[0.6196078658103943,0.6196078658103943,0.6196078658103943],[0.6196078658103943,0.6196078658103943,0.6196078658103943],[0.6196078658103943,0.6196078658103943,0.6196078658103943],[0.6196078658103943,0.6196078658103943,0.6196078658103943],[0.6196078658103943,0.6196078658103943,0.6196078658103943],[0.6196078658103943,0.6196078658103943,0.6196078658103943],[0.6196078658103943,0.6196078658103943,0.6196078658103943],[0.7215686440467834,0.7215686440467834,0.7215686440467834],[1.0,1.0,1.0],[1.0,1.0,1.0],[1.0,1.0,1.0],[1.0,1.0,1.0],[1.0,1.0,1.0],[1.0,1.0,1.0],[1.0,1.0,1.0],[1.0,1.0,1.0],[1.0,1.0,1.0],[1.0,1.0,1.0],[1.0,1.0,1.0],[1.0,1.0,1.0],[1.0,1.0,1.0],[1.0,1.0,1.0],[1.0,1.0,1.0],[1.0,1.0,1.0],[1.0,1.0,1.0],[1.0,1.0,1.0],[1.0,1.0,1.0],[1.0,1.0,1.0],[1.0,1.0,1.0],[1.0,1.0,1.0],[1.0,1.0,1.0],[1.0,1.0,1.0],[1.0,1.0,1.0],[1.0,1.0,1.0],[1.0,1.0,1.0],[1.0,1.0,1.0],[1.0,1.0,1.0],[1.0,1.0,1.0],[1.0,1.0,1.0],[1.0,1.0,1.0],[1.0,1.0,1.0],[1.0,1.0,1.0],[1.0,1.0,1.0],[1.0,1.0,1.0],[1.0,1.0,1.0],[1.0,1.0,1.0],[1.0,1.0,1.0],[1.0,1.0,1.0],[1.0,1.0,1.0],[1.0,1.0,1.0],[1.0,1.0,1.0],[1.0,1.0,1.0],[1.0,1.0,1.0],[1.0,1.0,1.0],[1.0,1.0,1.0],[1.0,1.0,1.0],[1.0,1.0,1.0],[1.0,1.0,1.0],[1.0,1.0,1.0],[1.0,1.0,1.0],[1.0,1.0,1.0],[1.0,1.0,1.0],[1.0,1.0,1.0],[1.0,1.0,1.0],[1.0,1.0,1.0],[1.0,1.0,1.0],[1.0,1.0,1.0]],[[1.0,1.0,1.0],[1.0,1.0,1.0],[1.0,1.0,1.0],[1.0,1.0,1.0],[1.0,1.0,1.0],[0.6392157077789307,0.6392157077789307,0.6392157077789307],[0.6196078658103943,0.6196078658103943,0.6196078658103943],[0.6196078658103943,0.6196078658103943,0.6196078658103943],[0.6196078658103943,0.6196078658103943,0.6196078658103943],[0.6196078658103943,0.6196078658103943,0.6196078658103943],[0.6196078658103943,0.6196078658103943,0.6196078658103943],[0.6196078658103943,0.6196078658103943,0.6196078658103943],[0.6196078658103943,0.6196078658103943,0.6196078658103943],[0.6196078658103943,0.6196078658103943,0.6196078658103943],[0.6196078658103943,0.6196078658103943,0.6196078658103943],[0.6196078658103943,0.6196078658103943,0.6196078658103943],[0.6196078658103943,0.6196078658103943,0.6196078658103943],[0.6196078658103943,0.6196078658103943,0.6196078658103943],[0.7568627595901489,0.7568627595901489,0.7568627595901489],[1.0,1.0,1.0],[1.0,1.0,1.0],[1.0,1.0,1.0],[1.0,1.0,1.0],[1.0,1.0,1.0],[1.0,1.0,1.0],[1.0,1.0,1.0],[1.0,1.0,1.0],[1.0,1.0,1.0],[1.0,1.0,1.0],[1.0,1.0,1.0],[1.0,1.0,1.0],[1.0,1.0,1.0],[1.0,1.0,1.0],[1.0,1.0,1.0],[1.0,1.0,1.0],[1.0,1.0,1.0],[1.0,1.0,1.0],[1.0,1.0,1.0],[1.0,1.0,1.0],[1.0,1.0,1.0],[1.0,1.0,1.0],[1.0,1.0,1.0],[1.0,1.0,1.0],[1.0,1.0,1.0],[1.0,1.0,1.0],[1.0,1.0,1.0],[1.0,1.0,1.0],[1.0,1.0,1.0],[1.0,1.0,1.0],[1.0,1.0,1.0],[1.0,1.0,1.0],[1.0,1.0,1.0],[1.0,1.0,1.0],[1.0,1.0,1.0],[1.0,1.0,1.0],[1.0,1.0,1.0],[1.0,1.0,1.0],[1.0,1.0,1.0],[1.0,1.0,1.0],[1.0,1.0,1.0],[1.0,1.0,1.0],[1.0,1.0,1.0],[1.0,1.0,1.0],[1.0,1.0,1.0],[1.0,1.0,1.0],[1.0,1.0,1.0],[1.0,1.0,1.0],[1.0,1.0,1.0],[1.0,1.0,1.0],[1.0,1.0,1.0],[1.0,1.0,1.0],[1.0,1.0,1.0],[1.0,1.0,1.0],[1.0,1.0,1.0],[1.0,1.0,1.0],[1.0,1.0,1.0],[1.0,1.0,1.0],[1.0,1.0,1.0]],[[1.0,1.0,1.0],[1.0,1.0,1.0],[1.0,1.0,1.0],[1.0,1.0,1.0],[1.0,1.0,1.0],[0.7450980544090271,0.7450980544090271,0.7450980544090271],[0.6196078658103943,0.6196078658103943,0.6196078658103943],[0.6196078658103943,0.6196078658103943,0.6196078658103943],[0.6196078658103943,0.6196078658103943,0.6196078658103943],[0.6196078658103943,0.6196078658103943,0.6196078658103943],[0.6196078658103943,0.6196078658103943,0.6196078658103943],[0.6196078658103943,0.6196078658103943,0.6196078658103943],[0.6196078658103943,0.6196078658103943,0.6196078658103943],[0.6196078658103943,0.6196078658103943,0.6196078658103943],[0.6196078658103943,0.6196078658103943,0.6196078658103943],[0.6196078658103943,0.6196078658103943,0.6196078658103943],[0.6196078658103943,0.6196078658103943,0.6196078658103943],[0.6196078658103943,0.6196078658103943,0.6196078658103943],[0.843137264251709,0.843137264251709,0.843137264251709],[1.0,1.0,1.0],[1.0,1.0,1.0],[1.0,1.0,1.0],[1.0,1.0,1.0],[1.0,1.0,1.0],[1.0,1.0,1.0],[1.0,1.0,1.0],[1.0,1.0,1.0],[1.0,1.0,1.0],[1.0,1.0,1.0],[1.0,1.0,1.0],[1.0,1.0,1.0],[1.0,1.0,1.0],[1.0,1.0,1.0],[1.0,1.0,1.0],[1.0,1.0,1.0],[1.0,1.0,1.0],[1.0,1.0,1.0],[1.0,1.0,1.0],[1.0,1.0,1.0],[1.0,1.0,1.0],[1.0,1.0,1.0],[1.0,1.0,1.0],[1.0,1.0,1.0],[1.0,1.0,1.0],[1.0,1.0,1.0],[1.0,1.0,1.0],[1.0,1.0,1.0],[1.0,1.0,1.0],[1.0,1.0,1.0],[1.0,1.0,1.0],[1.0,1.0,1.0],[1.0,1.0,1.0],[1.0,1.0,1.0],[1.0,1.0,1.0],[1.0,1.0,1.0],[1.0,1.0,1.0],[1.0,1.0,1.0],[1.0,1.0,1.0],[1.0,1.0,1.0],[1.0,1.0,1.0],[1.0,1.0,1.0],[1.0,1.0,1.0],[1.0,1.0,1.0],[1.0,1.0,1.0],[1.0,1.0,1.0],[1.0,1.0,1.0],[1.0,1.0,1.0],[1.0,1.0,1.0],[1.0,1.0,1.0],[1.0,1.0,1.0],[1.0,1.0,1.0],[1.0,1.0,1.0],[1.0,1.0,1.0],[1.0,1.0,1.0],[1.0,1.0,1.0],[1.0,1.0,1.0],[1.0,1.0,1.0],[1.0,1.0,1.0]],[[1.0,1.0,1.0],[1.0,1.0,1.0],[1.0,1.0,1.0],[1.0,1.0,1.0],[1.0,1.0,1.0],[0.8901960849761963,0.8901960849761963,0.8901960849761963],[0.6196078658103943,0.6196078658103943,0.6196078658103943],[0.6196078658103943,0.6196078658103943,0.6196078658103943],[0.6196078658103943,0.6196078658103943,0.6196078658103943],[0.6196078658103943,0.6196078658103943,0.6196078658103943],[0.6196078658103943,0.6196078658103943,0.6196078658103943],[0.6196078658103943,0.6196078658103943,0.6196078658103943],[0.6196078658103943,0.6196078658103943,0.6196078658103943],[0.6196078658103943,0.6196078658103943,0.6196078658103943],[0.6196078658103943,0.6196078658103943,0.6196078658103943],[0.6196078658103943,0.6196078658103943,0.6196078658103943],[0.6196078658103943,0.6196078658103943,0.6196078658103943],[0.6313725709915161,0.6313725709915161,0.6313725709915161],[0.9647058844566345,0.9647058844566345,0.9647058844566345],[1.0,1.0,1.0],[1.0,1.0,1.0],[1.0,1.0,1.0],[1.0,1.0,1.0],[1.0,1.0,1.0],[1.0,1.0,1.0],[1.0,1.0,1.0],[1.0,1.0,1.0],[1.0,1.0,1.0],[1.0,1.0,1.0],[1.0,1.0,1.0],[1.0,1.0,1.0],[1.0,1.0,1.0],[1.0,1.0,1.0],[1.0,1.0,1.0],[1.0,1.0,1.0],[1.0,1.0,1.0],[1.0,1.0,1.0],[1.0,1.0,1.0],[1.0,1.0,1.0],[1.0,1.0,1.0],[1.0,1.0,1.0],[1.0,1.0,1.0],[1.0,1.0,1.0],[1.0,1.0,1.0],[1.0,1.0,1.0],[1.0,1.0,1.0],[1.0,1.0,1.0],[1.0,1.0,1.0],[1.0,1.0,1.0],[1.0,1.0,1.0],[1.0,1.0,1.0],[1.0,1.0,1.0],[1.0,1.0,1.0],[1.0,1.0,1.0],[1.0,1.0,1.0],[1.0,1.0,1.0],[1.0,1.0,1.0],[1.0,1.0,1.0],[1.0,1.0,1.0],[1.0,1.0,1.0],[1.0,1.0,1.0],[1.0,1.0,1.0],[1.0,1.0,1.0],[1.0,1.0,1.0],[1.0,1.0,1.0],[1.0,1.0,1.0],[1.0,1.0,1.0],[1.0,1.0,1.0],[1.0,1.0,1.0],[1.0,1.0,1.0],[1.0,1.0,1.0],[1.0,1.0,1.0],[1.0,1.0,1.0],[1.0,1.0,1.0],[1.0,1.0,1.0],[1.0,1.0,1.0],[1.0,1.0,1.0],[1.0,1.0,1.0]],[[1.0,1.0,1.0],[1.0,1.0,1.0],[1.0,1.0,1.0],[1.0,1.0,1.0],[1.0,1.0,1.0],[1.0,1.0,1.0],[0.7372549176216125,0.7372549176216125,0.7372549176216125],[0.6196078658103943,0.6196078658103943,0.6196078658103943],[0.6196078658103943,0.6196078658103943,0.6196078658103943],[0.6196078658103943,0.6196078658103943,0.6196078658103943],[0.6196078658103943,0.6196078658103943,0.6196078658103943],[0.6196078658103943,0.6196078658103943,0.6196078658103943],[0.6196078658103943,0.6196078658103943,0.6196078658103943],[0.6196078658103943,0.6196078658103943,0.6196078658103943],[0.6196078658103943,0.6196078658103943,0.6196078658103943],[0.6196078658103943,0.6196078658103943,0.6196078658103943],[0.6196078658103943,0.6196078658103943,0.6196078658103943],[0.8352941274642944,0.8352941274642944,0.8352941274642944],[1.0,1.0,1.0],[1.0,1.0,1.0],[1.0,1.0,1.0],[1.0,1.0,1.0],[1.0,1.0,1.0],[1.0,1.0,1.0],[1.0,1.0,1.0],[1.0,1.0,1.0],[1.0,1.0,1.0],[1.0,1.0,1.0],[1.0,1.0,1.0],[1.0,1.0,1.0],[1.0,1.0,1.0],[1.0,1.0,1.0],[1.0,1.0,1.0],[1.0,1.0,1.0],[1.0,1.0,1.0],[1.0,1.0,1.0],[1.0,1.0,1.0],[1.0,1.0,1.0],[1.0,1.0,1.0],[1.0,1.0,1.0],[1.0,1.0,1.0],[1.0,1.0,1.0],[1.0,1.0,1.0],[1.0,1.0,1.0],[1.0,1.0,1.0],[1.0,1.0,1.0],[1.0,1.0,1.0],[1.0,1.0,1.0],[1.0,1.0,1.0],[1.0,1.0,1.0],[1.0,1.0,1.0],[1.0,1.0,1.0],[1.0,1.0,1.0],[1.0,1.0,1.0],[1.0,1.0,1.0],[1.0,1.0,1.0],[1.0,1.0,1.0],[1.0,1.0,1.0],[1.0,1.0,1.0],[1.0,1.0,1.0],[1.0,1.0,1.0],[1.0,1.0,1.0],[1.0,1.0,1.0],[1.0,1.0,1.0],[1.0,1.0,1.0],[1.0,1.0,1.0],[1.0,1.0,1.0],[1.0,1.0,1.0],[1.0,1.0,1.0],[1.0,1.0,1.0],[1.0,1.0,1.0],[1.0,1.0,1.0],[1.0,1.0,1.0],[1.0,1.0,1.0],[1.0,1.0,1.0],[1.0,1.0,1.0],[1.0,1.0,1.0],[1.0,1.0,1.0]],[[1.0,1.0,1.0],[1.0,1.0,1.0],[1.0,1.0,1.0],[1.0,1.0,1.0],[1.0,1.0,1.0],[1.0,1.0,1.0],[0.9764705896377563,0.9764705896377563,0.9764705896377563],[0.7098039388656616,0.7098039388656616,0.7098039388656616],[0.6196078658103943,0.6196078658103943,0.6196078658103943],[0.6196078658103943,0.6196078658103943,0.6196078658103943],[0.6196078658103943,0.6196078658103943,0.6196078658103943],[0.6196078658103943,0.6196078658103943,0.6196078658103943],[0.6196078658103943,0.6196078658103943,0.6196078658103943],[0.6196078658103943,0.6196078658103943,0.6196078658103943],[0.6196078658103943,0.6196078658103943,0.6196078658103943],[0.6196078658103943,0.6196078658103943,0.6196078658103943],[0.7882353067398071,0.7882353067398071,0.7882353067398071],[0.9960784316062927,0.9960784316062927,0.9960784316062927],[1.0,1.0,1.0],[1.0,1.0,1.0],[1.0,1.0,1.0],[1.0,1.0,1.0],[1.0,1.0,1.0],[1.0,1.0,1.0],[1.0,1.0,1.0],[1.0,1.0,1.0],[1.0,1.0,1.0],[1.0,1.0,1.0],[1.0,1.0,1.0],[1.0,1.0,1.0],[1.0,1.0,1.0],[1.0,1.0,1.0],[1.0,1.0,1.0],[1.0,1.0,1.0],[1.0,1.0,1.0],[1.0,1.0,1.0],[1.0,1.0,1.0],[1.0,1.0,1.0],[1.0,1.0,1.0],[1.0,1.0,1.0],[1.0,1.0,1.0],[1.0,1.0,1.0],[1.0,1.0,1.0],[1.0,1.0,1.0],[1.0,1.0,1.0],[1.0,1.0,1.0],[1.0,1.0,1.0],[1.0,1.0,1.0],[1.0,1.0,1.0],[1.0,1.0,1.0],[1.0,1.0,1.0],[1.0,1.0,1.0],[1.0,1.0,1.0],[1.0,1.0,1.0],[1.0,1.0,1.0],[1.0,1.0,1.0],[1.0,1.0,1.0],[1.0,1.0,1.0],[1.0,1.0,1.0],[1.0,1.0,1.0],[1.0,1.0,1.0],[1.0,1.0,1.0],[1.0,1.0,1.0],[1.0,1.0,1.0],[1.0,1.0,1.0],[1.0,1.0,1.0],[1.0,1.0,1.0],[1.0,1.0,1.0],[1.0,1.0,1.0],[1.0,1.0,1.0],[1.0,1.0,1.0],[1.0,1.0,1.0],[1.0,1.0,1.0],[1.0,1.0,1.0],[1.0,1.0,1.0],[1.0,1.0,1.0],[1.0,1.0,1.0],[1.0,1.0,1.0]],[[1.0,1.0,1.0],[1.0,1.0,1.0],[1.0,1.0,1.0],[1.0,1.0,1.0],[1.0,1.0,1.0],[1.0,1.0,1.0],[1.0,1.0,1.0],[0.9882352948188782,0.9882352948188782,0.9882352948188782],[0.8235294222831726,0.8235294222831726,0.8235294222831726],[0.6392157077789307,0.6392157077789307,0.6392157077789307],[0.6196078658103943,0.6196078658103943,0.6196078658103943],[0.6196078658103943,0.6196078658103943,0.6196078658103943],[0.6196078658103943,0.6196078658103943,0.6196078658103943],[0.6196078658103943,0.6196078658103943,0.6196078658103943],[0.6705882549285889,0.6705882549285889,0.6705882549285889],[0.8745098114013672,0.8745098114013672,0.8745098114013672],[1.0,1.0,1.0],[1.0,1.0,1.0],[1.0,1.0,1.0],[1.0,1.0,1.0],[1.0,1.0,1.0],[1.0,1.0,1.0],[1.0,1.0,1.0],[1.0,1.0,1.0],[1.0,1.0,1.0],[1.0,1.0,1.0],[1.0,1.0,1.0],[1.0,1.0,1.0],[1.0,1.0,1.0],[1.0,1.0,1.0],[1.0,1.0,1.0],[1.0,1.0,1.0],[1.0,1.0,1.0],[1.0,1.0,1.0],[1.0,1.0,1.0],[1.0,1.0,1.0],[1.0,1.0,1.0],[1.0,1.0,1.0],[1.0,1.0,1.0],[1.0,1.0,1.0],[1.0,1.0,1.0],[1.0,1.0,1.0],[1.0,1.0,1.0],[1.0,1.0,1.0],[1.0,1.0,1.0],[1.0,1.0,1.0],[1.0,1.0,1.0],[1.0,1.0,1.0],[1.0,1.0,1.0],[1.0,1.0,1.0],[1.0,1.0,1.0],[1.0,1.0,1.0],[1.0,1.0,1.0],[1.0,1.0,1.0],[1.0,1.0,1.0],[1.0,1.0,1.0],[1.0,1.0,1.0],[1.0,1.0,1.0],[1.0,1.0,1.0],[1.0,1.0,1.0],[1.0,1.0,1.0],[1.0,1.0,1.0],[1.0,1.0,1.0],[1.0,1.0,1.0],[1.0,1.0,1.0],[1.0,1.0,1.0],[1.0,1.0,1.0],[1.0,1.0,1.0],[1.0,1.0,1.0],[1.0,1.0,1.0],[1.0,1.0,1.0],[1.0,1.0,1.0],[1.0,1.0,1.0],[1.0,1.0,1.0],[1.0,1.0,1.0],[1.0,1.0,1.0],[1.0,1.0,1.0],[1.0,1.0,1.0]],[[1.0,1.0,1.0],[1.0,1.0,1.0],[1.0,1.0,1.0],[1.0,1.0,1.0],[1.0,1.0,1.0],[1.0,1.0,1.0],[1.0,1.0,1.0],[1.0,1.0,1.0],[1.0,1.0,1.0],[0.9843137264251709,0.9843137264251709,0.9843137264251709],[0.9098039269447327,0.9098039269447327,0.9098039269447327],[0.8705882430076599,0.8705882430076599,0.8705882430076599],[0.8705882430076599,0.8705882430076599,0.8705882430076599],[0.9254902005195618,0.9254902005195618,0.9254902005195618],[0.9960784316062927,0.9960784316062927,0.9960784316062927],[1.0,1.0,1.0],[1.0,1.0,1.0],[1.0,1.0,1.0],[1.0,1.0,1.0],[1.0,1.0,1.0],[1.0,1.0,1.0],[1.0,1.0,1.0],[1.0,1.0,1.0],[1.0,1.0,1.0],[1.0,1.0,1.0],[1.0,1.0,1.0],[1.0,1.0,1.0],[1.0,1.0,1.0],[1.0,1.0,1.0],[1.0,1.0,1.0],[1.0,1.0,1.0],[1.0,1.0,1.0],[1.0,1.0,1.0],[1.0,1.0,1.0],[1.0,1.0,1.0],[1.0,1.0,1.0],[1.0,1.0,1.0],[1.0,1.0,1.0],[1.0,1.0,1.0],[1.0,1.0,1.0],[1.0,1.0,1.0],[1.0,1.0,1.0],[1.0,1.0,1.0],[1.0,1.0,1.0],[1.0,1.0,1.0],[1.0,1.0,1.0],[1.0,1.0,1.0],[1.0,1.0,1.0],[1.0,1.0,1.0],[1.0,1.0,1.0],[1.0,1.0,1.0],[1.0,1.0,1.0],[1.0,1.0,1.0],[1.0,1.0,1.0],[1.0,1.0,1.0],[1.0,1.0,1.0],[1.0,1.0,1.0],[1.0,1.0,1.0],[1.0,1.0,1.0],[1.0,1.0,1.0],[1.0,1.0,1.0],[1.0,1.0,1.0],[1.0,1.0,1.0],[1.0,1.0,1.0],[1.0,1.0,1.0],[1.0,1.0,1.0],[1.0,1.0,1.0],[1.0,1.0,1.0],[1.0,1.0,1.0],[1.0,1.0,1.0],[1.0,1.0,1.0],[1.0,1.0,1.0],[1.0,1.0,1.0],[1.0,1.0,1.0],[1.0,1.0,1.0],[1.0,1.0,1.0],[1.0,1.0,1.0],[1.0,1.0,1.0]]])"
   ]
  },
  {
   "cell_type": "markdown",
   "id": "9dcc6719-1286-4dda-ae1e-2ca213f7526d",
   "metadata": {
    "deletable": false,
    "editable": false,
    "nbgrader": {
     "cell_type": "markdown",
     "checksum": "64e2ee5aac8ea33e57b5930ff9436bfc",
     "grade": false,
     "grade_id": "cell-f7da78247dd67f3d",
     "locked": true,
     "schema_version": 3,
     "solution": false,
     "task": false
    }
   },
   "source": [
    "### (c) Custom-format export [10 marks (incl. 2 marks for coding style)]\n",
    "\n",
    "Having separate files for the R, G, and B channels is a bit inconvenient. Instead, we would like to store our images in a custom text-based format as follows:\n",
    "- individual lines correspond to the _rows_ of the image;\n",
    "- _columns_ are separated by commas;\n",
    "- the numerical values of the three channels for each pixel are separated by spaces.\n",
    "\n",
    "For example, a 3x4 image with red pixels in the first row, (medium) gray pixels in the second row, and purple pixels in the third row will be stored like this:\n",
    "\n",
    "    1.0 0.0 0.0,1.0 0.0 0.0,1.0 0.0 0.0,1.0 0.0 0.0\n",
    "    0.5 0.5 0.5,0.5 0.5 0.5,0.5 0.5 0.5,0.5 0.5 0.5\n",
    "    0.5 0.0 0.5,0.5 0.0 0.5,0.5 0.0 0.5,0.5 0.0 0.5\n",
    "\n",
    "Write a function `save_image` that takes a file name and an image (in the form of a numpy array as obtained in Exercise 1b above) and stores the image in the format as defined above.\n",
    "The function should return `True` if the file was written successfully or `False` if an error occurred.\n",
    "Use your function to save the Queens' Building `image` as `queens_building.txt` in the notebook folder."
   ]
  },
  {
   "cell_type": "code",
   "execution_count": null,
   "id": "86be61d5-f934-4ee2-90e4-90dee9a1baca",
   "metadata": {
    "deletable": false,
    "nbgrader": {
     "cell_type": "code",
     "checksum": "89cf0b64a3a76585d956bfb16877719f",
     "grade": true,
     "grade_id": "cell-7a1c9b61a05cd750",
     "locked": false,
     "points": 10,
     "schema_version": 3,
     "solution": true,
     "task": false
    }
   },
   "outputs": [],
   "source": [
    "def save_image(file_name, image):\n",
    "    \"\"\"Function save_image takes 2 arguments\n",
    "        First one is the name of the file in a directory\n",
    "        Second argument is the image in form of 3d numpy array\n",
    "        The function reads the image and stores in format of\n",
    "        1.Individual lines correspond to the _rows_ of the image;\n",
    "        2.Columns_ are separated by commas;\n",
    "        3.The numerical values of the three channels for each pixel are separated by spaces.\n",
    "\n",
    "        For example, a 3x4 image with red pixels in the first row, (medium) gray pixels in the second row, \n",
    "        and purple pixels in the third row will be stored like this:\n",
    "\n",
    "        1.0 0.0 0.0,1.0 0.0 0.0,1.0 0.0 0.0,1.0 0.0 0.0\n",
    "        0.5 0.5 0.5,0.5 0.5 0.5,0.5 0.5 0.5,0.5 0.5 0.5\n",
    "        0.5 0.0 0.5,0.5 0.0 0.5,0.5 0.0 0.5,0.5 0.0 0.5\n",
    "\n",
    "    \"\"\"\n",
    "    try:\n",
    "        # Opening the file in write mode inorder to load pixel contents onto it\n",
    "        with open(file_name, 'w') as file:\n",
    "            # Getting the count of each dimension from the shape of the image\n",
    "            # we are gonna iterate row wise and through each column\n",
    "            rows, columns, dimensions = image.shape\n",
    "            for row in range(rows):\n",
    "                # assigning a empty list to hold each row wise pixel value\n",
    "                row_pixels = []\n",
    "                for column in range(columns):\n",
    "                    # taking the particular pixel data at each row and each columnwise individually\n",
    "                    pixel_data = image[row, column, :]\n",
    "                    # As we need 3 items to be inserted in a particular entry in the 3D numpy array we use f strings with a blank space between each of them\n",
    "                    row_pixels.append(f\"{pixel_data[0]} {pixel_data[1]} {pixel_data[2]}\")\n",
    "                # once all values from a particular row has been taken they have to separated using commas and after giving a linespace for next row item\n",
    "                line = \",\".join(row_pixels) + \"\\n\"\n",
    "                file.write(line)\n",
    "        return True\n",
    "    except Exception as e:\n",
    "        # in case we get any error we are gonna print and alert ourselves.\n",
    "        print(f\"Error: {e}\")\n",
    "        return False\n",
    "\n",
    "# Testing the function to save the Queens' Building image\n",
    "result = save_image('queens_building.txt', image)\n",
    "\n",
    "# Result is a boolean variable hence testing it using if and else\n",
    "if result:\n",
    "    print(\"Image saved successfully.\")\n",
    "else:\n",
    "    print(\"Error occurred while saving the image.\")"
   ]
  },
  {
   "cell_type": "markdown",
   "id": "fbe0f685-238d-4b75-a686-fd6a0f96dded",
   "metadata": {
    "deletable": false,
    "editable": false,
    "nbgrader": {
     "cell_type": "markdown",
     "checksum": "3ad04fc4b1a6cc8fca40c4e7426a9adc",
     "grade": false,
     "grade_id": "cell-a88a44108835d2b4",
     "locked": true,
     "schema_version": 3,
     "solution": false,
     "task": false
    }
   },
   "source": [
    "### (d) Custom-format import [12 marks (incl. 2 marks for coding style)]\n",
    "\n",
    "Write the corresponding import function `load_image` that takes the name of a file in our custom image format and returns the numpy image array or `None` if an error occurs.\n",
    "Use your function to re-import the image from `queens_building.txt` and assign it to a variable `image2`.\n",
    "Verify that the original `image` and the re-imported `image2` contain the same data by checking that the brightness values of all pixels and channels agree."
   ]
  },
  {
   "cell_type": "code",
   "execution_count": null,
   "id": "3841257d-24ac-4b11-b51d-5a9ba5ee0fb4",
   "metadata": {
    "deletable": false,
    "nbgrader": {
     "cell_type": "code",
     "checksum": "9caf52ba314eeebcccb49ab8d2301ab7",
     "grade": true,
     "grade_id": "cell-2ba4c2a70e5f2144",
     "locked": false,
     "points": 12,
     "schema_version": 3,
     "solution": true,
     "task": false
    }
   },
   "outputs": [],
   "source": [
    "def load_image(file_name):\n",
    "    \"\"\"\n",
    "    The function load_image takes 1 argument which is the name of the file\n",
    "    The file name given as input is the file in our custom image format and \n",
    "    returns the numpy image array or `None` if an error occurs.\n",
    "    \"\"\"\n",
    "    try:\n",
    "        # opening the file in read only format to read the image data from it.\n",
    "        with open(file_name, 'r') as file:\n",
    "            # reading all the lines from the file\n",
    "            lines = file.readlines()\n",
    "            # no of lines is stored into rows variable\n",
    "            # no of columns of the 3d numpy matrix is stored in columns variable\n",
    "            # No of columns can be found from the first line itself as all row items are in same dimension\n",
    "            # Since they are comma separated we are spliting and striping them to know the count of columns\n",
    "            rows = len(lines)\n",
    "            columns = len(lines[0].strip().split(','))\n",
    "\n",
    "            # Initializing an empty numpy array to show the resultant image pixel values\n",
    "            # we are loading them with zeros of rows X columns with 3 items at each position\n",
    "            # each item should be a floating  value as pixel values varies from 0 to 1\n",
    "            image = np.zeros((rows, columns, 3), dtype=float)\n",
    "\n",
    "            # iterating line wise by getting the index of each line\n",
    "            for row, line in enumerate(lines):\n",
    "                # as each row item contains number of entries in comma separated manner we are spliting and striping them\n",
    "                row_pixel_values = line.strip().split(',')\n",
    "                # once fetching the individual row items we are iterating through each column along with their indices\n",
    "                for column, pixel_values in enumerate(row_pixel_values):\n",
    "                    # as each individual element is separated with a white space we are spliting them before storing them\n",
    "                    # we store them as floating data type as it varies from 0 to 1.\n",
    "                    column_rgb_values = [float(value) for value in pixel_values.split()]\n",
    "                    # assigning the obtained the 3 entries for a particular position of the matrix to our image numpy array\n",
    "                    image[row, column, :] = column_rgb_values\n",
    "\n",
    "        return image\n",
    "    except Exception as e:\n",
    "        print(f\"Error: {e}\")\n",
    "        return None\n",
    "\n",
    "# calling the function to re-import the image\n",
    "image2 = load_image('queens_building.txt')\n",
    "\n",
    "# Verification\n",
    "# We need not check each element in both the image numpy arrays.\n",
    "# numpy provides us array_equal method which compares 2 arrays for all of its elements\n",
    "# it returns true if both the arrays are identical and false if they are not\n",
    "if np.array_equal(image, image2):\n",
    "    print(\"image and image2 are same\")\n",
    "else:\n",
    "    print(\"image and image2 are different\")"
   ]
  },
  {
   "cell_type": "markdown",
   "id": "78adb8a7-74a3-4775-b2cb-2b5ea27f8f2d",
   "metadata": {
    "deletable": false,
    "editable": false,
    "nbgrader": {
     "cell_type": "markdown",
     "checksum": "1b6e8f5358bedf3a74aa4618c187bb40",
     "grade": false,
     "grade_id": "cell-6d7ef68020de5a83",
     "locked": true,
     "schema_version": 3,
     "solution": false,
     "task": false
    }
   },
   "source": [
    "## Exercise 2: Image transformations [40 marks]"
   ]
  },
  {
   "cell_type": "markdown",
   "id": "7ef3d5d3-e414-4bd3-ae2a-dc1f07c65159",
   "metadata": {
    "deletable": false,
    "editable": false,
    "nbgrader": {
     "cell_type": "markdown",
     "checksum": "435d40a7814b3c30ad8205bb825547fc",
     "grade": false,
     "grade_id": "cell-32b14dd5ecbd6fe7",
     "locked": true,
     "schema_version": 3,
     "solution": false,
     "task": false
    }
   },
   "source": [
    "In this exercise, you will explore a few ways to transform images.\n",
    "\n",
    "You will still need the previously imported image of Queens' Building. If you did not manage to import this image from the hard drive, continue to use the alternative Jupyter logo image whose definition can be found in the code cell below the paragraph starting with \"Note\" in Exercise 1b."
   ]
  },
  {
   "cell_type": "markdown",
   "id": "43d6306c-f10b-4369-8139-b391d47f5bc3",
   "metadata": {
    "deletable": false,
    "editable": false,
    "nbgrader": {
     "cell_type": "markdown",
     "checksum": "e51368fb17523490252d7127ca6bf83c",
     "grade": false,
     "grade_id": "cell-aa371ef56a1efc74",
     "locked": true,
     "schema_version": 3,
     "solution": false,
     "task": false
    }
   },
   "source": [
    "### (a) Grayscale [5 marks (incl. 1 mark for coding style)]\n",
    "\n",
    "Write a function `grayscale` that takes an image (as a numpy array as before) and converts it to a _grayscale image_. A grayscale image is an array of shape `(height, width)` whose values encode the _average brightness_ of the pixels on a scale from 0 to 1, i.e., the average over the three color channels.\n",
    "For example, assume that the color image has values\n",
    "```python\n",
    "image[3, 9, 0] = 0.25\n",
    "image[3, 9, 1] = 0.7\n",
    "image[3, 9, 2] = 1.0\n",
    "```\n",
    "corresponding to the brightnesses of the red, green, and blue channels of the pixel at $(3, 9)$.\n",
    "Then the corresponding array `image_gray` representing the grayscale value should have an entry\n",
    "`image_gray[3, 9] = 0.65`\n",
    "because $\\frac{1}{3} (0.25 + 0.7 + 1.0) = 0.65$. \n",
    "\n",
    "Use your function to obtain a grayscale version of the Queens' Building `image`, assign it to a variable `image_gray`, and display it."
   ]
  },
  {
   "cell_type": "code",
   "execution_count": null,
   "id": "25d409cd-7dfc-4cf9-a419-7bafdffe8bca",
   "metadata": {
    "deletable": false,
    "nbgrader": {
     "cell_type": "code",
     "checksum": "7d4d58e6cd22cdef200fd80f78c6fda4",
     "grade": true,
     "grade_id": "cell-8abc96da5855aad1",
     "locked": false,
     "points": 5,
     "schema_version": 3,
     "solution": true,
     "task": false
    }
   },
   "outputs": [],
   "source": [
    "def grayscale(image):\n",
    "    \"\"\"\n",
    "    The function grayscale takes 1 argument which is the 3D numpy array of an image\n",
    "    It converts the input image into its corresponding grayscale image using the following definiton.\n",
    "    A grayscale image is an array of shape (height, width) whose values encode the average brightness of the pixels on a scale from 0 to 1, \n",
    "    i.e., the average over the three color channels.\n",
    "    For example, assume that the color image has value\n",
    "    image[3, 9, 0] = 0.25\n",
    "    image[3, 9, 1] = 0.7\n",
    "    image[3, 9, 2] = 1.0\n",
    "    corresponding to the brightnesses of the red, green, and blue channels of the pixel at (3, 9).\n",
    "    Then the corresponding array image_gray representing the grayscale value should have an entry\n",
    "    image_gray[3, 9] = 0.65\n",
    "    because (0.25 + 0.7 + 1.0)/3 = 0.65 \n",
    "    \"\"\"\n",
    "    # We know that the red , green and blue channels are at the third position of a particular element.\n",
    "    # Hence it's average can be found using the standard numpy.mean method at the third position which is axis = 2 or axis = -1\n",
    "    image_gray = np.mean(image, axis = -1)\n",
    "    return image_gray\n",
    "\n",
    "# Testing the grayscale function on our Queens Building image\n",
    "image_gray = grayscale(image)\n",
    "# Displaying the output to check the result\n",
    "# Matplotlib uses the viridis colormap by default to pseudo-colorize grayscale images. \n",
    "# Explicitly using the gray colormap does produce our required output.\n",
    "plt.imshow(image_gray)\n",
    "plt.title('Pseudo - colored grayscale image')\n",
    "plt.axis('off')\n",
    "plt.show()\n",
    "\n",
    "# providing the color map as gray \n",
    "# The cmap parameter in Matplotlib is short for \"color map,\" \n",
    "# And it is used to specify the colormap for mapping the values in your image or plot to colors. \n",
    "# When you create a grayscale image (which is essentially a 2D array of intensity values), \n",
    "# using cmap='gray' specifies that you want to use a grayscale colormap.\n",
    "# In the context of displaying images, a colormap is a mapping from data values to colors. \n",
    "# The 'gray' colormap maps low values to black and high values to white, creating a grayscale image. \n",
    "# It's useful when you want to represent a single-channel image (like a grayscale image) or when you want to visualize a 2D dataset in a pseudocolor plot.\n",
    "plt.imshow(image_gray, cmap='gray')\n",
    "plt.title('Actual Grayscale Image')\n",
    "plt.axis('off')\n",
    "plt.show()\n",
    "\n",
    "\n"
   ]
  },
  {
   "cell_type": "markdown",
   "id": "53784bea-e526-48e2-9f42-6064794baa90",
   "metadata": {
    "deletable": false,
    "editable": false,
    "nbgrader": {
     "cell_type": "markdown",
     "checksum": "4f60dfe1641038c8aacff384ba672e80",
     "grade": false,
     "grade_id": "cell-5077629f00f848c2",
     "locked": true,
     "schema_version": 3,
     "solution": false,
     "task": false
    }
   },
   "source": [
    "### (b) Color rescaling (1) [10 marks (incl. 2 marks for coding style)]\n",
    "\n",
    "We can apply functions $f : [0, 1] \\to [0, 1]$ to all channels of all pixels to adjust the colors of our image.\n",
    "Consider the mapping\n",
    "\\begin{equation}\n",
    "    f(x) = (1 - \\alpha) (1 - x)^\\gamma + \\alpha x^\\gamma\n",
    "\\end{equation}\n",
    "for arbitrary $\\alpha \\in [0, 1]$ and $\\gamma > 0$.\n",
    "\n",
    "Choose four meaningful combinations of $\\alpha$ and $\\gamma$ values and verify by means of a suitable plot that this function $f(x)$ indeed maps the interval $[0, 1]$ onto itself. Add axes labels and a legend to your plot."
   ]
  },
  {
   "cell_type": "code",
   "execution_count": null,
   "id": "90db5cdf-34b0-4f15-81e0-a1cad965e0fc",
   "metadata": {
    "deletable": false,
    "nbgrader": {
     "cell_type": "code",
     "checksum": "1ef0dc871b64ff213930b6ff67e0dc2f",
     "grade": true,
     "grade_id": "cell-6243d849b3995325",
     "locked": false,
     "points": 10,
     "schema_version": 3,
     "solution": true,
     "task": false
    }
   },
   "outputs": [],
   "source": [
    "def color_rescaling(x, alpha, gamma):\n",
    "    \"\"\"\n",
    "    The function color_rescaling takes 3 arguments x,alpha and gamma\n",
    "    Returns the value (1-alpha)(1-x)^gamma + (alpha)(x^gamma)\n",
    "    \"\"\"\n",
    "    # Normal method with brackets to avoid discrepancy\n",
    "    return ((1 - alpha) * ((1 - x) ** gamma)) + (alpha * (x ** gamma))\n",
    "    # Bodmas method\n",
    "    # return (1 - alpha) * (1 - x) ** gamma + alpha * x ** gamma\n",
    "    \n",
    "\n",
    "# Creating an X axis with 100 values between 0 and 1\n",
    "x_axis = np.linspace(0, 1, 100)\n",
    "\n",
    "# Chosen four meaningful combinations of alpha and gamma values\n",
    "alphas = [0.2, 0.5, 0.7, 0.9]\n",
    "gammas = [0.5, 1.0, 2.0, 3.0]\n",
    "# alpha_values = [0.1, 0.4, 0.7, 0.95]\n",
    "# gamma_values = [0.1, 1.0, 2.0, 4.0]\n",
    "plt.figure(figsize=(15, 10))\n",
    "\n",
    "# Choosing distinct color for each color rescaling function\n",
    "colors = plt.cm.tab10(np.linspace(0, 1, len(alphas)*len(gammas)))\n",
    "\n",
    "# iterating gammawise for a value of alpha\n",
    "for alpha,color in zip(alphas,colors):\n",
    "    for gamma in gammas:\n",
    "        # for a given pixel value the rescaled value is obtained using the color_rescaling function\n",
    "        rescaled_colors = color_rescaling(x_axis, alpha, gamma)\n",
    "        # plotting each function per alpha and gamma\n",
    "        label = f'α:{alpha},γ:{gamma}'\n",
    "        plt.plot(x_axis, rescaled_colors, label=label,color = color)\n",
    "plt.title('Color rescaling')\n",
    "plt.xlabel('Original pixel value (x)')\n",
    "plt.ylabel('Rescaled versions f(x)')\n",
    "plt.legend()\n",
    "plt.grid(True)\n",
    "plt.show()\n",
    "\n",
    "# We can see the colors are similar while plotting in a  single graph\n",
    "# Hence we are plotting disitinct alpha and gamma values in small subplots \n",
    "fig, axes = plt.subplots(len(alphas), len(gammas), figsize=(15, 10))\n",
    "\n",
    "for i, alpha in enumerate(alphas):\n",
    "    for j, gamma in enumerate(gammas):\n",
    "        axis = axes[i, j]\n",
    "        rescaled_colors = color_rescaling(x_axis, alpha, gamma)\n",
    "        label = f'α:{alpha},γ:{gamma}'\n",
    "        axis.plot(x_axis, rescaled_colors, label=label, color=colors[i * len(gammas) + j])\n",
    "        axis.set_title(f'α:{alpha},γ:{gamma}')\n",
    "        axis.set_xlabel('Original pixel value (x)')\n",
    "        axis.set_ylabel('Rescaled versions f(x)')\n",
    "        axis.legend()\n",
    "        axis.grid(True)\n",
    "\n",
    "# Adjust layout to prevent overlapping\n",
    "plt.tight_layout()\n",
    "plt.show()"
   ]
  },
  {
   "cell_type": "markdown",
   "id": "0ac4dde5-41b2-44ff-aa51-dedbe730de8b",
   "metadata": {
    "deletable": false,
    "editable": false,
    "nbgrader": {
     "cell_type": "markdown",
     "checksum": "990cdb9fe944bda36e7b5d97ad81bd0a",
     "grade": false,
     "grade_id": "cell-b814fa1e8f9a5d97",
     "locked": true,
     "schema_version": 3,
     "solution": false,
     "task": false
    }
   },
   "source": [
    "### (c) Color rescaling (2) [5 marks (incl. 1 mark for coding style)]\n",
    "\n",
    "Write a Python function `rescale_colors` that applies the above rescaling transformation for given $\\alpha$ and $\\gamma$ to an image (in the form of a 3D numpy array as in Exercise 1) and returns the transformed image. Display transformed images of the Queens' Building `image` for the choices $\\alpha = 0$, $\\gamma = 1$ and $\\alpha = 1$, $\\gamma = 2$."
   ]
  },
  {
   "cell_type": "code",
   "execution_count": null,
   "id": "65dd1a35-7b37-434b-b138-eb824e457944",
   "metadata": {
    "deletable": false,
    "nbgrader": {
     "cell_type": "code",
     "checksum": "28d2173846f5d99d6c5dd2b45e5b74e6",
     "grade": true,
     "grade_id": "cell-d89cdbbc2eadf2a9",
     "locked": false,
     "points": 5,
     "schema_version": 3,
     "solution": true,
     "task": false
    }
   },
   "outputs": [],
   "source": [
    "def rescale_colors(image, alpha, gamma):\n",
    "    # Redefining our color_rescaling function instead of the x argument we take the image\n",
    "    # Avoiding the duplication of function description\n",
    "    # Bodmas method\n",
    "    # rescaled_image = (1 - alpha) * (1 - image) ** gamma + alpha * image ** gamma\n",
    "    # to avoid any discrepancy\n",
    "    rescaled_image = ((1 - alpha) * ((1 - image) ** gamma)) + (alpha * (image ** gamma))\n",
    "    return rescaled_image\n",
    "\n",
    "# Providing the test values of alpha and gamma\n",
    "# alpha1, gamma1 = 0, 1\n",
    "# alpha2, gamma2 = 1, 2\n",
    "alphas = [0, 1]\n",
    "gammas = [1, 2]\n",
    "\n",
    "# Getting two rescaled images based on the given values of alpha and gamma\n",
    "rescaled_image1 = rescale_colors(image, alphas[0], gammas[0])\n",
    "rescaled_image2 = rescale_colors(image, alphas[1], gammas[1])\n",
    "\n",
    "# Display the transformed images\n",
    "plt.figure(figsize=(12, 6))\n",
    "\n",
    "plt.subplot(1, 3, 1)\n",
    "plt.imshow(image)\n",
    "plt.title('Original Image')\n",
    "plt.axis('off')\n",
    "\n",
    "plt.subplot(1, 3, 2)\n",
    "plt.imshow(rescaled_image1)\n",
    "plt.title(f'Rescaled Image\\nα:{alphas[0]}, γ:{gammas[0]}')\n",
    "plt.axis('off')\n",
    "\n",
    "plt.subplot(1, 3, 3)\n",
    "plt.imshow(rescaled_image2)\n",
    "plt.title(f'Rescaled Image\\nα:{alphas[1]}, γ:{gammas[1]}')\n",
    "plt.axis('off')\n",
    "\n",
    "plt.show()"
   ]
  },
  {
   "cell_type": "markdown",
   "id": "6216d293-be1e-4043-bee1-74ff74463112",
   "metadata": {
    "deletable": false,
    "editable": false,
    "nbgrader": {
     "cell_type": "markdown",
     "checksum": "7ef348b452bc099062a0f699b3d53f64",
     "grade": false,
     "grade_id": "cell-4ff11ded92ecc195",
     "locked": true,
     "schema_version": 3,
     "solution": false,
     "task": false
    }
   },
   "source": [
    "### (d) Color rescaling (3) [5 marks]\n",
    "\n",
    "Comment on the meaning/role of the parameters $\\alpha$ and $\\gamma$. (You might want to explore further combinations of $\\alpha$ and $\\gamma$ to get an idea of what they do.)\n",
    "\n",
    "**Type your answer in the following Markdown cell.**"
   ]
  },
  {
   "cell_type": "markdown",
   "id": "9c84337b-0a51-4f9f-8ee6-f03ddd849c5b",
   "metadata": {
    "deletable": false,
    "nbgrader": {
     "cell_type": "markdown",
     "checksum": "4030e6b2c29981458e7d6698eba10bd9",
     "grade": true,
     "grade_id": "cell-637d940951967d65",
     "locked": false,
     "points": 5,
     "schema_version": 3,
     "solution": true,
     "task": false
    }
   },
   "source": [
    "Alpha : \n",
    "    Alpha lies in the range [0,1]. \n",
    "    When alpha = 0 , only (1-x)^(gamma) term is there and it preserves the darker colors as 1-x is close to dark colors.\n",
    "    When alpha = 1 , only x^gamma term is there and it helps to brighten the image.\n",
    "\n",
    "Gamma : \n",
    "    Gamma is given a value of > 0.\n",
    "    When gamma > 1 it increases the intensities of brighter and darker pixels leading to high contrast images.\n",
    "    When gamma < 1 and > 0 it increases the intensities of mid range pixels leading to low contrast images.\n",
    "    When gamma = 1 , there is no change."
   ]
  },
  {
   "cell_type": "markdown",
   "id": "06295a65-1efa-4fa6-ab0c-6d4fa5d8c434",
   "metadata": {
    "deletable": false,
    "editable": false,
    "nbgrader": {
     "cell_type": "markdown",
     "checksum": "1fa671cdfadd68112ff73d7bfc00f7be",
     "grade": false,
     "grade_id": "cell-bfaf8aaeb83977af",
     "locked": true,
     "schema_version": 3,
     "solution": false,
     "task": false
    }
   },
   "source": [
    "### (e) Blur filter [15 marks (incl. 3 marks for coding style)]\n",
    "\n",
    "Write a function `blur` that takes an image and returns a blurred version of it. The blur filter should work as follows: The color of each pixel is replaced by a _weighted average_ over the colors of the pixel itself and neighboring pixels within a specified _radius_ $r$. Use the Euclidean distance to determine which neighboring pixels should be included.\n",
    "The _relative weight_ of a pixel at a distance $d$ from the current pixel should be $\\frac{r - d}{r}$. The absolute weight of a pixel is its relative weight divided by the sum of the relative weights of all contributing pixels, i.e., all pixels within the radius $r$.\n",
    "\n",
    "For example, if the central pixel is at position $C = (3, 7)$,\n",
    "then the distance to a second pixel at position $B = (1, 4)$ is\n",
    "\\begin{equation}\n",
    "    d(B, C) = \\sqrt{ (B_1 - C_1)^2 + (B_2 - C_2)^2 } = \\sqrt{ (1 - 3)^2 + (4 - 7)^2 } = \\sqrt{13} \\approx 3.6 \\,.\n",
    "\\end{equation}\n",
    "Hence the pixel at $B$ is within a radius of $r = 4$ from $C$, but outside a radius of $r = 3$.\n",
    "If the radius is $r = 4$, for example, then the relative weight of the pixel at $B$ in the average to determine the value at position $C$ should be\n",
    "\\begin{equation}\n",
    "    \\frac{r-d}{r} = \\frac{4 - \\sqrt{13}}{4} \\approx 0.0986 \\,.\n",
    "\\end{equation}\n",
    "\n",
    "Generate blurred versions of the Queens' Building `image` with radii $r = 2$ and $r = 4$ and display them along with the original image in a suitable plot.\n",
    "\n",
    "**Note:** The code you will need to write to solve this task might take some time to execute. It takes 25-30 seconds to run my solution on my laptop. If you like, you can test your solution with the smaller `jupyter_logo.txt` image from the notebook folder, which is in our custom text-based format as well (so you should be able to import it using your `load_image` function from Exercise 1d)."
   ]
  },
  {
   "cell_type": "code",
   "execution_count": null,
   "id": "53c14fd5-8c4a-4e04-9b75-2566b780ca8f",
   "metadata": {
    "deletable": false,
    "nbgrader": {
     "cell_type": "code",
     "checksum": "3ee58383e9d1c7bc552f0ea9285bbad3",
     "grade": true,
     "grade_id": "cell-d259d7fab88564f7",
     "locked": false,
     "points": 15,
     "schema_version": 3,
     "solution": true,
     "task": false
    }
   },
   "outputs": [],
   "source": [
    "def blur(image, radius):\n",
    "    \"\"\" \n",
    "    The fuction blur takes 2 arguments\n",
    "    1st one is the image which is the 3D numpy array\n",
    "    2nd one is the radius and the blur filter works as follows,\n",
    "    the color of each pixel is replaced by a weighted average over the colors of \n",
    "    the pixel itself and neighboring pixels within the specified radius\n",
    "    It uses the Euclidean distance to determine which neighboring pixels should be included.\n",
    "    The relative weight of a pixel at a distance d from the current pixel should be (r - d)/r. \n",
    "    The absolute weight of a pixel is its relative weight divided by the sum of the relative weights of all contributing pixels,\n",
    "    i.e., all pixels within the radius r.\n",
    "    For example, if the central pixel is at a position C = (3, 7),\n",
    "    then the distance to a second pixel at a position B = (1, 4) is approximately 3.6 as per Euclidean distance.\n",
    "    Hence the pixel at B is within a radius of 4 from C and outside a radius of 3\n",
    "    If the radius is r = 4, then the relative weight of the pixel at B in the average to determine the value at position C should be approximately 0.0986\n",
    "    \"\"\"\n",
    "    # Getting the count of each dimension from the shape of the image\n",
    "    \n",
    "    rows, columns, dimensions = image.shape\n",
    "    # Creating an empty numpy zero arrays for returning the output\n",
    "    # The returning array should be of type float as we contain floating point pixel values too.\n",
    "    blurred_version_output = np.zeros_like(image, dtype=float)\n",
    "    # we are gonna iterate row wise and through each column\n",
    "    for i in range(rows):\n",
    "        for j in range(columns):\n",
    "            # predefining a total weight variable which we will gets added with itself for a particular column values of a particular row\n",
    "            total_weight = 0.0\n",
    "            # predefining a pixel value variable with a 3D numpy array which takes floating point values.\n",
    "            # this pixel value is the replacing pixel value per column for the new blurred version of image\n",
    "            pixel_value = np.zeros(3, dtype=float)\n",
    "            # For a particular pixel we need to go within the radius mentioned\n",
    "            # also we need to go beyond the floor value of the distance from the center pixel\n",
    "            # to simplify we if the Euclidean distance as per the function definition is 3.6,\n",
    "            # we should take all the pixels within the radius 3 to 4 for the weighted average calculation\n",
    "            # Hence the following range contains the starting from max between 0 and the difference between the ith row/ jth column and radius\n",
    "            # The range ends at the min between the total number rows/columns and the sum of radius and ith row / jth column + 1 for the inclusion of the index\n",
    "            for x in range(max(0, i - radius), min(rows, i + radius + 1)):\n",
    "                for y in range(max(0, j - radius), min(columns, j + radius + 1)):\n",
    "                    # calculating the euclidean distance using the standard formula\n",
    "                    Euclidean_distance = np.sqrt((i - x)**2 + (j - y)**2)\n",
    "                    # calculating the weight as per the formula\n",
    "                    # weight = (radius - distance) / radius\n",
    "                    # as we are getting the below warning if we dont neglect the negative values for the value of (r-d)\n",
    "                    # Clipping input data to the valid range for imshow with RGB data ([0..1] for floats or [0..255] for integers).\n",
    "                    # Hence we take the value of 0 if the weight goes below zero for a particular radius and distance\n",
    "                    weight = max(0, radius - Euclidean_distance) / radius\n",
    "                    # adding up the total relative weights per column\n",
    "                    total_weight += weight\n",
    "                    # redifining the pixel value inorder to blur it\n",
    "                    pixel_value += weight * image[x, y, :]\n",
    "            # once each column pixel value is found it is divided by the total relative weight for the process of blurring\n",
    "            blurred_version_output[i, j, :] = pixel_value / total_weight\n",
    "\n",
    "    return blurred_version_output\n",
    "\n",
    "# Load the Jupyter Logo image\n",
    "# Use your load_image function with the appropriate file name\n",
    "# For example:\n",
    "# image = load_image('jupyter_logo.txt')\n",
    "\n",
    "\n",
    "# Testing the blur function with radius r=2\n",
    "Blur_Test_2 = blur(image, radius=2)\n",
    "\n",
    "# Testing the blur function with radius r=4\n",
    "Blur_Test_4 = blur(image, radius=4)\n",
    "\n",
    "# Display the original image, and the blurred images with r=2 and r=4\n",
    "plt.figure(figsize=(12, 6))\n",
    "\n",
    "plt.subplot(1, 3, 1)\n",
    "plt.imshow(image)\n",
    "plt.title('Original Image')\n",
    "plt.axis('off')\n",
    "\n",
    "plt.subplot(1, 3, 2)\n",
    "plt.imshow(Blur_Test_2)\n",
    "plt.title('Blurred version (r=2)')\n",
    "plt.axis('off')\n",
    "\n",
    "plt.subplot(1, 3, 3)\n",
    "plt.imshow(Blur_Test_4)\n",
    "plt.title('Blurred version (r=4)')\n",
    "plt.axis('off')\n",
    "\n",
    "plt.show()"
   ]
  },
  {
   "cell_type": "markdown",
   "id": "70786c3b-32e3-4b20-a011-cead3383a050",
   "metadata": {
    "deletable": false,
    "editable": false,
    "nbgrader": {
     "cell_type": "markdown",
     "checksum": "c3cd411d3e17c0e97ab93c8b182edd70",
     "grade": false,
     "grade_id": "cell-b94475040546ab03",
     "locked": true,
     "schema_version": 3,
     "solution": false,
     "task": false
    }
   },
   "source": [
    "## Exercise 3: Color distributions [30 marks]"
   ]
  },
  {
   "cell_type": "markdown",
   "id": "7c8be36e-e70c-42a6-b157-039f234745f5",
   "metadata": {
    "deletable": false,
    "editable": false,
    "nbgrader": {
     "cell_type": "markdown",
     "checksum": "88d2314bcad89c4e285490e76ff52148",
     "grade": false,
     "grade_id": "cell-28ac548fe02e4b73",
     "locked": true,
     "schema_version": 3,
     "solution": false,
     "task": false
    }
   },
   "source": [
    "In this exercise, you will analyze some statistical properties of images."
   ]
  },
  {
   "cell_type": "markdown",
   "id": "f0a81c05-fbc9-4ccd-897d-486d03382ca2",
   "metadata": {
    "deletable": false,
    "editable": false,
    "nbgrader": {
     "cell_type": "markdown",
     "checksum": "1cc1f82dc83071df95699560202ca961",
     "grade": false,
     "grade_id": "cell-8a1cec0ae3c865d8",
     "locked": true,
     "schema_version": 3,
     "solution": false,
     "task": false
    }
   },
   "source": [
    "### (a) Histograms for individual channels [10 marks (incl. 2 marks for coding style)]\n",
    "\n",
    "Generate and display histograms for the R, G, and B channels over all pixels of the Queens' Building `image`.\n",
    "Add suitable labels for the x and y axes and a title for each plot."
   ]
  },
  {
   "cell_type": "code",
   "execution_count": null,
   "id": "800a167a-e675-4a95-a608-1374885cafe7",
   "metadata": {
    "deletable": false,
    "nbgrader": {
     "cell_type": "code",
     "checksum": "88ff6f65b70583f485fbd20ed391da13",
     "grade": true,
     "grade_id": "cell-bf8c0ed0c298b199",
     "locked": false,
     "points": 10,
     "schema_version": 3,
     "solution": true,
     "task": false
    }
   },
   "outputs": [],
   "source": [
    "# We can find out the frequencies of the each pixel values of a particular color channel using the flatten method of numpy library\n",
    "# Flatten each channel for histogram calculation\n",
    "# The flatten() method in NumPy is used to return a flattened copy of a multi-dimensional array. \n",
    "# When applied to an n-dimensional array, flatten() collapses the array into a one-dimensional array by iterating over all elements in row-major order.\n",
    "red_channel = image[:, :, 0].flatten()\n",
    "green_channel = image[:, :, 1].flatten()\n",
    "blue_channel = image[:, :, 2].flatten()\n",
    "# Plotting histograms for each channel\n",
    "plt.figure(figsize=(15, 5))\n",
    "# Histogram of the red channel\n",
    "plt.subplot(1, 3, 1)\n",
    "# plotting histogram without bins doesnt show the spread of the pixel intensities\n",
    "# hence we are plotting with histogram with 256 bins which is nothing but a 8 bit one\n",
    "#plt.hist(red_channel,  color='red')\n",
    "plt.hist(red_channel, bins=256, color='red')\n",
    "plt.title('Red Channel Histogram')\n",
    "plt.xlabel('Intensity of red shades')\n",
    "plt.ylabel('Frequency / count')\n",
    "\n",
    "# Histogram of the green channel\n",
    "plt.subplot(1, 3, 2)\n",
    "# plotting histogram without bins doesnt show the spread of the pixel intensities\n",
    "# hence we are plotting with histogram with 256 bins which is nothing but a 8 bit one\n",
    "#plt.hist(green_channel, color='green')\n",
    "plt.hist(green_channel, bins=256, color='green')\n",
    "plt.title('Green Channel Histogram')\n",
    "plt.xlabel('Intensity of green shades')\n",
    "plt.ylabel('Frequency / count')\n",
    "\n",
    "# Histogram of the blue channel\n",
    "plt.subplot(1, 3, 3)\n",
    "# plotting histogram without bins doesnt show the spread of the pixel intensities\n",
    "# hence we are plotting with histogram with 256 bins which is nothing but a 8 bit one\n",
    "#plt.hist(blue_channel, color='blue')\n",
    "plt.hist(blue_channel, bins=256, color='blue')\n",
    "plt.title('Blue Channel Histogram')\n",
    "plt.xlabel('Intensity of blue shades')\n",
    "plt.ylabel('Frequency / count')\n",
    "\n",
    "plt.tight_layout()\n",
    "plt.show()"
   ]
  },
  {
   "cell_type": "markdown",
   "id": "b10b8fd0-4d0d-49d8-bad4-c3f6684046e9",
   "metadata": {
    "deletable": false,
    "editable": false,
    "nbgrader": {
     "cell_type": "markdown",
     "checksum": "9ddec65b08d31288807a84a781843c9e",
     "grade": false,
     "grade_id": "cell-891b3f780cfe02db",
     "locked": true,
     "schema_version": 3,
     "solution": false,
     "task": false
    }
   },
   "source": [
    "### (b) Dominant colors [10 marks (incl. 2 marks for coding style)]\n",
    "\n",
    "Write a function `color_frequencies` that returns the relative frequencies of (classes of) colors in an image.\n",
    "\n",
    "**Arguments:**\n",
    "Besides the image (as a 3D numpy array as before), the function `color_frequencies` should take one more argument `num_levels` which determines how many different levels of brightness should be distinguished in every channel. For example, if `num_levels = 4`, then you should have 4 different classes or \"bins\" per color channel, hence a total of $4^3 = 64$ different \"fundamental colors classes\" that are distiguished.\n",
    "\n",
    "To avoid ambiguities, first rescale the brightness values of all pixels and channels by multiplying them by $255$ and rounding them to the nearest integer.\n",
    "This will result in a numpy array of integer values in the range $0, ..., 255$.\n",
    "These are the _byte values_ of the channels, and the color class of each pixel should be determined based on these byte values.\n",
    "This means that, for each channel, the full range of 256 byte values should be subdivided into `num_levels` intervals or \"bins\" comprising an equal number of byte values (plus/minus 1 given the discrete nature of the byte values).\n",
    "\n",
    "**Example:**\n",
    "Assume that we have an image with the following absolute frequencies of colors (after rescaling):\n",
    "\n",
    "| color (R, G, B) | number of pixels of that color |\n",
    "|---|---|\n",
    "| `(  0,   0,   0)` | 10 |\n",
    "| `( 25,  25,   0)` | 5 |\n",
    "| `(155, 230, 100)` | 5 |\n",
    "| `(230, 205,  50)` | 5 |\n",
    "| `(255,   0, 255)` | 15 |\n",
    "\n",
    "Using `num_levels = 2`, we only distinguish two brightness levels per channel: \"dark\" (D) takes all values in $[0, 128)$ and \"light\" (L) takes all values in $[128, 256)$. Adding a column that indicates the brightness levels for each channel of each color, we can augment the table as follows:\n",
    "\n",
    "| color (R, G, B) | brightness levels (R, G, B) | number of pixels of that color |\n",
    "|---|---|---|\n",
    "| `(  0,   0,   0)` | (D, D, D) | 10 |\n",
    "| `( 25,  25,   0)` | (D, D, D) | 5 |\n",
    "| `(155, 230, 100)` | (L, L, D) | 5 |\n",
    "| `(230, 205,  50)` | (L, L, D) | 5 |\n",
    "| `(255,   0, 255)` | (L, D, L) | 15 |\n",
    "\n",
    "This identifies three different color classes in our image:\n",
    "`(D, D, D)` receives a total of `15` counts from pixels of colors `(0, 0, 0)` and `(25, 25, 0)`;\n",
    "`(L, L, D)` receives a total of `10` counts from pixels of colors `(155, 230, 100)` and `(230, 205, 50)`;\n",
    "and `(L, D, L)` receives a total of `15` counts from just the pixels of color `(255, 0, 255)`.\n",
    "\n",
    "**Return value:**\n",
    "The function `color_frequencies` should return two lists of equal length:\n",
    "The first list contains the _mean colors_ of the various classes and the second list contains the corresponding _relative frequencies_ of colors from each class.\n",
    "Note that the order of the classes does not matter, but the mean colors and frequencies must be in one-to-one correspondence, i.e., the first frequency must correspond to the first mean color, the second frequency to the second mean color, and so on.\n",
    "The mean color should have brightness values scaled back to $[0, 1]$ and is the average over all colors that would be mapped to the class, not over the colors that can actually be found in the image.\n",
    "\n",
    "For instance, the mean color of the class `(D, D, D)` in the example from above is `(63.5, 63.5, 63.5)` in the byte scale and thus `(0.25, 0.25, 0.25)` in the float scale (rounded to two decimal places),\n",
    "the mean color of the `(L, L, D)` class is `(191.5, 191.5, 63.5)` in the byte scale and thus `(0.75, 0.75, 0.25)` in the float scale (rounded to two decimal places),\n",
    "and the mean color of the `(L, D, L)` class is `(191.5, 63.5, 191.5` in the byte scale and thus `(0.75, 0.25, 0.75)` in the float scale (rounded to two decimal places).\n",
    "Since the corresponding relative frequencies are $\\frac{15}{40} = 0.375$, $\\frac{10}{40} = 0.25$, and $\\frac{15}{40} = 0.375$ as determined above,\n",
    "the overall return value of `color_frequencies` in this example should be (mean colors rounded to two decimal places)\n",
    "```python\n",
    "[ [0.25, 0.25, 0.25], [0.75, 0.75, 0.25], [0.75, 0.25, 0.75] ], [0.375, 0.25, 0.375]\n",
    "```"
   ]
  },
  {
   "cell_type": "code",
   "execution_count": null,
   "id": "1ab869bd-3a73-4276-899c-70801a26e092",
   "metadata": {
    "deletable": false,
    "nbgrader": {
     "cell_type": "code",
     "checksum": "2b3af4fcea60aeb6273ed244806e37f6",
     "grade": true,
     "grade_id": "cell-2438ed12103e84f2",
     "locked": false,
     "points": 10,
     "schema_version": 3,
     "solution": true,
     "task": false
    }
   },
   "outputs": [],
   "source": [
    "def color_frequencies(image, num_levels):\n",
    "    \"\"\"\n",
    "    The function color_frequencies takes 2 arguments \n",
    "    First one is our 3d numpy image array\n",
    "    Second one is the number of levels (num_levels) which determines how many different levels of brightness should be distinguished in every channel\n",
    "    For example, if `num_levels = 4, then we should have 4 different classes or \"bins\" per color channel\n",
    "    Hence a total of 4^3 = 64 different \"fundamental colors classes\" that are distiguished\n",
    "    The Function returns the relative frequencies of (classes of) colors in an image.\n",
    "    \"\"\"\n",
    "    # Rescale brightness values to the range [0, 255] and round to the nearest integer\n",
    "    # we can just rescale it from 0,1 to 0,255 and convert it into a byte datatype or we can leave it as such as an floating point value\n",
    "    # here we are converting it into a byte as 0-255 indicates its a 8 bit value which is obviously one byte\n",
    "    # byte_image = np.round(image * 255).astype(np.uint8)\n",
    "    byte_image = np.round(image * 255)\n",
    "\n",
    "    # Define bin edges for each channel\n",
    "    bin_edges = np.linspace(0, 256, num_levels + 1, endpoint=True)\n",
    "    # This creates the number of intervals within 0 and 255 based on the number of levels\n",
    "    # for example for a 4 number of levels\n",
    "    # [  0.  64. 128. 192. 256.]\n",
    "\n",
    "    # Assigning channel wise indices for bins for each of the color channels\n",
    "    # this numpy array is an exact copy of the byte converted original image but with 0s everywhere\n",
    "    # this will be used as our resulting numpy array containing the redefined the channel pixel values within each bin boundaries.\n",
    "    bin_indices = np.zeros_like(byte_image, dtype=int)\n",
    "\n",
    "    for i in range(3):\n",
    "        for j in range(num_levels):\n",
    "            # we use the following convention\n",
    "            # bin_indices[..., i] is a NumPy notation that refers to a specific column or channel (i) within the last axis of the bin_indices array. \n",
    "            # The ellipsis (...) is a shorthand in NumPy to represent multiple colons : \n",
    "            # and is used when you want to specify indices along all axes except the specified axis.\n",
    "            # using the binindices numpy array each pixel in each color channel is assigned to its corresponding index of the bin \n",
    "            # This is based on the brightness provided by the number of levels\n",
    "            bin_indices[..., i] += ((byte_image[..., i] >= bin_edges[j]) & (byte_image[..., i] < bin_edges[j + 1])) * j\n",
    "            # We can split the above code like, byte_image[..., i]: Selects the pixel values for the current color channel i for all pixels in the image.\n",
    "            # ((byte_image[..., i] >= bin_edges[j]) & (byte_image[..., i] < bin_edges[j + 1])): \n",
    "            # This condition checks whether the pixel values lie within the range of the current brightness level (bin). \n",
    "            # It creates a boolean mask where True indicates that the pixel value is within the specified range.\n",
    "            # * j: The resulting boolean mask is then multiplied by j (the current brightness level). \n",
    "            # This effectively assigns the brightness level index (j) to the pixels that satisfy the condition and\n",
    "            #  sets the index to 0 for pixels outside the range.\n",
    "            # bin_indices[..., i] += ...: \n",
    "            # Adds the calculated brightness level indices to the corresponding pixels in the bin_indices array for the current color channel.\n",
    "\n",
    "\n",
    "    # Combine bin indices to create unique class indices for each pixel\n",
    "    # we combine the bin indices for each color channel (R, G, B) into a single unique class index for each pixel. \n",
    "    # formula used is similar to converting a base-N number to base-10, where num_levels is the base.\n",
    "    # we are creating a unique identifier for each \"class\" based on the bin indices of the color channels.\n",
    "    #  class_index = Red * num_levels^2 + Green * num_levels + Blue (as it is RGB we follow this order)\n",
    "    \n",
    "    class_indices = bin_indices[..., 0] * num_levels**2 + bin_indices[..., 1] * num_levels + bin_indices[..., 2]\n",
    "\n",
    "    # Count the occurrences of each class\n",
    "    # we initialize an array class_counts of size which is equal to num_levels**3 (total possible classes) filled with zeros.\n",
    "    # we will be using this zero array to count the occurrences of each class.\n",
    "    class_counts = np.zeros(num_levels**3, dtype=int)\n",
    "\n",
    "\n",
    "    # we loop loop through each pixel's class index\n",
    "    # for this process , flattening is done to simplify the loop basically linearize like a vector which we saw earlier in the same notebook file. \n",
    "    # For each unique and individual class indices, it increments the count whenever we encounter it in the class_counts array .\n",
    "    # we can also use a dictionairy for the same\n",
    "    for index in class_indices.flatten():\n",
    "        class_counts[index] += 1\n",
    "\n",
    "    # initializing mean colors and relative frequencies variables as empty lists which we will populate accordingly\n",
    "    mean_colors = []\n",
    "    relative_frequencies = []\n",
    "\n",
    "\n",
    "    #we need to iterate over each element (which is the counts of each classes) in the class_counts array along with its index index.\n",
    "    for index, count in enumerate(class_counts):\n",
    "        # only color classes with at least one occurrence in the image are considered. \n",
    "        # if the count is zero, the class does not appear in the image which we can skip\n",
    "        if count > 0:\n",
    "            # Converting class indices back into bin indices\n",
    "            # preparing calculations to extract the original bin indices for each color channel (R, G, B).\n",
    "            # its just like getting a digit of a particular num_level\n",
    "            i = index // (num_levels**2)\n",
    "            j = (index % (num_levels**2)) // num_levels\n",
    "            k = index % num_levels\n",
    "\n",
    "            # Calculate mean color (in byte scale)\n",
    "            # we add a half (0.5) to each of the bin indeices\n",
    "            # doing this effectively moves the value from the lower edge of the bin to its midpoint\n",
    "            # multiplying by  256 / num_levels scales this midpoint value to the original pixel value range (0 to 255).\n",
    "            mean_color_byte = np.array([(i + 0.5) * 256 / num_levels, (j + 0.5) * 256 / num_levels, (k + 0.5) * 256 / num_levels], dtype=np.uint8)\n",
    "            # the calculated mean color is pushed to the output mean_colors list after scaling its values to the [0, 1] range\n",
    "            # for this we need to divide it again by 255\n",
    "            mean_colors.append(mean_color_byte / 255)\n",
    "\n",
    "            # Calculating relative frequency\n",
    "            # the relative frequency of the color class is found by dividing the count (number of occurrences) by the total number of pixels in the image.\n",
    "            # we again use the flatten method to make the image 3d numpy array into a single 1d array so that we know the total number of pixels\n",
    "            relative_frequency = count / len(image.flatten())\n",
    "            # once the relative frequency is found for a particular entry we are pushing it into the resultant the output relative_frequencies list\n",
    "            relative_frequencies.append(relative_frequency)\n",
    "    \n",
    "    return mean_colors, relative_frequencies\n",
    "\n",
    "# Testing the function on our images\n",
    "# image_test = load_image('jupyter_logo.txt')\n",
    "num_levels = 4\n",
    "mean_colors, relative_frequencies = color_frequencies(image, num_levels)\n",
    "\n",
    "# Display the results\n",
    "for mean_color, frequency in zip(mean_colors, relative_frequencies):\n",
    "    print(f\"Mean Color: {np.round(mean_color, 2)}, Relative Frequency: {np.round(frequency, 3)}\")\n",
    "\n",
    "\n",
    "\n",
    "# # Example usage\n",
    "# num_levels = 4\n",
    "# mean_colors, relative_frequencies = color_frequencies(image, num_levels)\n",
    "\n",
    "# # Display the results\n",
    "# for mean_color, frequency in zip(mean_colors, relative_frequencies):\n",
    "#     print(f\"Mean Color: {np.round(mean_color, 2)}, Relative Frequency: {np.round(frequency, 3)}\")\n"
   ]
  },
  {
   "cell_type": "markdown",
   "id": "46486953-6f91-47e3-9cd1-df66aad6531e",
   "metadata": {
    "deletable": false,
    "editable": false,
    "nbgrader": {
     "cell_type": "markdown",
     "checksum": "55295b8ae1960e7073905fc155c161d4",
     "grade": false,
     "grade_id": "cell-55550a2eacc9b61c",
     "locked": true,
     "schema_version": 3,
     "solution": false,
     "task": false
    }
   },
   "source": [
    "### (c) Sorting and visualization [10 marks (incl. 2 marks for coding style)]\n",
    "\n",
    "Use your function `color_frequencies` to extract the color classes and frequencies of the Queens' Building image using 4 levels per channel. Sort the color classes by their frequency and find a suitable visualization.\n",
    "\n",
    "**Note:** If you did not manage to write a working `color_frequencies` function, you can uncomment the second and third lines of the subsequent code cell. They define the mean colors and their frequencies for the `jupyter_logo.txt` image in the notebook folder using 3 levels, which you can use instead for sorting and visualization."
   ]
  },
  {
   "cell_type": "code",
   "execution_count": null,
   "id": "1e041dee-7e18-426f-ae5a-e3b1c4b1f49b",
   "metadata": {
    "deletable": false,
    "nbgrader": {
     "cell_type": "code",
     "checksum": "db6c634356e82d384a212d1759b028e5",
     "grade": true,
     "grade_id": "cell-3f076d6bc3ddf8ca",
     "locked": false,
     "points": 10,
     "schema_version": 3,
     "solution": true,
     "task": false
    }
   },
   "outputs": [],
   "source": [
    "# Uncomment the following two lines of code if you did not find a working color_frequencies function in part (b).\n",
    "#mean_colors = [np.array([0.83333333, 0.83333333, 0.83333333]), np.array([0.5, 0.5, 0.5]), np.array([0.83333333, 0.83333333, 0.5 ]), np.array([0.83333333, 0.5, 0.5 ]), np.array([0.83333333, 0.5, 0.16666667]), np.array([0.16666667, 0.16666667, 0.16666667])]\n",
    "#frequencies = [0.7706243032330395, 0.05671683389074722, 0.004738015607580824, 0.00933667781493868, 0.1346153846153835, 0.02396878483835]\n",
    "\n",
    "# we determine the number of classes which can be found from the total length of the relative_frequncies list\n",
    "class_count = len(relative_frequencies)\n",
    "# we use bubble sort for sorting\n",
    "# outer loop iterates over the indices of the classes \n",
    "# the -1 ensures that we don't go beyond the last element during comparisons\n",
    "for i in range(class_count - 1):\n",
    "    # inner loop iterates over the elements in the unsorted part of the list. \n",
    "    # (num_classes - i - 1) ensures that we only compare elements that are not in their final sorted positions\n",
    "    for j in range(0, class_count - i - 1):\n",
    "        # check if the current element is smaller than the next element\n",
    "        if relative_frequencies[j] < relative_frequencies[j + 1]:            \n",
    "            # if the condition is true, swap the elements to move the larger element towards the beginning of the list \n",
    "            # repeat the same for both relative frequencies and mean colors       \n",
    "            relative_frequencies[j], relative_frequencies[j + 1] = relative_frequencies[j + 1], relative_frequencies[j]\n",
    "            mean_colors[j], mean_colors[j + 1] = mean_colors[j + 1], mean_colors[j]\n",
    "            # swapping ensures that the larger elements \"bubble up\" toward the beginning of the list\n",
    "\n",
    "# Output in bar graph\n",
    "bar_width = 0.8\n",
    "\n",
    "\n",
    "\n",
    "plt.figure(figsize=(12, 6))\n",
    "for i in range(class_count):\n",
    "    plt.bar(i, relative_frequencies[i], color=mean_colors[i], width=bar_width, edgecolor='black')\n",
    "\n",
    "plt.title('Dominant Color Classes and Frequencies')\n",
    "plt.xlabel('Color Class')\n",
    "plt.ylabel('Relative Frequency')\n",
    "plt.xticks(range(class_count))\n",
    "plt.show()\n",
    "\n",
    "for i in range(class_count):\n",
    "    plt.plot([], [], color=mean_colors[i], label=f'Color {i + 1}')\n",
    "\n",
    "# Set legend position and title\n",
    "plt.legend(loc='upper left', bbox_to_anchor=(1, 1))\n",
    "plt.title('Legend for Dominant Color Classes')\n",
    "\n",
    "# Hide axes for legends-only plot\n",
    "plt.axis('off')\n",
    "\n",
    "# Show the legends-only plot\n",
    "plt.show()"
   ]
  },
  {
   "cell_type": "code",
   "execution_count": null,
   "id": "70141e96",
   "metadata": {},
   "outputs": [],
   "source": []
  }
 ],
 "metadata": {
  "kernelspec": {
   "display_name": "Python 3 (ipykernel)",
   "language": "python",
   "name": "python3"
  },
  "language_info": {
   "codemirror_mode": {
    "name": "ipython",
    "version": 3
   },
   "file_extension": ".py",
   "mimetype": "text/x-python",
   "name": "python",
   "nbconvert_exporter": "python",
   "pygments_lexer": "ipython3",
   "version": "3.11.7"
  }
 },
 "nbformat": 4,
 "nbformat_minor": 5
}
